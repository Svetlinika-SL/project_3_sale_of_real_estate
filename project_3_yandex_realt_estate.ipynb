{
 "cells": [
  {
   "cell_type": "markdown",
   "metadata": {},
   "source": [
    "# Исследование объявлений о продаже квартир\n",
    "\n",
    "В вашем распоряжении данные сервиса Яндекс.Недвижимость — архив объявлений о продаже квартир в Санкт-Петербурге и соседних населённых пунктов за несколько лет. Нужно научиться определять рыночную стоимость объектов недвижимости. Ваша задача — установить параметры. Это позволит построить автоматизированную систему: она отследит аномалии и мошенническую деятельность. \n",
    "\n",
    "По каждой квартире на продажу доступны два вида данных. Первые вписаны пользователем, вторые — получены автоматически на основе картографических данных. Например, расстояние до центра, аэропорта, ближайшего парка и водоёма. "
   ]
  },
  {
   "cell_type": "markdown",
   "metadata": {},
   "source": [
    "***Цель исследования*** - установить параметры, влияющие на рыночную стоимость объектов недвижимости.  \n",
    "\n",
    "***Исходные данные*** - данные сервиса «Яндекс.Недвижимость» (архив объявлений о продаже квартир в Санкт-Петербурге и соседних населённых пунктах за несколько лет).  \n",
    "\n",
    "***Ход исследования:***\n",
    "\n",
    "Сколько времени занимает продажа квартиры? Когда продажу можно назвать быстрой / долгой?\n",
    "Какие факторы больше всего влияют на стоимость квартиры и от чего они зависят?\n",
    "Какая средняя стоимость квартиры в 10 населённых пунктов с наибольшим числом объявлений?\n",
    "Какие факторы влияют на стоимость квартиры в центре Санкт-Петербурга? "
   ]
  },
  {
   "cell_type": "markdown",
   "metadata": {},
   "source": [
    "### Откройте файл с данными и изучите общую информацию. "
   ]
  },
  {
   "cell_type": "code",
   "execution_count": 1,
   "metadata": {},
   "outputs": [],
   "source": [
    "#импортировали библиотеки\n",
    "import pandas as pd\n",
    "import matplotlib.pyplot as plt"
   ]
  },
  {
   "cell_type": "code",
   "execution_count": 2,
   "metadata": {},
   "outputs": [],
   "source": [
    "#считываем датасет\n",
    "try:\n",
    "    data = pd.read_csv('/datasets/real_estate_data.csv', sep='\\t')\n",
    "except:\n",
    "    data = pd.read_csv('real_estate_data.csv', sep='\\t')"
   ]
  },
  {
   "cell_type": "code",
   "execution_count": 3,
   "metadata": {},
   "outputs": [
    {
     "data": {
      "text/html": [
       "<div>\n",
       "<style scoped>\n",
       "    .dataframe tbody tr th:only-of-type {\n",
       "        vertical-align: middle;\n",
       "    }\n",
       "\n",
       "    .dataframe tbody tr th {\n",
       "        vertical-align: top;\n",
       "    }\n",
       "\n",
       "    .dataframe thead th {\n",
       "        text-align: right;\n",
       "    }\n",
       "</style>\n",
       "<table border=\"1\" class=\"dataframe\">\n",
       "  <thead>\n",
       "    <tr style=\"text-align: right;\">\n",
       "      <th></th>\n",
       "      <th>total_images</th>\n",
       "      <th>last_price</th>\n",
       "      <th>total_area</th>\n",
       "      <th>first_day_exposition</th>\n",
       "      <th>rooms</th>\n",
       "      <th>ceiling_height</th>\n",
       "      <th>floors_total</th>\n",
       "      <th>living_area</th>\n",
       "      <th>floor</th>\n",
       "      <th>is_apartment</th>\n",
       "      <th>...</th>\n",
       "      <th>kitchen_area</th>\n",
       "      <th>balcony</th>\n",
       "      <th>locality_name</th>\n",
       "      <th>airports_nearest</th>\n",
       "      <th>cityCenters_nearest</th>\n",
       "      <th>parks_around3000</th>\n",
       "      <th>parks_nearest</th>\n",
       "      <th>ponds_around3000</th>\n",
       "      <th>ponds_nearest</th>\n",
       "      <th>days_exposition</th>\n",
       "    </tr>\n",
       "  </thead>\n",
       "  <tbody>\n",
       "    <tr>\n",
       "      <th>0</th>\n",
       "      <td>20</td>\n",
       "      <td>13000000.0</td>\n",
       "      <td>108.00</td>\n",
       "      <td>2019-03-07T00:00:00</td>\n",
       "      <td>3</td>\n",
       "      <td>2.70</td>\n",
       "      <td>16.0</td>\n",
       "      <td>51.00</td>\n",
       "      <td>8</td>\n",
       "      <td>NaN</td>\n",
       "      <td>...</td>\n",
       "      <td>25.00</td>\n",
       "      <td>NaN</td>\n",
       "      <td>Санкт-Петербург</td>\n",
       "      <td>18863.0</td>\n",
       "      <td>16028.0</td>\n",
       "      <td>1.0</td>\n",
       "      <td>482.0</td>\n",
       "      <td>2.0</td>\n",
       "      <td>755.0</td>\n",
       "      <td>NaN</td>\n",
       "    </tr>\n",
       "    <tr>\n",
       "      <th>1</th>\n",
       "      <td>7</td>\n",
       "      <td>3350000.0</td>\n",
       "      <td>40.40</td>\n",
       "      <td>2018-12-04T00:00:00</td>\n",
       "      <td>1</td>\n",
       "      <td>NaN</td>\n",
       "      <td>11.0</td>\n",
       "      <td>18.60</td>\n",
       "      <td>1</td>\n",
       "      <td>NaN</td>\n",
       "      <td>...</td>\n",
       "      <td>11.00</td>\n",
       "      <td>2.0</td>\n",
       "      <td>посёлок Шушары</td>\n",
       "      <td>12817.0</td>\n",
       "      <td>18603.0</td>\n",
       "      <td>0.0</td>\n",
       "      <td>NaN</td>\n",
       "      <td>0.0</td>\n",
       "      <td>NaN</td>\n",
       "      <td>81.0</td>\n",
       "    </tr>\n",
       "    <tr>\n",
       "      <th>2</th>\n",
       "      <td>10</td>\n",
       "      <td>5196000.0</td>\n",
       "      <td>56.00</td>\n",
       "      <td>2015-08-20T00:00:00</td>\n",
       "      <td>2</td>\n",
       "      <td>NaN</td>\n",
       "      <td>5.0</td>\n",
       "      <td>34.30</td>\n",
       "      <td>4</td>\n",
       "      <td>NaN</td>\n",
       "      <td>...</td>\n",
       "      <td>8.30</td>\n",
       "      <td>0.0</td>\n",
       "      <td>Санкт-Петербург</td>\n",
       "      <td>21741.0</td>\n",
       "      <td>13933.0</td>\n",
       "      <td>1.0</td>\n",
       "      <td>90.0</td>\n",
       "      <td>2.0</td>\n",
       "      <td>574.0</td>\n",
       "      <td>558.0</td>\n",
       "    </tr>\n",
       "    <tr>\n",
       "      <th>3</th>\n",
       "      <td>0</td>\n",
       "      <td>64900000.0</td>\n",
       "      <td>159.00</td>\n",
       "      <td>2015-07-24T00:00:00</td>\n",
       "      <td>3</td>\n",
       "      <td>NaN</td>\n",
       "      <td>14.0</td>\n",
       "      <td>NaN</td>\n",
       "      <td>9</td>\n",
       "      <td>NaN</td>\n",
       "      <td>...</td>\n",
       "      <td>NaN</td>\n",
       "      <td>0.0</td>\n",
       "      <td>Санкт-Петербург</td>\n",
       "      <td>28098.0</td>\n",
       "      <td>6800.0</td>\n",
       "      <td>2.0</td>\n",
       "      <td>84.0</td>\n",
       "      <td>3.0</td>\n",
       "      <td>234.0</td>\n",
       "      <td>424.0</td>\n",
       "    </tr>\n",
       "    <tr>\n",
       "      <th>4</th>\n",
       "      <td>2</td>\n",
       "      <td>10000000.0</td>\n",
       "      <td>100.00</td>\n",
       "      <td>2018-06-19T00:00:00</td>\n",
       "      <td>2</td>\n",
       "      <td>3.03</td>\n",
       "      <td>14.0</td>\n",
       "      <td>32.00</td>\n",
       "      <td>13</td>\n",
       "      <td>NaN</td>\n",
       "      <td>...</td>\n",
       "      <td>41.00</td>\n",
       "      <td>NaN</td>\n",
       "      <td>Санкт-Петербург</td>\n",
       "      <td>31856.0</td>\n",
       "      <td>8098.0</td>\n",
       "      <td>2.0</td>\n",
       "      <td>112.0</td>\n",
       "      <td>1.0</td>\n",
       "      <td>48.0</td>\n",
       "      <td>121.0</td>\n",
       "    </tr>\n",
       "    <tr>\n",
       "      <th>5</th>\n",
       "      <td>10</td>\n",
       "      <td>2890000.0</td>\n",
       "      <td>30.40</td>\n",
       "      <td>2018-09-10T00:00:00</td>\n",
       "      <td>1</td>\n",
       "      <td>NaN</td>\n",
       "      <td>12.0</td>\n",
       "      <td>14.40</td>\n",
       "      <td>5</td>\n",
       "      <td>NaN</td>\n",
       "      <td>...</td>\n",
       "      <td>9.10</td>\n",
       "      <td>NaN</td>\n",
       "      <td>городской посёлок Янино-1</td>\n",
       "      <td>NaN</td>\n",
       "      <td>NaN</td>\n",
       "      <td>NaN</td>\n",
       "      <td>NaN</td>\n",
       "      <td>NaN</td>\n",
       "      <td>NaN</td>\n",
       "      <td>55.0</td>\n",
       "    </tr>\n",
       "    <tr>\n",
       "      <th>6</th>\n",
       "      <td>6</td>\n",
       "      <td>3700000.0</td>\n",
       "      <td>37.30</td>\n",
       "      <td>2017-11-02T00:00:00</td>\n",
       "      <td>1</td>\n",
       "      <td>NaN</td>\n",
       "      <td>26.0</td>\n",
       "      <td>10.60</td>\n",
       "      <td>6</td>\n",
       "      <td>NaN</td>\n",
       "      <td>...</td>\n",
       "      <td>14.40</td>\n",
       "      <td>1.0</td>\n",
       "      <td>посёлок Парголово</td>\n",
       "      <td>52996.0</td>\n",
       "      <td>19143.0</td>\n",
       "      <td>0.0</td>\n",
       "      <td>NaN</td>\n",
       "      <td>0.0</td>\n",
       "      <td>NaN</td>\n",
       "      <td>155.0</td>\n",
       "    </tr>\n",
       "    <tr>\n",
       "      <th>7</th>\n",
       "      <td>5</td>\n",
       "      <td>7915000.0</td>\n",
       "      <td>71.60</td>\n",
       "      <td>2019-04-18T00:00:00</td>\n",
       "      <td>2</td>\n",
       "      <td>NaN</td>\n",
       "      <td>24.0</td>\n",
       "      <td>NaN</td>\n",
       "      <td>22</td>\n",
       "      <td>NaN</td>\n",
       "      <td>...</td>\n",
       "      <td>18.90</td>\n",
       "      <td>2.0</td>\n",
       "      <td>Санкт-Петербург</td>\n",
       "      <td>23982.0</td>\n",
       "      <td>11634.0</td>\n",
       "      <td>0.0</td>\n",
       "      <td>NaN</td>\n",
       "      <td>0.0</td>\n",
       "      <td>NaN</td>\n",
       "      <td>NaN</td>\n",
       "    </tr>\n",
       "    <tr>\n",
       "      <th>8</th>\n",
       "      <td>20</td>\n",
       "      <td>2900000.0</td>\n",
       "      <td>33.16</td>\n",
       "      <td>2018-05-23T00:00:00</td>\n",
       "      <td>1</td>\n",
       "      <td>NaN</td>\n",
       "      <td>27.0</td>\n",
       "      <td>15.43</td>\n",
       "      <td>26</td>\n",
       "      <td>NaN</td>\n",
       "      <td>...</td>\n",
       "      <td>8.81</td>\n",
       "      <td>NaN</td>\n",
       "      <td>посёлок Мурино</td>\n",
       "      <td>NaN</td>\n",
       "      <td>NaN</td>\n",
       "      <td>NaN</td>\n",
       "      <td>NaN</td>\n",
       "      <td>NaN</td>\n",
       "      <td>NaN</td>\n",
       "      <td>189.0</td>\n",
       "    </tr>\n",
       "    <tr>\n",
       "      <th>9</th>\n",
       "      <td>18</td>\n",
       "      <td>5400000.0</td>\n",
       "      <td>61.00</td>\n",
       "      <td>2017-02-26T00:00:00</td>\n",
       "      <td>3</td>\n",
       "      <td>2.50</td>\n",
       "      <td>9.0</td>\n",
       "      <td>43.60</td>\n",
       "      <td>7</td>\n",
       "      <td>NaN</td>\n",
       "      <td>...</td>\n",
       "      <td>6.50</td>\n",
       "      <td>2.0</td>\n",
       "      <td>Санкт-Петербург</td>\n",
       "      <td>50898.0</td>\n",
       "      <td>15008.0</td>\n",
       "      <td>0.0</td>\n",
       "      <td>NaN</td>\n",
       "      <td>0.0</td>\n",
       "      <td>NaN</td>\n",
       "      <td>289.0</td>\n",
       "    </tr>\n",
       "    <tr>\n",
       "      <th>10</th>\n",
       "      <td>5</td>\n",
       "      <td>5050000.0</td>\n",
       "      <td>39.60</td>\n",
       "      <td>2017-11-16T00:00:00</td>\n",
       "      <td>1</td>\n",
       "      <td>2.67</td>\n",
       "      <td>12.0</td>\n",
       "      <td>20.30</td>\n",
       "      <td>3</td>\n",
       "      <td>NaN</td>\n",
       "      <td>...</td>\n",
       "      <td>8.50</td>\n",
       "      <td>NaN</td>\n",
       "      <td>Санкт-Петербург</td>\n",
       "      <td>38357.0</td>\n",
       "      <td>13878.0</td>\n",
       "      <td>1.0</td>\n",
       "      <td>310.0</td>\n",
       "      <td>2.0</td>\n",
       "      <td>553.0</td>\n",
       "      <td>137.0</td>\n",
       "    </tr>\n",
       "    <tr>\n",
       "      <th>11</th>\n",
       "      <td>9</td>\n",
       "      <td>3300000.0</td>\n",
       "      <td>44.00</td>\n",
       "      <td>2018-08-27T00:00:00</td>\n",
       "      <td>2</td>\n",
       "      <td>NaN</td>\n",
       "      <td>5.0</td>\n",
       "      <td>31.00</td>\n",
       "      <td>4</td>\n",
       "      <td>False</td>\n",
       "      <td>...</td>\n",
       "      <td>6.00</td>\n",
       "      <td>1.0</td>\n",
       "      <td>Ломоносов</td>\n",
       "      <td>48252.0</td>\n",
       "      <td>51677.0</td>\n",
       "      <td>0.0</td>\n",
       "      <td>NaN</td>\n",
       "      <td>0.0</td>\n",
       "      <td>NaN</td>\n",
       "      <td>7.0</td>\n",
       "    </tr>\n",
       "    <tr>\n",
       "      <th>12</th>\n",
       "      <td>10</td>\n",
       "      <td>3890000.0</td>\n",
       "      <td>54.00</td>\n",
       "      <td>2016-06-30T00:00:00</td>\n",
       "      <td>2</td>\n",
       "      <td>NaN</td>\n",
       "      <td>5.0</td>\n",
       "      <td>30.00</td>\n",
       "      <td>5</td>\n",
       "      <td>NaN</td>\n",
       "      <td>...</td>\n",
       "      <td>9.00</td>\n",
       "      <td>0.0</td>\n",
       "      <td>Сертолово</td>\n",
       "      <td>NaN</td>\n",
       "      <td>NaN</td>\n",
       "      <td>NaN</td>\n",
       "      <td>NaN</td>\n",
       "      <td>NaN</td>\n",
       "      <td>NaN</td>\n",
       "      <td>90.0</td>\n",
       "    </tr>\n",
       "    <tr>\n",
       "      <th>13</th>\n",
       "      <td>20</td>\n",
       "      <td>3550000.0</td>\n",
       "      <td>42.80</td>\n",
       "      <td>2017-07-01T00:00:00</td>\n",
       "      <td>2</td>\n",
       "      <td>2.56</td>\n",
       "      <td>5.0</td>\n",
       "      <td>27.00</td>\n",
       "      <td>5</td>\n",
       "      <td>NaN</td>\n",
       "      <td>...</td>\n",
       "      <td>5.20</td>\n",
       "      <td>1.0</td>\n",
       "      <td>Петергоф</td>\n",
       "      <td>37868.0</td>\n",
       "      <td>33058.0</td>\n",
       "      <td>1.0</td>\n",
       "      <td>294.0</td>\n",
       "      <td>3.0</td>\n",
       "      <td>298.0</td>\n",
       "      <td>366.0</td>\n",
       "    </tr>\n",
       "    <tr>\n",
       "      <th>14</th>\n",
       "      <td>1</td>\n",
       "      <td>4400000.0</td>\n",
       "      <td>36.00</td>\n",
       "      <td>2016-06-23T00:00:00</td>\n",
       "      <td>1</td>\n",
       "      <td>NaN</td>\n",
       "      <td>6.0</td>\n",
       "      <td>17.00</td>\n",
       "      <td>1</td>\n",
       "      <td>NaN</td>\n",
       "      <td>...</td>\n",
       "      <td>8.00</td>\n",
       "      <td>0.0</td>\n",
       "      <td>Пушкин</td>\n",
       "      <td>20782.0</td>\n",
       "      <td>30759.0</td>\n",
       "      <td>0.0</td>\n",
       "      <td>NaN</td>\n",
       "      <td>1.0</td>\n",
       "      <td>96.0</td>\n",
       "      <td>203.0</td>\n",
       "    </tr>\n",
       "    <tr>\n",
       "      <th>15</th>\n",
       "      <td>16</td>\n",
       "      <td>4650000.0</td>\n",
       "      <td>39.00</td>\n",
       "      <td>2017-11-18T00:00:00</td>\n",
       "      <td>1</td>\n",
       "      <td>NaN</td>\n",
       "      <td>14.0</td>\n",
       "      <td>20.50</td>\n",
       "      <td>5</td>\n",
       "      <td>NaN</td>\n",
       "      <td>...</td>\n",
       "      <td>7.60</td>\n",
       "      <td>1.0</td>\n",
       "      <td>Санкт-Петербург</td>\n",
       "      <td>12900.0</td>\n",
       "      <td>14259.0</td>\n",
       "      <td>1.0</td>\n",
       "      <td>590.0</td>\n",
       "      <td>1.0</td>\n",
       "      <td>296.0</td>\n",
       "      <td>19.0</td>\n",
       "    </tr>\n",
       "    <tr>\n",
       "      <th>16</th>\n",
       "      <td>11</td>\n",
       "      <td>6700000.0</td>\n",
       "      <td>82.00</td>\n",
       "      <td>2017-11-23T00:00:00</td>\n",
       "      <td>3</td>\n",
       "      <td>3.05</td>\n",
       "      <td>5.0</td>\n",
       "      <td>55.60</td>\n",
       "      <td>1</td>\n",
       "      <td>NaN</td>\n",
       "      <td>...</td>\n",
       "      <td>9.00</td>\n",
       "      <td>NaN</td>\n",
       "      <td>Санкт-Петербург</td>\n",
       "      <td>22108.0</td>\n",
       "      <td>10698.0</td>\n",
       "      <td>3.0</td>\n",
       "      <td>420.0</td>\n",
       "      <td>0.0</td>\n",
       "      <td>NaN</td>\n",
       "      <td>397.0</td>\n",
       "    </tr>\n",
       "    <tr>\n",
       "      <th>17</th>\n",
       "      <td>6</td>\n",
       "      <td>4180000.0</td>\n",
       "      <td>36.00</td>\n",
       "      <td>2016-09-09T00:00:00</td>\n",
       "      <td>1</td>\n",
       "      <td>NaN</td>\n",
       "      <td>17.0</td>\n",
       "      <td>16.50</td>\n",
       "      <td>7</td>\n",
       "      <td>NaN</td>\n",
       "      <td>...</td>\n",
       "      <td>11.00</td>\n",
       "      <td>1.0</td>\n",
       "      <td>Санкт-Петербург</td>\n",
       "      <td>33564.0</td>\n",
       "      <td>14616.0</td>\n",
       "      <td>0.0</td>\n",
       "      <td>NaN</td>\n",
       "      <td>1.0</td>\n",
       "      <td>859.0</td>\n",
       "      <td>571.0</td>\n",
       "    </tr>\n",
       "    <tr>\n",
       "      <th>18</th>\n",
       "      <td>8</td>\n",
       "      <td>3250000.0</td>\n",
       "      <td>31.00</td>\n",
       "      <td>2017-01-27T00:00:00</td>\n",
       "      <td>1</td>\n",
       "      <td>2.50</td>\n",
       "      <td>5.0</td>\n",
       "      <td>19.40</td>\n",
       "      <td>2</td>\n",
       "      <td>NaN</td>\n",
       "      <td>...</td>\n",
       "      <td>5.60</td>\n",
       "      <td>1.0</td>\n",
       "      <td>Санкт-Петербург</td>\n",
       "      <td>44060.0</td>\n",
       "      <td>10842.0</td>\n",
       "      <td>1.0</td>\n",
       "      <td>759.0</td>\n",
       "      <td>0.0</td>\n",
       "      <td>NaN</td>\n",
       "      <td>168.0</td>\n",
       "    </tr>\n",
       "    <tr>\n",
       "      <th>19</th>\n",
       "      <td>16</td>\n",
       "      <td>14200000.0</td>\n",
       "      <td>121.00</td>\n",
       "      <td>2019-01-09T00:00:00</td>\n",
       "      <td>3</td>\n",
       "      <td>2.75</td>\n",
       "      <td>16.0</td>\n",
       "      <td>76.00</td>\n",
       "      <td>8</td>\n",
       "      <td>NaN</td>\n",
       "      <td>...</td>\n",
       "      <td>12.00</td>\n",
       "      <td>NaN</td>\n",
       "      <td>Санкт-Петербург</td>\n",
       "      <td>38900.0</td>\n",
       "      <td>12843.0</td>\n",
       "      <td>0.0</td>\n",
       "      <td>NaN</td>\n",
       "      <td>0.0</td>\n",
       "      <td>NaN</td>\n",
       "      <td>97.0</td>\n",
       "    </tr>\n",
       "  </tbody>\n",
       "</table>\n",
       "<p>20 rows × 22 columns</p>\n",
       "</div>"
      ],
      "text/plain": [
       "    total_images  last_price  total_area first_day_exposition  rooms  \\\n",
       "0             20  13000000.0      108.00  2019-03-07T00:00:00      3   \n",
       "1              7   3350000.0       40.40  2018-12-04T00:00:00      1   \n",
       "2             10   5196000.0       56.00  2015-08-20T00:00:00      2   \n",
       "3              0  64900000.0      159.00  2015-07-24T00:00:00      3   \n",
       "4              2  10000000.0      100.00  2018-06-19T00:00:00      2   \n",
       "5             10   2890000.0       30.40  2018-09-10T00:00:00      1   \n",
       "6              6   3700000.0       37.30  2017-11-02T00:00:00      1   \n",
       "7              5   7915000.0       71.60  2019-04-18T00:00:00      2   \n",
       "8             20   2900000.0       33.16  2018-05-23T00:00:00      1   \n",
       "9             18   5400000.0       61.00  2017-02-26T00:00:00      3   \n",
       "10             5   5050000.0       39.60  2017-11-16T00:00:00      1   \n",
       "11             9   3300000.0       44.00  2018-08-27T00:00:00      2   \n",
       "12            10   3890000.0       54.00  2016-06-30T00:00:00      2   \n",
       "13            20   3550000.0       42.80  2017-07-01T00:00:00      2   \n",
       "14             1   4400000.0       36.00  2016-06-23T00:00:00      1   \n",
       "15            16   4650000.0       39.00  2017-11-18T00:00:00      1   \n",
       "16            11   6700000.0       82.00  2017-11-23T00:00:00      3   \n",
       "17             6   4180000.0       36.00  2016-09-09T00:00:00      1   \n",
       "18             8   3250000.0       31.00  2017-01-27T00:00:00      1   \n",
       "19            16  14200000.0      121.00  2019-01-09T00:00:00      3   \n",
       "\n",
       "    ceiling_height  floors_total  living_area  floor is_apartment  ...  \\\n",
       "0             2.70          16.0        51.00      8          NaN  ...   \n",
       "1              NaN          11.0        18.60      1          NaN  ...   \n",
       "2              NaN           5.0        34.30      4          NaN  ...   \n",
       "3              NaN          14.0          NaN      9          NaN  ...   \n",
       "4             3.03          14.0        32.00     13          NaN  ...   \n",
       "5              NaN          12.0        14.40      5          NaN  ...   \n",
       "6              NaN          26.0        10.60      6          NaN  ...   \n",
       "7              NaN          24.0          NaN     22          NaN  ...   \n",
       "8              NaN          27.0        15.43     26          NaN  ...   \n",
       "9             2.50           9.0        43.60      7          NaN  ...   \n",
       "10            2.67          12.0        20.30      3          NaN  ...   \n",
       "11             NaN           5.0        31.00      4        False  ...   \n",
       "12             NaN           5.0        30.00      5          NaN  ...   \n",
       "13            2.56           5.0        27.00      5          NaN  ...   \n",
       "14             NaN           6.0        17.00      1          NaN  ...   \n",
       "15             NaN          14.0        20.50      5          NaN  ...   \n",
       "16            3.05           5.0        55.60      1          NaN  ...   \n",
       "17             NaN          17.0        16.50      7          NaN  ...   \n",
       "18            2.50           5.0        19.40      2          NaN  ...   \n",
       "19            2.75          16.0        76.00      8          NaN  ...   \n",
       "\n",
       "    kitchen_area  balcony              locality_name  airports_nearest  \\\n",
       "0          25.00      NaN            Санкт-Петербург           18863.0   \n",
       "1          11.00      2.0             посёлок Шушары           12817.0   \n",
       "2           8.30      0.0            Санкт-Петербург           21741.0   \n",
       "3            NaN      0.0            Санкт-Петербург           28098.0   \n",
       "4          41.00      NaN            Санкт-Петербург           31856.0   \n",
       "5           9.10      NaN  городской посёлок Янино-1               NaN   \n",
       "6          14.40      1.0          посёлок Парголово           52996.0   \n",
       "7          18.90      2.0            Санкт-Петербург           23982.0   \n",
       "8           8.81      NaN             посёлок Мурино               NaN   \n",
       "9           6.50      2.0            Санкт-Петербург           50898.0   \n",
       "10          8.50      NaN            Санкт-Петербург           38357.0   \n",
       "11          6.00      1.0                  Ломоносов           48252.0   \n",
       "12          9.00      0.0                  Сертолово               NaN   \n",
       "13          5.20      1.0                   Петергоф           37868.0   \n",
       "14          8.00      0.0                     Пушкин           20782.0   \n",
       "15          7.60      1.0            Санкт-Петербург           12900.0   \n",
       "16          9.00      NaN            Санкт-Петербург           22108.0   \n",
       "17         11.00      1.0            Санкт-Петербург           33564.0   \n",
       "18          5.60      1.0            Санкт-Петербург           44060.0   \n",
       "19         12.00      NaN            Санкт-Петербург           38900.0   \n",
       "\n",
       "   cityCenters_nearest  parks_around3000  parks_nearest  ponds_around3000  \\\n",
       "0              16028.0               1.0          482.0               2.0   \n",
       "1              18603.0               0.0            NaN               0.0   \n",
       "2              13933.0               1.0           90.0               2.0   \n",
       "3               6800.0               2.0           84.0               3.0   \n",
       "4               8098.0               2.0          112.0               1.0   \n",
       "5                  NaN               NaN            NaN               NaN   \n",
       "6              19143.0               0.0            NaN               0.0   \n",
       "7              11634.0               0.0            NaN               0.0   \n",
       "8                  NaN               NaN            NaN               NaN   \n",
       "9              15008.0               0.0            NaN               0.0   \n",
       "10             13878.0               1.0          310.0               2.0   \n",
       "11             51677.0               0.0            NaN               0.0   \n",
       "12                 NaN               NaN            NaN               NaN   \n",
       "13             33058.0               1.0          294.0               3.0   \n",
       "14             30759.0               0.0            NaN               1.0   \n",
       "15             14259.0               1.0          590.0               1.0   \n",
       "16             10698.0               3.0          420.0               0.0   \n",
       "17             14616.0               0.0            NaN               1.0   \n",
       "18             10842.0               1.0          759.0               0.0   \n",
       "19             12843.0               0.0            NaN               0.0   \n",
       "\n",
       "    ponds_nearest  days_exposition  \n",
       "0           755.0              NaN  \n",
       "1             NaN             81.0  \n",
       "2           574.0            558.0  \n",
       "3           234.0            424.0  \n",
       "4            48.0            121.0  \n",
       "5             NaN             55.0  \n",
       "6             NaN            155.0  \n",
       "7             NaN              NaN  \n",
       "8             NaN            189.0  \n",
       "9             NaN            289.0  \n",
       "10          553.0            137.0  \n",
       "11            NaN              7.0  \n",
       "12            NaN             90.0  \n",
       "13          298.0            366.0  \n",
       "14           96.0            203.0  \n",
       "15          296.0             19.0  \n",
       "16            NaN            397.0  \n",
       "17          859.0            571.0  \n",
       "18            NaN            168.0  \n",
       "19            NaN             97.0  \n",
       "\n",
       "[20 rows x 22 columns]"
      ]
     },
     "execution_count": 3,
     "metadata": {},
     "output_type": "execute_result"
    }
   ],
   "source": [
    "#изучим полученные данные \n",
    "data.head(20)"
   ]
  },
  {
   "cell_type": "code",
   "execution_count": 102,
   "metadata": {},
   "outputs": [
    {
     "data": {
      "image/png": "[encoded data removed]",
      "text/plain": [
       "<Figure size 1080x1440 with 25 Axes>"
      ]
     },
     "metadata": {
      "needs_background": "light"
     },
     "output_type": "display_data"
    }
   ],
   "source": [
    "# создадим гистограмму по всем столбцам датафрейма\n",
    "data.hist(figsize=(15, 20))\n",
    "plt.show()"
   ]
  },
  {
   "cell_type": "markdown",
   "metadata": {},
   "source": [
    "***Вывод:***\n",
    "<div style=\"border:solid green 1px; padding: 20px\">\n",
    "    \n",
    "Для корректного отображения датасета указали разделитель и проверили результат.  \n",
    "В данной таблице 23699 строк и 22 столбца.     \n",
    "В данных есть пропущенные значения.   \n",
    "    \n",
    "***Наименование столбцов:***  \n",
    "    \n",
    "**airports_nearest** — расстояние до ближайшего аэропорта в метрах (м)  \n",
    "**balcony** — число балконов  \n",
    "**ceiling_height** — высота потолков (м)  \n",
    "**cityCenters_nearest** — расстояние до центра города (м)   \n",
    "**days_exposition** — сколько дней было размещено объявление (от публикации до снятия)  \n",
    "**first_day_exposition** — дата публикации  \n",
    "**floor** — этаж  \n",
    "**floors_total** — всего этажей в доме  \n",
    "**is_apartment** — апартаменты (булев тип)  \n",
    "**kitchen_area** — площадь кухни в квадратных метрах (м²)  \n",
    "**last_price** — цена на момент снятия с публикации  \n",
    "**living_area** — жилая площадь в квадратных метрах (м²)  \n",
    "**locality_name** — название населённого пункта  \n",
    "**open_plan** — свободная планировка (булев тип)  \n",
    "**parks_around3000** — число парков в радиусе 3 км  \n",
    "**parks_nearest** — расстояние до ближайшего парка (м)  \n",
    "**ponds_around3000** — число водоёмов в радиусе 3 км  \n",
    "**ponds_nearest** — расстояние до ближайшего водоёма (м)  \n",
    "**rooms** — число комнат  \n",
    "**studio**— квартира-студия (булев тип)  \n",
    "**total_area** — общая площадь квартиры в квадратных метрах (м²)  \n",
    "**total_images** — число фотографий квартиры в объявлении  \n",
    "    \n",
    "Пропуски в высоте потолков, размерах жилой площади и кухни скорее всего, говорят о том, что они стандартных размеров.\n",
    "Пропуски в столбце \"Число балконов\"(balcony) вполне указывают на то, что в некоторых квартирах их просто нет.\n",
    "Информацию о наличие водоемов, парка, возможно, сочли не нужной и она не была обязательна для заполнения (заполнялась пользователями). Пропуски в количестве дней, в течение которых было опубликовано объявление до продажи квартир. \n",
    "Пропуски будут заполнены по среднему значению или медиане.\n",
    "</div>"
   ]
  },
  {
   "cell_type": "code",
   "execution_count": 5,
   "metadata": {},
   "outputs": [
    {
     "name": "stdout",
     "output_type": "stream",
     "text": [
      "<class 'pandas.core.frame.DataFrame'>\n",
      "RangeIndex: 23699 entries, 0 to 23698\n",
      "Data columns (total 22 columns):\n",
      " #   Column                Non-Null Count  Dtype  \n",
      "---  ------                --------------  -----  \n",
      " 0   total_images          23699 non-null  int64  \n",
      " 1   last_price            23699 non-null  float64\n",
      " 2   total_area            23699 non-null  float64\n",
      " 3   first_day_exposition  23699 non-null  object \n",
      " 4   rooms                 23699 non-null  int64  \n",
      " 5   ceiling_height        14504 non-null  float64\n",
      " 6   floors_total          23613 non-null  float64\n",
      " 7   living_area           21796 non-null  float64\n",
      " 8   floor                 23699 non-null  int64  \n",
      " 9   is_apartment          2775 non-null   object \n",
      " 10  studio                23699 non-null  bool   \n",
      " 11  open_plan             23699 non-null  bool   \n",
      " 12  kitchen_area          21421 non-null  float64\n",
      " 13  balcony               12180 non-null  float64\n",
      " 14  locality_name         23650 non-null  object \n",
      " 15  airports_nearest      18157 non-null  float64\n",
      " 16  cityCenters_nearest   18180 non-null  float64\n",
      " 17  parks_around3000      18181 non-null  float64\n",
      " 18  parks_nearest         8079 non-null   float64\n",
      " 19  ponds_around3000      18181 non-null  float64\n",
      " 20  ponds_nearest         9110 non-null   float64\n",
      " 21  days_exposition       20518 non-null  float64\n",
      "dtypes: bool(2), float64(14), int64(3), object(3)\n",
      "memory usage: 3.7+ MB\n"
     ]
    }
   ],
   "source": [
    "data.info()"
   ]
  },
  {
   "cell_type": "code",
   "execution_count": 6,
   "metadata": {},
   "outputs": [
    {
     "data": {
      "text/plain": [
       "0"
      ]
     },
     "execution_count": 6,
     "metadata": {},
     "output_type": "execute_result"
    }
   ],
   "source": [
    "# проверим наличие явных дубликатов\n",
    "data.duplicated().sum()"
   ]
  },
  {
   "cell_type": "code",
   "execution_count": 7,
   "metadata": {},
   "outputs": [
    {
     "data": {
      "text/plain": [
       "array(['Санкт-Петербург', 'посёлок Шушары', 'городской посёлок Янино-1',\n",
       "       'посёлок Парголово', 'посёлок Мурино', 'Ломоносов', 'Сертолово',\n",
       "       'Петергоф', 'Пушкин', 'деревня Кудрово', 'Коммунар', 'Колпино',\n",
       "       'поселок городского типа Красный Бор', 'Гатчина', 'поселок Мурино',\n",
       "       'деревня Фёдоровское', 'Выборг', 'Кронштадт', 'Кировск',\n",
       "       'деревня Новое Девяткино', 'посёлок Металлострой',\n",
       "       'посёлок городского типа Лебяжье',\n",
       "       'посёлок городского типа Сиверский', 'поселок Молодцово',\n",
       "       'поселок городского типа Кузьмоловский',\n",
       "       'садовое товарищество Новая Ропша', 'Павловск',\n",
       "       'деревня Пикколово', 'Всеволожск', 'Волхов', 'Кингисепп',\n",
       "       'Приозерск', 'Сестрорецк', 'деревня Куттузи', 'посёлок Аннино',\n",
       "       'поселок городского типа Ефимовский', 'посёлок Плодовое',\n",
       "       'деревня Заклинье', 'поселок Торковичи', 'поселок Первомайское',\n",
       "       'Красное Село', 'посёлок Понтонный', 'Сясьстрой', 'деревня Старая',\n",
       "       'деревня Лесколово', 'посёлок Новый Свет', 'Сланцы',\n",
       "       'село Путилово', 'Ивангород', 'Мурино', 'Шлиссельбург',\n",
       "       'Никольское', 'Зеленогорск', 'Сосновый Бор', 'поселок Новый Свет',\n",
       "       'деревня Оржицы', 'деревня Кальтино', 'Кудрово',\n",
       "       'поселок Романовка', 'посёлок Бугры', 'поселок Бугры',\n",
       "       'поселок городского типа Рощино', 'Кириши', 'Луга', 'Волосово',\n",
       "       'Отрадное', 'село Павлово', 'поселок Оредеж', 'село Копорье',\n",
       "       'посёлок городского типа Красный Бор', 'посёлок Молодёжное',\n",
       "       'Тихвин', 'посёлок Победа', 'деревня Нурма',\n",
       "       'поселок городского типа Синявино', 'Тосно',\n",
       "       'посёлок городского типа Кузьмоловский', 'посёлок Стрельна',\n",
       "       'Бокситогорск', 'посёлок Александровская', 'деревня Лопухинка',\n",
       "       'Пикалёво', 'поселок Терволово',\n",
       "       'поселок городского типа Советский', 'Подпорожье',\n",
       "       'посёлок Петровское', 'посёлок городского типа Токсово',\n",
       "       'поселок Сельцо', 'посёлок городского типа Вырица',\n",
       "       'деревня Кипень', 'деревня Келози', 'деревня Вартемяги',\n",
       "       'посёлок Тельмана', 'поселок Севастьяново',\n",
       "       'городской поселок Большая Ижора', nan,\n",
       "       'городской посёлок Павлово', 'деревня Агалатово',\n",
       "       'посёлок Новогорелово', 'городской посёлок Лесогорский',\n",
       "       'деревня Лаголово', 'поселок Цвелодубово',\n",
       "       'поселок городского типа Рахья', 'поселок городского типа Вырица',\n",
       "       'деревня Белогорка', 'поселок Заводской',\n",
       "       'городской посёлок Новоселье', 'деревня Большие Колпаны',\n",
       "       'деревня Горбунки', 'деревня Батово', 'деревня Заневка',\n",
       "       'деревня Иссад', 'Приморск', 'городской посёлок Фёдоровское',\n",
       "       'деревня Мистолово', 'Новая Ладога', 'поселок Зимитицы',\n",
       "       'поселок Барышево', 'деревня Разметелево',\n",
       "       'поселок городского типа имени Свердлова', 'деревня Пеники',\n",
       "       'поселок Рябово', 'деревня Пудомяги', 'поселок станции Корнево',\n",
       "       'деревня Низино', 'деревня Бегуницы', 'посёлок Поляны',\n",
       "       'городской посёлок Мга', 'поселок Елизаветино',\n",
       "       'посёлок городского типа Кузнечное', 'деревня Колтуши',\n",
       "       'поселок Запорожское', 'посёлок городского типа Рощино',\n",
       "       'деревня Гостилицы', 'деревня Малое Карлино',\n",
       "       'посёлок Мичуринское', 'посёлок городского типа имени Морозова',\n",
       "       'посёлок Песочный', 'посёлок Сосново', 'деревня Аро',\n",
       "       'поселок Ильичёво', 'посёлок городского типа Тайцы',\n",
       "       'деревня Малое Верево', 'деревня Извара', 'поселок станции Вещево',\n",
       "       'село Паша', 'деревня Калитино',\n",
       "       'посёлок городского типа Ульяновка', 'деревня Чудской Бор',\n",
       "       'поселок городского типа Дубровка', 'деревня Мины',\n",
       "       'поселок Войсковицы', 'посёлок городского типа имени Свердлова',\n",
       "       'деревня Коркино', 'посёлок Ропша',\n",
       "       'поселок городского типа Приладожский', 'посёлок Щеглово',\n",
       "       'посёлок Гаврилово', 'Лодейное Поле', 'деревня Рабитицы',\n",
       "       'поселок городского типа Никольский', 'деревня Кузьмолово',\n",
       "       'деревня Малые Колпаны', 'поселок Тельмана',\n",
       "       'посёлок Петро-Славянка', 'городской посёлок Назия',\n",
       "       'посёлок Репино', 'посёлок Ильичёво', 'поселок Углово',\n",
       "       'поселок Старая Малукса', 'садовое товарищество Рахья',\n",
       "       'поселок Аннино', 'поселок Победа', 'деревня Меньково',\n",
       "       'деревня Старые Бегуницы', 'посёлок Сапёрный', 'поселок Семрино',\n",
       "       'поселок Гаврилово', 'поселок Глажево', 'поселок Кобринское',\n",
       "       'деревня Гарболово', 'деревня Юкки',\n",
       "       'поселок станции Приветнинское', 'деревня Мануйлово',\n",
       "       'деревня Пчева', 'поселок Поляны', 'поселок Цвылёво',\n",
       "       'поселок Мельниково', 'посёлок Пудость', 'посёлок Усть-Луга',\n",
       "       'Светогорск', 'Любань', 'поселок Селезнёво',\n",
       "       'поселок городского типа Рябово', 'Каменногорск', 'деревня Кривко',\n",
       "       'поселок Глебычево', 'деревня Парицы', 'поселок Жилпосёлок',\n",
       "       'посёлок городского типа Мга', 'городской поселок Янино-1',\n",
       "       'посёлок Войскорово', 'село Никольское', 'посёлок Терволово',\n",
       "       'поселок Стеклянный', 'посёлок городского типа Важины',\n",
       "       'посёлок Мыза-Ивановка', 'село Русско-Высоцкое',\n",
       "       'поселок городского типа Лебяжье',\n",
       "       'поселок городского типа Форносово', 'село Старая Ладога',\n",
       "       'поселок Житково', 'городской посёлок Виллози', 'деревня Лампово',\n",
       "       'деревня Шпаньково', 'деревня Лаврики', 'посёлок Сумино',\n",
       "       'посёлок Возрождение', 'деревня Старосиверская',\n",
       "       'посёлок Кикерино', 'поселок Возрождение',\n",
       "       'деревня Старое Хинколово', 'посёлок Пригородный',\n",
       "       'посёлок Торфяное', 'городской посёлок Будогощь',\n",
       "       'поселок Суходолье', 'поселок Красная Долина', 'деревня Хапо-Ое',\n",
       "       'поселок городского типа Дружная Горка', 'поселок Лисий Нос',\n",
       "       'деревня Яльгелево', 'посёлок Стеклянный', 'село Рождествено',\n",
       "       'деревня Старополье', 'посёлок Левашово', 'деревня Сяськелево',\n",
       "       'деревня Камышовка',\n",
       "       'садоводческое некоммерческое товарищество Лесная Поляна',\n",
       "       'деревня Хязельки', 'поселок Жилгородок',\n",
       "       'посёлок городского типа Павлово', 'деревня Ялгино',\n",
       "       'поселок Новый Учхоз', 'городской посёлок Рощино',\n",
       "       'поселок Гончарово', 'поселок Почап', 'посёлок Сапёрное',\n",
       "       'посёлок Платформа 69-й километр', 'поселок Каложицы',\n",
       "       'деревня Фалилеево', 'деревня Пельгора',\n",
       "       'поселок городского типа Лесогорский', 'деревня Торошковичи',\n",
       "       'посёлок Белоостров', 'посёлок Алексеевка', 'поселок Серебрянский',\n",
       "       'поселок Лукаши', 'поселок Петровское', 'деревня Щеглово',\n",
       "       'поселок Мичуринское', 'деревня Тарасово', 'поселок Кингисеппский',\n",
       "       'посёлок при железнодорожной станции Вещево', 'поселок Ушаки',\n",
       "       'деревня Котлы', 'деревня Сижно', 'деревня Торосово',\n",
       "       'посёлок Форт Красная Горка', 'поселок городского типа Токсово',\n",
       "       'деревня Новолисино', 'посёлок станции Громово', 'деревня Глинка',\n",
       "       'посёлок Мельниково', 'поселок городского типа Назия',\n",
       "       'деревня Старая Пустошь', 'поселок Коммунары', 'поселок Починок',\n",
       "       'посёлок городского типа Вознесенье', 'деревня Разбегаево',\n",
       "       'посёлок городского типа Рябово', 'поселок Гладкое',\n",
       "       'посёлок при железнодорожной станции Приветнинское',\n",
       "       'поселок Тёсово-4', 'посёлок Жилгородок', 'деревня Бор',\n",
       "       'посёлок Коробицыно', 'деревня Большая Вруда', 'деревня Курковицы',\n",
       "       'посёлок Лисий Нос', 'городской посёлок Советский',\n",
       "       'посёлок Кобралово', 'деревня Суоранда', 'поселок Кобралово',\n",
       "       'поселок городского типа Кондратьево',\n",
       "       'коттеджный поселок Счастье', 'поселок Любань', 'деревня Реброво',\n",
       "       'деревня Зимитицы', 'деревня Тойворово', 'поселок Семиозерье',\n",
       "       'поселок Лесное', 'поселок Совхозный', 'поселок Усть-Луга',\n",
       "       'посёлок Ленинское', 'посёлок Суйда',\n",
       "       'посёлок городского типа Форносово', 'деревня Нижние Осельки',\n",
       "       'посёлок станции Свирь', 'поселок Перово', 'Высоцк',\n",
       "       'поселок Гарболово', 'село Шум', 'поселок Котельский',\n",
       "       'поселок станции Лужайка', 'деревня Большая Пустомержа',\n",
       "       'поселок Красносельское', 'деревня Вахнова Кара', 'деревня Пижма',\n",
       "       'коттеджный поселок Кивеннапа Север', 'поселок Коробицыно',\n",
       "       'поселок Ромашки', 'посёлок Перово', 'деревня Каськово',\n",
       "       'деревня Куровицы', 'посёлок Плоское', 'поселок Сумино',\n",
       "       'поселок городского типа Большая Ижора', 'поселок Кирпичное',\n",
       "       'деревня Ям-Тесово', 'деревня Раздолье', 'деревня Терпилицы',\n",
       "       'посёлок Шугозеро', 'деревня Ваганово', 'поселок Пушное',\n",
       "       'садовое товарищество Садко', 'посёлок Усть-Ижора',\n",
       "       'деревня Выскатка', 'городской посёлок Свирьстрой',\n",
       "       'поселок Громово', 'деревня Кисельня', 'посёлок Старая Малукса',\n",
       "       'деревня Трубников Бор', 'поселок Калитино',\n",
       "       'посёлок Высокоключевой', 'садовое товарищество Приладожский',\n",
       "       'посёлок Пансионат Зелёный Бор', 'деревня Ненимяки',\n",
       "       'поселок Пансионат Зелёный Бор', 'деревня Снегирёвка',\n",
       "       'деревня Рапполово', 'деревня Пустынка', 'поселок Рабитицы',\n",
       "       'деревня Большой Сабск', 'деревня Русско', 'деревня Лупполово',\n",
       "       'деревня Большое Рейзино', 'деревня Малая Романовка',\n",
       "       'поселок Дружноселье', 'поселок Пчевжа', 'поселок Володарское',\n",
       "       'деревня Нижняя', 'коттеджный посёлок Лесное', 'деревня Тихковицы',\n",
       "       'деревня Борисова Грива', 'посёлок Дзержинского'], dtype=object)"
      ]
     },
     "execution_count": 7,
     "metadata": {},
     "output_type": "execute_result"
    }
   ],
   "source": [
    "# проверим наличие неявных дубликатов\n",
    "data['locality_name'].unique()"
   ]
  },
  {
   "cell_type": "code",
   "execution_count": 8,
   "metadata": {},
   "outputs": [
    {
     "data": {
      "text/plain": [
       "364"
      ]
     },
     "execution_count": 8,
     "metadata": {},
     "output_type": "execute_result"
    }
   ],
   "source": [
    "# проверим количество неявных дубликатов\n",
    "data['locality_name'].nunique()"
   ]
  },
  {
   "cell_type": "code",
   "execution_count": 9,
   "metadata": {},
   "outputs": [],
   "source": [
    "# изменили в дубликате посёлок ё на е\n",
    "data['locality_name'] = data['locality_name'].str.replace('ё','е')"
   ]
  },
  {
   "cell_type": "code",
   "execution_count": 10,
   "metadata": {},
   "outputs": [
    {
     "data": {
      "text/plain": [
       "array(['Санкт-Петербург', 'поселок Шушары', 'городской поселок Янино-1',\n",
       "       'поселок Парголово', 'поселок Мурино', 'Ломоносов', 'Сертолово',\n",
       "       'Петергоф', 'Пушкин', 'деревня Кудрово', 'Коммунар', 'Колпино',\n",
       "       'поселок городского типа Красный Бор', 'Гатчина',\n",
       "       'деревня Федоровское', 'Выборг', 'Кронштадт', 'Кировск',\n",
       "       'деревня Новое Девяткино', 'поселок Металлострой',\n",
       "       'поселок городского типа Лебяжье',\n",
       "       'поселок городского типа Сиверский', 'поселок Молодцово',\n",
       "       'поселок городского типа Кузьмоловский',\n",
       "       'садовое товарищество Новая Ропша', 'Павловск',\n",
       "       'деревня Пикколово', 'Всеволожск', 'Волхов', 'Кингисепп',\n",
       "       'Приозерск', 'Сестрорецк', 'деревня Куттузи', 'поселок Аннино',\n",
       "       'поселок городского типа Ефимовский', 'поселок Плодовое',\n",
       "       'деревня Заклинье', 'поселок Торковичи', 'поселок Первомайское',\n",
       "       'Красное Село', 'поселок Понтонный', 'Сясьстрой', 'деревня Старая',\n",
       "       'деревня Лесколово', 'поселок Новый Свет', 'Сланцы',\n",
       "       'село Путилово', 'Ивангород', 'Мурино', 'Шлиссельбург',\n",
       "       'Никольское', 'Зеленогорск', 'Сосновый Бор', 'деревня Оржицы',\n",
       "       'деревня Кальтино', 'Кудрово', 'поселок Романовка',\n",
       "       'поселок Бугры', 'поселок городского типа Рощино', 'Кириши',\n",
       "       'Луга', 'Волосово', 'Отрадное', 'село Павлово', 'поселок Оредеж',\n",
       "       'село Копорье', 'поселок Молодежное', 'Тихвин', 'поселок Победа',\n",
       "       'деревня Нурма', 'поселок городского типа Синявино', 'Тосно',\n",
       "       'поселок Стрельна', 'Бокситогорск', 'поселок Александровская',\n",
       "       'деревня Лопухинка', 'Пикалево', 'поселок Терволово',\n",
       "       'поселок городского типа Советский', 'Подпорожье',\n",
       "       'поселок Петровское', 'поселок городского типа Токсово',\n",
       "       'поселок Сельцо', 'поселок городского типа Вырица',\n",
       "       'деревня Кипень', 'деревня Келози', 'деревня Вартемяги',\n",
       "       'поселок Тельмана', 'поселок Севастьяново',\n",
       "       'городской поселок Большая Ижора', nan,\n",
       "       'городской поселок Павлово', 'деревня Агалатово',\n",
       "       'поселок Новогорелово', 'городской поселок Лесогорский',\n",
       "       'деревня Лаголово', 'поселок Цвелодубово',\n",
       "       'поселок городского типа Рахья', 'деревня Белогорка',\n",
       "       'поселок Заводской', 'городской поселок Новоселье',\n",
       "       'деревня Большие Колпаны', 'деревня Горбунки', 'деревня Батово',\n",
       "       'деревня Заневка', 'деревня Иссад', 'Приморск',\n",
       "       'городской поселок Федоровское', 'деревня Мистолово',\n",
       "       'Новая Ладога', 'поселок Зимитицы', 'поселок Барышево',\n",
       "       'деревня Разметелево', 'поселок городского типа имени Свердлова',\n",
       "       'деревня Пеники', 'поселок Рябово', 'деревня Пудомяги',\n",
       "       'поселок станции Корнево', 'деревня Низино', 'деревня Бегуницы',\n",
       "       'поселок Поляны', 'городской поселок Мга', 'поселок Елизаветино',\n",
       "       'поселок городского типа Кузнечное', 'деревня Колтуши',\n",
       "       'поселок Запорожское', 'деревня Гостилицы',\n",
       "       'деревня Малое Карлино', 'поселок Мичуринское',\n",
       "       'поселок городского типа имени Морозова', 'поселок Песочный',\n",
       "       'поселок Сосново', 'деревня Аро', 'поселок Ильичево',\n",
       "       'поселок городского типа Тайцы', 'деревня Малое Верево',\n",
       "       'деревня Извара', 'поселок станции Вещево', 'село Паша',\n",
       "       'деревня Калитино', 'поселок городского типа Ульяновка',\n",
       "       'деревня Чудской Бор', 'поселок городского типа Дубровка',\n",
       "       'деревня Мины', 'поселок Войсковицы', 'деревня Коркино',\n",
       "       'поселок Ропша', 'поселок городского типа Приладожский',\n",
       "       'поселок Щеглово', 'поселок Гаврилово', 'Лодейное Поле',\n",
       "       'деревня Рабитицы', 'поселок городского типа Никольский',\n",
       "       'деревня Кузьмолово', 'деревня Малые Колпаны',\n",
       "       'поселок Петро-Славянка', 'городской поселок Назия',\n",
       "       'поселок Репино', 'поселок Углово', 'поселок Старая Малукса',\n",
       "       'садовое товарищество Рахья', 'деревня Меньково',\n",
       "       'деревня Старые Бегуницы', 'поселок Саперный', 'поселок Семрино',\n",
       "       'поселок Глажево', 'поселок Кобринское', 'деревня Гарболово',\n",
       "       'деревня Юкки', 'поселок станции Приветнинское',\n",
       "       'деревня Мануйлово', 'деревня Пчева', 'поселок Цвылево',\n",
       "       'поселок Мельниково', 'поселок Пудость', 'поселок Усть-Луга',\n",
       "       'Светогорск', 'Любань', 'поселок Селезнево',\n",
       "       'поселок городского типа Рябово', 'Каменногорск', 'деревня Кривко',\n",
       "       'поселок Глебычево', 'деревня Парицы', 'поселок Жилпоселок',\n",
       "       'поселок городского типа Мга', 'поселок Войскорово',\n",
       "       'село Никольское', 'поселок Стеклянный',\n",
       "       'поселок городского типа Важины', 'поселок Мыза-Ивановка',\n",
       "       'село Русско-Высоцкое', 'поселок городского типа Форносово',\n",
       "       'село Старая Ладога', 'поселок Житково',\n",
       "       'городской поселок Виллози', 'деревня Лампово',\n",
       "       'деревня Шпаньково', 'деревня Лаврики', 'поселок Сумино',\n",
       "       'поселок Возрождение', 'деревня Старосиверская',\n",
       "       'поселок Кикерино', 'деревня Старое Хинколово',\n",
       "       'поселок Пригородный', 'поселок Торфяное',\n",
       "       'городской поселок Будогощь', 'поселок Суходолье',\n",
       "       'поселок Красная Долина', 'деревня Хапо-Ое',\n",
       "       'поселок городского типа Дружная Горка', 'поселок Лисий Нос',\n",
       "       'деревня Яльгелево', 'село Рождествено', 'деревня Старополье',\n",
       "       'поселок Левашово', 'деревня Сяськелево', 'деревня Камышовка',\n",
       "       'садоводческое некоммерческое товарищество Лесная Поляна',\n",
       "       'деревня Хязельки', 'поселок Жилгородок',\n",
       "       'поселок городского типа Павлово', 'деревня Ялгино',\n",
       "       'поселок Новый Учхоз', 'городской поселок Рощино',\n",
       "       'поселок Гончарово', 'поселок Почап', 'поселок Саперное',\n",
       "       'поселок Платформа 69-й километр', 'поселок Каложицы',\n",
       "       'деревня Фалилеево', 'деревня Пельгора',\n",
       "       'поселок городского типа Лесогорский', 'деревня Торошковичи',\n",
       "       'поселок Белоостров', 'поселок Алексеевка', 'поселок Серебрянский',\n",
       "       'поселок Лукаши', 'деревня Щеглово', 'деревня Тарасово',\n",
       "       'поселок Кингисеппский',\n",
       "       'поселок при железнодорожной станции Вещево', 'поселок Ушаки',\n",
       "       'деревня Котлы', 'деревня Сижно', 'деревня Торосово',\n",
       "       'поселок Форт Красная Горка', 'деревня Новолисино',\n",
       "       'поселок станции Громово', 'деревня Глинка',\n",
       "       'поселок городского типа Назия', 'деревня Старая Пустошь',\n",
       "       'поселок Коммунары', 'поселок Починок',\n",
       "       'поселок городского типа Вознесенье', 'деревня Разбегаево',\n",
       "       'поселок Гладкое',\n",
       "       'поселок при железнодорожной станции Приветнинское',\n",
       "       'поселок Тесово-4', 'деревня Бор', 'поселок Коробицыно',\n",
       "       'деревня Большая Вруда', 'деревня Курковицы',\n",
       "       'городской поселок Советский', 'поселок Кобралово',\n",
       "       'деревня Суоранда', 'поселок городского типа Кондратьево',\n",
       "       'коттеджный поселок Счастье', 'поселок Любань', 'деревня Реброво',\n",
       "       'деревня Зимитицы', 'деревня Тойворово', 'поселок Семиозерье',\n",
       "       'поселок Лесное', 'поселок Совхозный', 'поселок Ленинское',\n",
       "       'поселок Суйда', 'деревня Нижние Осельки', 'поселок станции Свирь',\n",
       "       'поселок Перово', 'Высоцк', 'поселок Гарболово', 'село Шум',\n",
       "       'поселок Котельский', 'поселок станции Лужайка',\n",
       "       'деревня Большая Пустомержа', 'поселок Красносельское',\n",
       "       'деревня Вахнова Кара', 'деревня Пижма',\n",
       "       'коттеджный поселок Кивеннапа Север', 'поселок Ромашки',\n",
       "       'деревня Каськово', 'деревня Куровицы', 'поселок Плоское',\n",
       "       'поселок городского типа Большая Ижора', 'поселок Кирпичное',\n",
       "       'деревня Ям-Тесово', 'деревня Раздолье', 'деревня Терпилицы',\n",
       "       'поселок Шугозеро', 'деревня Ваганово', 'поселок Пушное',\n",
       "       'садовое товарищество Садко', 'поселок Усть-Ижора',\n",
       "       'деревня Выскатка', 'городской поселок Свирьстрой',\n",
       "       'поселок Громово', 'деревня Кисельня', 'деревня Трубников Бор',\n",
       "       'поселок Калитино', 'поселок Высокоключевой',\n",
       "       'садовое товарищество Приладожский',\n",
       "       'поселок Пансионат Зеленый Бор', 'деревня Ненимяки',\n",
       "       'деревня Снегиревка', 'деревня Рапполово', 'деревня Пустынка',\n",
       "       'поселок Рабитицы', 'деревня Большой Сабск', 'деревня Русско',\n",
       "       'деревня Лупполово', 'деревня Большое Рейзино',\n",
       "       'деревня Малая Романовка', 'поселок Дружноселье', 'поселок Пчевжа',\n",
       "       'поселок Володарское', 'деревня Нижняя',\n",
       "       'коттеджный поселок Лесное', 'деревня Тихковицы',\n",
       "       'деревня Борисова Грива', 'поселок Дзержинского'], dtype=object)"
      ]
     },
     "execution_count": 10,
     "metadata": {},
     "output_type": "execute_result"
    }
   ],
   "source": [
    "# проверили изменения\n",
    "data['locality_name'].unique()"
   ]
  },
  {
   "cell_type": "markdown",
   "metadata": {},
   "source": [
    "***Вывод:***\n",
    "<div style=\"border:solid green 1px; padding: 20px\">  \n",
    "    \n",
    "Посмотрев информацию о данных, сделали вывод: \n",
    "    \n",
    "В столбцах:    \n",
    "**first_day_exposition** (дата публикации) - тип object - так как это дата, то должен быть тип datetime        \n",
    "**ceiling_height** (высота потолков) - нулевые значения тип NaN   \n",
    "**floors_total** (всего этажей в доме) - должен быть тип int (целое число), т.к. количество этажей должно быть целым значением и есть пропущенные значения тип NaN    \n",
    "**is_apartment** (апартаменты) - должен быть булев тип   \n",
    "**living_area** (жилая площадь в квадратных метрах) - есть пропущенные значения тип NaN  \n",
    "**kitchen_area** (площадь кухни в квадратных метрах) - есть пропущенные значения тип NaN      \n",
    "**balcony** (число балконов) - есть пропущенные значения тип NaN       \n",
    "**locality_name** (название населённого пункта) - есть пропущенные значения   \n",
    "**airports_nearest** (расстояние до ближайшего аэропорта в метрах) - есть пропущенные значения тип NaN    \n",
    "**cityCenters_nearest** (расстояние до центра город) - есть пропущенные значения тип NaN     \n",
    "**parks_around3000** (число парков в радиусе 3 км) - должен быть тип int (целое число) и есть пропущенные значения тип NaN   \n",
    "**parks_nearest** (расстояние до ближайшего парка) - есть пропущенные значения тип NaN    \n",
    "**ponds_around3000** (число водоёмов в радиусе 3 км) - должен быть тип int (целое число) и есть пропущенные значения тип NaN   \n",
    "**ponds_nearest** (расстояние до ближайшего водоёма) - есть пропущенные значения тип NaN    \n",
    "**days_exposition**  (сколько дней было размещено объявление (от публикации до снятия) - должен быть тип int (целое число) и есть пропущенные значения тип NaN\n",
    "\n",
    "Явные дубликаты отсутствуют.\n",
    "Проработали неявные дубликаты и привели данные к одинаковому значению.\n",
    "\n",
    "По ряду признаков присутствуют аномальные значения.    \n",
    "</div>"
   ]
  },
  {
   "cell_type": "markdown",
   "metadata": {},
   "source": [
    "### Предобработка данных"
   ]
  },
  {
   "cell_type": "markdown",
   "metadata": {},
   "source": [
    "<div style=\"border:solid blue 1px; padding: 20px\"> \n",
    "    \n",
    "# Цели:\n",
    "\n",
    "1. Найти и изучить пропущенные значения в столбцах.\n",
    "2. Заполнить пропущенные значения там, где это возможно.\n",
    "3. Рассмотреть типы данных в каждом столбце. \n",
    "4. Изучить уникальные значения в столбце с названиями и устранить неявные дубликаты.   \n",
    "5. Найти и устранить редкие и выбивающиеся значения.   \n",
    "    \n",
    "</div>"
   ]
  },
  {
   "cell_type": "code",
   "execution_count": 11,
   "metadata": {},
   "outputs": [
    {
     "name": "stdout",
     "output_type": "stream",
     "text": [
      "Index(['total_images', 'last_price', 'total_area', 'first_day_exposition',\n",
      "       'rooms', 'ceiling_height', 'floors_total', 'living_area', 'floor',\n",
      "       'is_apartment', 'studio', 'open_plan', 'kitchen_area', 'balcony',\n",
      "       'locality_name', 'airports_nearest', 'cityCenters_nearest',\n",
      "       'parks_around3000', 'parks_nearest', 'ponds_around3000',\n",
      "       'ponds_nearest', 'days_exposition'],\n",
      "      dtype='object')\n"
     ]
    }
   ],
   "source": [
    "# рассмотрим значения в столбцах для выявления нестандартных значений\n",
    "print(data.columns)"
   ]
  },
  {
   "cell_type": "markdown",
   "metadata": {},
   "source": [
    "***Вывод:***\n",
    "<div style=\"border:solid green 1px; padding: 20px\">\n",
    "Столбцы проименованы верно (применен змеиный регистр) и не нуждаются в переименовании.\n",
    "</div>"
   ]
  },
  {
   "cell_type": "code",
   "execution_count": 12,
   "metadata": {},
   "outputs": [
    {
     "data": {
      "text/plain": [
       "total_images                0\n",
       "last_price                  0\n",
       "total_area                  0\n",
       "first_day_exposition        0\n",
       "rooms                       0\n",
       "ceiling_height           9195\n",
       "floors_total               86\n",
       "living_area              1903\n",
       "floor                       0\n",
       "is_apartment            20924\n",
       "studio                      0\n",
       "open_plan                   0\n",
       "kitchen_area             2278\n",
       "balcony                 11519\n",
       "locality_name              49\n",
       "airports_nearest         5542\n",
       "cityCenters_nearest      5519\n",
       "parks_around3000         5518\n",
       "parks_nearest           15620\n",
       "ponds_around3000         5518\n",
       "ponds_nearest           14589\n",
       "days_exposition          3181\n",
       "dtype: int64"
      ]
     },
     "execution_count": 12,
     "metadata": {},
     "output_type": "execute_result"
    }
   ],
   "source": [
    "# выводим количество пропущенных значений для каждого столбца\n",
    "data.isna().sum()"
   ]
  },
  {
   "cell_type": "code",
   "execution_count": 13,
   "metadata": {},
   "outputs": [],
   "source": [
    "# приводим в целочисленный тип стоимость квартиры\n",
    "data['last_price'] = data['last_price'].astype(int)"
   ]
  },
  {
   "cell_type": "code",
   "execution_count": 14,
   "metadata": {},
   "outputs": [
    {
     "data": {
      "text/plain": [
       "0    13000000\n",
       "1     3350000\n",
       "2     5196000\n",
       "3    64900000\n",
       "4    10000000\n",
       "Name: last_price, dtype: int64"
      ]
     },
     "execution_count": 14,
     "metadata": {},
     "output_type": "execute_result"
    }
   ],
   "source": [
    "# проверим результат\n",
    "data['last_price'].head()"
   ]
  },
  {
   "cell_type": "code",
   "execution_count": 15,
   "metadata": {},
   "outputs": [],
   "source": [
    "# переведем столбец с датой в формат даты\n",
    "data['first_day_exposition'] = pd.to_datetime(data['first_day_exposition'], format='%Y-%m-%dT%H:%M:%S')"
   ]
  },
  {
   "cell_type": "code",
   "execution_count": 16,
   "metadata": {},
   "outputs": [
    {
     "data": {
      "text/plain": [
       "0   2019-03-07\n",
       "1   2018-12-04\n",
       "2   2015-08-20\n",
       "3   2015-07-24\n",
       "4   2018-06-19\n",
       "Name: first_day_exposition, dtype: datetime64[ns]"
      ]
     },
     "execution_count": 16,
     "metadata": {},
     "output_type": "execute_result"
    }
   ],
   "source": [
    "# проверим как изменился формат даты и тип\n",
    "data['first_day_exposition'].head()"
   ]
  },
  {
   "cell_type": "code",
   "execution_count": 17,
   "metadata": {},
   "outputs": [],
   "source": [
    "# в столбце is_apartment (апартаменты) все пропущенные значения заменим на False\n",
    "data['is_apartment'] = data['is_apartment'].fillna(False)"
   ]
  },
  {
   "cell_type": "code",
   "execution_count": 18,
   "metadata": {},
   "outputs": [
    {
     "data": {
      "text/plain": [
       "0    False\n",
       "1    False\n",
       "2    False\n",
       "3    False\n",
       "4    False\n",
       "Name: is_apartment, dtype: bool"
      ]
     },
     "execution_count": 18,
     "metadata": {},
     "output_type": "execute_result"
    }
   ],
   "source": [
    "data['is_apartment'].head()"
   ]
  },
  {
   "cell_type": "code",
   "execution_count": 19,
   "metadata": {},
   "outputs": [],
   "source": [
    "# заменим пропуски в числе балконов на 0 и изменим тип данных на int (целое число)\n",
    "data['balcony'] = data['balcony'].fillna(0)\n",
    "data['balcony'] = data['balcony'].astype('int')"
   ]
  },
  {
   "cell_type": "code",
   "execution_count": 20,
   "metadata": {},
   "outputs": [
    {
     "data": {
      "text/plain": [
       "0    0\n",
       "1    2\n",
       "2    0\n",
       "3    0\n",
       "4    0\n",
       "Name: balcony, dtype: int64"
      ]
     },
     "execution_count": 20,
     "metadata": {},
     "output_type": "execute_result"
    }
   ],
   "source": [
    "# проверим изменения\n",
    "data['balcony'].head()"
   ]
  },
  {
   "cell_type": "code",
   "execution_count": 21,
   "metadata": {},
   "outputs": [],
   "source": [
    "# заменим пропуски в days_exposition (сколько дней было размещено объявление (от публикации до снятия) \n",
    "# и заменим тип данных на  int (целое число)\n",
    "data['days_exposition'] = data['days_exposition'].fillna(0).astype('int')"
   ]
  },
  {
   "cell_type": "code",
   "execution_count": 22,
   "metadata": {},
   "outputs": [
    {
     "data": {
      "text/plain": [
       "0      0\n",
       "1     81\n",
       "2    558\n",
       "3    424\n",
       "4    121\n",
       "Name: days_exposition, dtype: int64"
      ]
     },
     "execution_count": 22,
     "metadata": {},
     "output_type": "execute_result"
    }
   ],
   "source": [
    "# проверим изменения\n",
    "data['days_exposition'].head()"
   ]
  },
  {
   "cell_type": "code",
   "execution_count": 23,
   "metadata": {},
   "outputs": [
    {
     "data": {
      "text/plain": [
       "total_images                0\n",
       "last_price                  0\n",
       "total_area                  0\n",
       "first_day_exposition        0\n",
       "rooms                       0\n",
       "ceiling_height           9195\n",
       "floors_total               86\n",
       "living_area              1903\n",
       "floor                       0\n",
       "is_apartment                0\n",
       "studio                      0\n",
       "open_plan                   0\n",
       "kitchen_area             2278\n",
       "balcony                     0\n",
       "locality_name              49\n",
       "airports_nearest         5542\n",
       "cityCenters_nearest      5519\n",
       "parks_around3000         5518\n",
       "parks_nearest           15620\n",
       "ponds_around3000         5518\n",
       "ponds_nearest           14589\n",
       "days_exposition             0\n",
       "dtype: int64"
      ]
     },
     "execution_count": 23,
     "metadata": {},
     "output_type": "execute_result"
    }
   ],
   "source": [
    "# выводим количество оставшихся после обработки пропущенных значений для каждого столбца\n",
    "data.isna().sum()"
   ]
  },
  {
   "cell_type": "code",
   "execution_count": 24,
   "metadata": {},
   "outputs": [],
   "source": [
    "# удаляем записи, где отсутствует локация и этажность\n",
    "data.dropna(subset=['floors_total'], inplace=True)\n",
    "data.dropna(subset=['locality_name'], inplace=True)"
   ]
  },
  {
   "cell_type": "code",
   "execution_count": 25,
   "metadata": {},
   "outputs": [
    {
     "data": {
      "text/plain": [
       "0"
      ]
     },
     "execution_count": 25,
     "metadata": {},
     "output_type": "execute_result"
    }
   ],
   "source": [
    "# проверили результат\n",
    "data['floors_total'].isna().sum()"
   ]
  },
  {
   "cell_type": "code",
   "execution_count": 26,
   "metadata": {},
   "outputs": [
    {
     "data": {
      "text/plain": [
       "0"
      ]
     },
     "execution_count": 26,
     "metadata": {},
     "output_type": "execute_result"
    }
   ],
   "source": [
    "# проверили результат\n",
    "data['locality_name'].isna().sum()"
   ]
  },
  {
   "cell_type": "code",
   "execution_count": 27,
   "metadata": {},
   "outputs": [],
   "source": [
    "# приводим этажность к целочисленному типу\n",
    "data['floors_total'] = data['floors_total'].astype(int)"
   ]
  },
  {
   "cell_type": "code",
   "execution_count": 28,
   "metadata": {},
   "outputs": [
    {
     "data": {
      "text/plain": [
       "0    16\n",
       "1    11\n",
       "2     5\n",
       "3    14\n",
       "4    14\n",
       "Name: floors_total, dtype: int64"
      ]
     },
     "execution_count": 28,
     "metadata": {},
     "output_type": "execute_result"
    }
   ],
   "source": [
    "# проверили результат\n",
    "data['floors_total'].head()"
   ]
  },
  {
   "cell_type": "code",
   "execution_count": 29,
   "metadata": {},
   "outputs": [],
   "source": [
    "# заменяем пустые значения высоты потолков на медианное значение\n",
    "data['ceiling_height'].fillna(data['ceiling_height'].median(), inplace=True)"
   ]
  },
  {
   "cell_type": "code",
   "execution_count": 30,
   "metadata": {},
   "outputs": [],
   "source": [
    "# заменяем пустые значения жилой площади и площади кухни на среднее\n",
    "living_ar = data['living_area'].mean() / data['total_area'].mean()\n",
    "kitchen_ar = data['kitchen_area'].mean() / data['total_area'].mean()\n",
    "data['living_area'].fillna(living_ar * data['total_area'], inplace=True)\n",
    "data['kitchen_area'].fillna(kitchen_ar * data['total_area'], inplace=True)"
   ]
  },
  {
   "cell_type": "code",
   "execution_count": 31,
   "metadata": {},
   "outputs": [],
   "source": [
    "# заменяем пустые значения расстояния до ближайшего аэропорта на среднее\n",
    "data['airports_nearest'] = data['airports_nearest'].astype('float64')\n",
    "data['airports_nearest'] = data['airports_nearest'].fillna(data['airports_nearest'].mean())"
   ]
  },
  {
   "cell_type": "code",
   "execution_count": 32,
   "metadata": {},
   "outputs": [],
   "source": [
    "# заменяем пустые значения расстояния до центра города на среднее\n",
    "data['cityCenters_nearest'] = data['cityCenters_nearest'].astype('float64')\n",
    "data['cityCenters_nearest'] = data['cityCenters_nearest'].fillna(data['cityCenters_nearest'].mean())"
   ]
  },
  {
   "cell_type": "code",
   "execution_count": 33,
   "metadata": {},
   "outputs": [],
   "source": [
    "# заменяем пустые значения расстояния до ближайшего парка на среднее\n",
    "data['parks_nearest'] = data['parks_nearest'].fillna(0)\n",
    "data['parks_nearest'] = data['parks_nearest'].astype('int')"
   ]
  },
  {
   "cell_type": "code",
   "execution_count": 34,
   "metadata": {},
   "outputs": [],
   "source": [
    "# заменяем пустые значения расстояния до ближайшего водоема на среднее\n",
    "data['ponds_nearest'] = data['ponds_nearest'].fillna(0)\n",
    "data['ponds_nearest'] = data['ponds_nearest'].astype('int')"
   ]
  },
  {
   "cell_type": "code",
   "execution_count": 35,
   "metadata": {},
   "outputs": [
    {
     "data": {
      "text/plain": [
       "total_images               0\n",
       "last_price                 0\n",
       "total_area                 0\n",
       "first_day_exposition       0\n",
       "rooms                      0\n",
       "ceiling_height             0\n",
       "floors_total               0\n",
       "living_area                0\n",
       "floor                      0\n",
       "is_apartment               0\n",
       "studio                     0\n",
       "open_plan                  0\n",
       "kitchen_area               0\n",
       "balcony                    0\n",
       "locality_name              0\n",
       "airports_nearest           0\n",
       "cityCenters_nearest        0\n",
       "parks_around3000        5500\n",
       "parks_nearest              0\n",
       "ponds_around3000        5500\n",
       "ponds_nearest              0\n",
       "days_exposition            0\n",
       "dtype: int64"
      ]
     },
     "execution_count": 35,
     "metadata": {},
     "output_type": "execute_result"
    }
   ],
   "source": [
    "# проверяем количество пропущенных значений для каждого столбца \n",
    "data.isna().sum()"
   ]
  },
  {
   "cell_type": "code",
   "execution_count": 36,
   "metadata": {},
   "outputs": [
    {
     "name": "stdout",
     "output_type": "stream",
     "text": [
      "<class 'pandas.core.frame.DataFrame'>\n",
      "Int64Index: 23565 entries, 0 to 23698\n",
      "Data columns (total 22 columns):\n",
      " #   Column                Non-Null Count  Dtype         \n",
      "---  ------                --------------  -----         \n",
      " 0   total_images          23565 non-null  int64         \n",
      " 1   last_price            23565 non-null  int64         \n",
      " 2   total_area            23565 non-null  float64       \n",
      " 3   first_day_exposition  23565 non-null  datetime64[ns]\n",
      " 4   rooms                 23565 non-null  int64         \n",
      " 5   ceiling_height        23565 non-null  float64       \n",
      " 6   floors_total          23565 non-null  int64         \n",
      " 7   living_area           23565 non-null  float64       \n",
      " 8   floor                 23565 non-null  int64         \n",
      " 9   is_apartment          23565 non-null  bool          \n",
      " 10  studio                23565 non-null  bool          \n",
      " 11  open_plan             23565 non-null  bool          \n",
      " 12  kitchen_area          23565 non-null  float64       \n",
      " 13  balcony               23565 non-null  int64         \n",
      " 14  locality_name         23565 non-null  object        \n",
      " 15  airports_nearest      23565 non-null  float64       \n",
      " 16  cityCenters_nearest   23565 non-null  float64       \n",
      " 17  parks_around3000      18065 non-null  float64       \n",
      " 18  parks_nearest         23565 non-null  int64         \n",
      " 19  ponds_around3000      18065 non-null  float64       \n",
      " 20  ponds_nearest         23565 non-null  int64         \n",
      " 21  days_exposition       23565 non-null  int64         \n",
      "dtypes: bool(3), datetime64[ns](1), float64(8), int64(9), object(1)\n",
      "memory usage: 3.7+ MB\n"
     ]
    }
   ],
   "source": [
    "# проверим сколько строк осталось и как поменялся тип значений после обработки\n",
    "data.info()"
   ]
  },
  {
   "cell_type": "markdown",
   "metadata": {},
   "source": [
    "**Проверим аномальные значения** в столбцах last_price, rooms, total_area, living_area, floor, kitchen_area."
   ]
  },
  {
   "cell_type": "code",
   "execution_count": 37,
   "metadata": {},
   "outputs": [
    {
     "data": {
      "text/plain": [
       "count    2.356500e+04\n",
       "mean     6.540058e+06\n",
       "std      1.091093e+07\n",
       "min      1.219000e+04\n",
       "25%      3.400000e+06\n",
       "50%      4.646000e+06\n",
       "75%      6.790000e+06\n",
       "max      7.630000e+08\n",
       "Name: last_price, dtype: float64"
      ]
     },
     "execution_count": 37,
     "metadata": {},
     "output_type": "execute_result"
    }
   ],
   "source": [
    "# проверим аномальные значения по количеству комнат\n",
    "data['last_price'].describe()"
   ]
  },
  {
   "cell_type": "code",
   "execution_count": 106,
   "metadata": {},
   "outputs": [
    {
     "data": {
      "text/plain": [
       "(0.0, 15000000.0)"
      ]
     },
     "execution_count": 106,
     "metadata": {},
     "output_type": "execute_result"
    },
    {
     "data": {
      "image/png": "[encoded data removed]",
      "text/plain": [
       "<Figure size 432x288 with 1 Axes>"
      ]
     },
     "metadata": {
      "needs_background": "light"
     },
     "output_type": "display_data"
    }
   ],
   "source": [
    "data['last_price'].plot(kind='box')\n",
    "plt.ylim(0, 15000000)"
   ]
  },
  {
   "cell_type": "markdown",
   "metadata": {},
   "source": [
    "Разберемся с аномально маленькими значениями. Удалим строку с минимальным значением в 12 тысяч рублей, так как квартира не может столько  стоить.\n"
   ]
  },
  {
   "cell_type": "code",
   "execution_count": 39,
   "metadata": {},
   "outputs": [],
   "source": [
    "data = data.drop(data['last_price'].idxmin()).reset_index(drop=True)"
   ]
  },
  {
   "cell_type": "markdown",
   "metadata": {},
   "source": [
    "Квартира стоимостью 763 млн. руб сильно выбивается среди остальных значений. Построим гистограмму для квартир стоимостью больше 100 млн. руб."
   ]
  },
  {
   "cell_type": "code",
   "execution_count": 40,
   "metadata": {},
   "outputs": [
    {
     "data": {
      "text/plain": [
       "<AxesSubplot:>"
      ]
     },
     "execution_count": 40,
     "metadata": {},
     "output_type": "execute_result"
    },
    {
     "data": {
      "image/png": "[encoded data removed]",
      "text/plain": [
       "<Figure size 432x288 with 1 Axes>"
      ]
     },
     "metadata": {
      "needs_background": "light"
     },
     "output_type": "display_data"
    }
   ],
   "source": [
    "data.query('last_price > 100000000')['last_price'].hist(bins=30)"
   ]
  },
  {
   "cell_type": "markdown",
   "metadata": {},
   "source": [
    "Выше 200 млн. руб стоят очень мало квартир, их можно удалить как выбивающиеся значения."
   ]
  },
  {
   "cell_type": "code",
   "execution_count": 41,
   "metadata": {},
   "outputs": [],
   "source": [
    "data = data.drop(data.query('last_price > 200000000').index).reset_index(drop=True)"
   ]
  },
  {
   "cell_type": "code",
   "execution_count": 42,
   "metadata": {},
   "outputs": [
    {
     "data": {
      "text/plain": [
       "count    2.355500e+04\n",
       "mean     6.406195e+06\n",
       "std      7.910227e+06\n",
       "min      4.300000e+05\n",
       "25%      3.400000e+06\n",
       "50%      4.640000e+06\n",
       "75%      6.777500e+06\n",
       "max      1.908700e+08\n",
       "Name: last_price, dtype: float64"
      ]
     },
     "execution_count": 42,
     "metadata": {},
     "output_type": "execute_result"
    }
   ],
   "source": [
    "# проверим результат обработки\n",
    "data['last_price'].describe()"
   ]
  },
  {
   "cell_type": "markdown",
   "metadata": {},
   "source": [
    "Минимальная стоимость в 430 тыс. руб. является адекватной. Возможно, это квартира с мальенькой площадью и в области."
   ]
  },
  {
   "cell_type": "code",
   "execution_count": 43,
   "metadata": {},
   "outputs": [
    {
     "data": {
      "text/plain": [
       "count    23555.000000\n",
       "mean         2.069157\n",
       "std          1.074817\n",
       "min          0.000000\n",
       "25%          1.000000\n",
       "50%          2.000000\n",
       "75%          3.000000\n",
       "max         19.000000\n",
       "Name: rooms, dtype: float64"
      ]
     },
     "execution_count": 43,
     "metadata": {},
     "output_type": "execute_result"
    }
   ],
   "source": [
    "# проверим 0  и аномальные значения по количеству комнат\n",
    "data['rooms'].describe()"
   ]
  },
  {
   "cell_type": "code",
   "execution_count": 44,
   "metadata": {},
   "outputs": [
    {
     "data": {
      "text/plain": [
       "<AxesSubplot:>"
      ]
     },
     "execution_count": 44,
     "metadata": {},
     "output_type": "execute_result"
    },
    {
     "data": {
      "image/png": "[encoded data removed]",
      "text/plain": [
       "<Figure size 432x288 with 1 Axes>"
      ]
     },
     "metadata": {
      "needs_background": "light"
     },
     "output_type": "display_data"
    }
   ],
   "source": [
    "data['rooms'].plot(kind='box')"
   ]
  },
  {
   "cell_type": "markdown",
   "metadata": {},
   "source": [
    "Комнат не может быть 0 и скорее не может быть 19. \n",
    "0 заменим на один, а где комнат больше 8 отбросим."
   ]
  },
  {
   "cell_type": "code",
   "execution_count": 45,
   "metadata": {},
   "outputs": [],
   "source": [
    "# Комнат не может быть 0. Возможно, это квартира-студия и значение заменим на 1\n",
    "data['rooms'] = data['rooms'].replace(0, 1)"
   ]
  },
  {
   "cell_type": "code",
   "execution_count": 46,
   "metadata": {},
   "outputs": [
    {
     "data": {
      "text/plain": [
       "1    8198\n",
       "2    7895\n",
       "3    5778\n",
       "4    1172\n",
       "5     324\n",
       "6     101\n",
       "7      57\n",
       "8      12\n",
       "Name: rooms, dtype: int64"
      ]
     },
     "execution_count": 46,
     "metadata": {},
     "output_type": "execute_result"
    }
   ],
   "source": [
    "# отбросим квартиры, где комнат больше 8\n",
    "data = data.query('rooms <= 8')\n",
    "data['rooms'].value_counts()"
   ]
  },
  {
   "cell_type": "code",
   "execution_count": 47,
   "metadata": {},
   "outputs": [
    {
     "data": {
      "text/plain": [
       "0"
      ]
     },
     "execution_count": 47,
     "metadata": {},
     "output_type": "execute_result"
    }
   ],
   "source": [
    "# проверим количество нулевых значений\n",
    "data['rooms'].isna().sum()"
   ]
  },
  {
   "cell_type": "code",
   "execution_count": 48,
   "metadata": {},
   "outputs": [
    {
     "data": {
      "text/plain": [
       "count    23537.000000\n",
       "mean        59.993153\n",
       "std         33.927733\n",
       "min         12.000000\n",
       "25%         40.000000\n",
       "50%         52.000000\n",
       "75%         69.500000\n",
       "max        631.200000\n",
       "Name: total_area, dtype: float64"
      ]
     },
     "execution_count": 48,
     "metadata": {},
     "output_type": "execute_result"
    }
   ],
   "source": [
    "# проверим аномальные значения в общей площади\n",
    "data['total_area'].describe()"
   ]
  },
  {
   "cell_type": "code",
   "execution_count": 49,
   "metadata": {},
   "outputs": [
    {
     "data": {
      "text/plain": [
       "<AxesSubplot:>"
      ]
     },
     "execution_count": 49,
     "metadata": {},
     "output_type": "execute_result"
    },
    {
     "data": {
      "image/png": "[encoded data removed]",
      "text/plain": [
       "<Figure size 432x288 with 1 Axes>"
      ]
     },
     "metadata": {
      "needs_background": "light"
     },
     "output_type": "display_data"
    }
   ],
   "source": [
    "data['total_area'].plot(kind='box')"
   ]
  },
  {
   "cell_type": "markdown",
   "metadata": {},
   "source": [
    "Отбросим квартиры с общей площадью меньше 20 квадратных метров. Квартиры с аномально большой площадью пока не будем считать выбросами, так как они могут быть элитными домами."
   ]
  },
  {
   "cell_type": "code",
   "execution_count": 50,
   "metadata": {},
   "outputs": [
    {
     "data": {
      "text/plain": [
       "45.00     419\n",
       "42.00     383\n",
       "60.00     346\n",
       "31.00     346\n",
       "44.00     343\n",
       "         ... \n",
       "44.24       1\n",
       "56.85       1\n",
       "37.92       1\n",
       "115.60      1\n",
       "55.06       1\n",
       "Name: total_area, Length: 2123, dtype: int64"
      ]
     },
     "execution_count": 50,
     "metadata": {},
     "output_type": "execute_result"
    }
   ],
   "source": [
    "# Отбросим квартиры с площадью меньше 20 квадратных метров\n",
    "data = data.query('total_area >= 20')\n",
    "data['total_area'].value_counts()"
   ]
  },
  {
   "cell_type": "code",
   "execution_count": 51,
   "metadata": {},
   "outputs": [
    {
     "data": {
      "text/plain": [
       "count    23510.000000\n",
       "mean        34.427114\n",
       "std         21.497845\n",
       "min          2.000000\n",
       "25%         19.000000\n",
       "50%         30.000000\n",
       "75%         42.100000\n",
       "max        360.410721\n",
       "Name: living_area, dtype: float64"
      ]
     },
     "execution_count": 51,
     "metadata": {},
     "output_type": "execute_result"
    }
   ],
   "source": [
    "# проверим аномальные значения в жилой площади\n",
    "data['living_area'].describe()"
   ]
  },
  {
   "cell_type": "code",
   "execution_count": 52,
   "metadata": {},
   "outputs": [
    {
     "data": {
      "text/plain": [
       "<AxesSubplot:>"
      ]
     },
     "execution_count": 52,
     "metadata": {},
     "output_type": "execute_result"
    },
    {
     "data": {
      "image/png": "[encoded data removed]",
      "text/plain": [
       "<Figure size 432x288 with 1 Axes>"
      ]
     },
     "metadata": {
      "needs_background": "light"
     },
     "output_type": "display_data"
    }
   ],
   "source": [
    "data['living_area'].plot(kind='box')"
   ]
  },
  {
   "cell_type": "markdown",
   "metadata": {},
   "source": [
    "Отбросим значения жилой площади, которые меньше 10 кв. м. Ситуация с большой площадью аналогична ситуации с total_area."
   ]
  },
  {
   "cell_type": "code",
   "execution_count": 53,
   "metadata": {},
   "outputs": [
    {
     "data": {
      "text/plain": [
       "18.00    882\n",
       "17.00    673\n",
       "30.00    598\n",
       "16.00    481\n",
       "20.00    479\n",
       "        ... \n",
       "35.77      1\n",
       "96.40      1\n",
       "50.26      1\n",
       "43.81      1\n",
       "16.74      1\n",
       "Name: living_area, Length: 2368, dtype: int64"
      ]
     },
     "execution_count": 53,
     "metadata": {},
     "output_type": "execute_result"
    }
   ],
   "source": [
    "# отбросили значения меньше 10 кв. м\n",
    "data = data.query('living_area > 9')\n",
    "data['living_area'].value_counts()"
   ]
  },
  {
   "cell_type": "code",
   "execution_count": 54,
   "metadata": {},
   "outputs": [
    {
     "data": {
      "text/plain": [
       "count    23488.000000\n",
       "mean        10.473320\n",
       "std          5.908225\n",
       "min          1.300000\n",
       "25%          7.000000\n",
       "50%          9.000000\n",
       "75%         12.000000\n",
       "max        107.000000\n",
       "Name: kitchen_area, dtype: float64"
      ]
     },
     "execution_count": 54,
     "metadata": {},
     "output_type": "execute_result"
    }
   ],
   "source": [
    "# проверим аномальные значения в площади кухни\n",
    "data['kitchen_area'].describe()"
   ]
  },
  {
   "cell_type": "code",
   "execution_count": 55,
   "metadata": {},
   "outputs": [
    {
     "data": {
      "text/plain": [
       "<AxesSubplot:>"
      ]
     },
     "execution_count": 55,
     "metadata": {},
     "output_type": "execute_result"
    },
    {
     "data": {
      "image/png": "[encoded data removed]",
      "text/plain": [
       "<Figure size 432x288 with 1 Axes>"
      ]
     },
     "metadata": {
      "needs_background": "light"
     },
     "output_type": "display_data"
    }
   ],
   "source": [
    "data['kitchen_area'].plot(kind='box')"
   ]
  },
  {
   "cell_type": "markdown",
   "metadata": {},
   "source": [
    "Отбросим значения, в которых кухня может быть меньше 4 кв. м. Квартиры, где кухня имеет большую площадь, значит и общая площадь квартиры будет большая, поэтому считать их выбросами нельзя."
   ]
  },
  {
   "cell_type": "code",
   "execution_count": 56,
   "metadata": {},
   "outputs": [
    {
     "data": {
      "text/plain": [
       "6.000000     1297\n",
       "10.000000    1259\n",
       "8.000000     1108\n",
       "9.000000     1098\n",
       "7.000000     1062\n",
       "             ... \n",
       "53.100000       1\n",
       "14.986386       1\n",
       "13.410000       1\n",
       "34.510000       1\n",
       "16.740000       1\n",
       "Name: kitchen_area, Length: 1604, dtype: int64"
      ]
     },
     "execution_count": 56,
     "metadata": {},
     "output_type": "execute_result"
    }
   ],
   "source": [
    "# отбросили значения, где кухня меньше 4 кв. м.\n",
    "data =data.query('kitchen_area >= 4')\n",
    "data['kitchen_area'].value_counts()"
   ]
  },
  {
   "cell_type": "markdown",
   "metadata": {},
   "source": [
    "***Вывод:***\n",
    "<div style=\"border:solid green 1px; padding: 20px\">  \n",
    "   \n",
    "В ходе предобработки данных были заполнены пропуски в столбцах с которыми предстоит работать дальше. \n",
    "В столбце число балконов были пропущены значения, скорее всего, это связано с отсутствием балконов.\n",
    "В других столбцах отсутствие данных связано с тем, что данные заполнялись пользователями и не были обязательными к заполнению. \n",
    "В столбцах parks_around3000, ponds_around3000 оставили незаполненные значения, так как мы их не будем использовать в анализе.      \n",
    "Удалили записи, где отсутствовала локация и этажность. \n",
    "Всего были удалены 134 строки.   \n",
    "Изменили аномальные значения высоты потолков на медианное значение.  \n",
    "Выявили аномальные значения в столбце количество комнат и изменили нулевое значение на 1, так как 0 комнат быть не может и отбросили количество комнат больше восьми. Отбросим квартиры с общей площадью меньше 20 квадратных метров. Квартиры с аномально большой площадью оставили, так как они могут быть элитными домами. Отбросим значения жилой площади, которые меньше 10 кв. м.\n",
    "Отбросим значения, в которых кухня может быть меньше 4 кв. м. Квартиры, где кухня имеет большую площадь, значит и общая площадь квартиры будет большая, поэтому оставили их.  \n",
    "Данные готовы для дальнейшего анализа.      \n",
    "</div>"
   ]
  },
  {
   "cell_type": "markdown",
   "metadata": {},
   "source": [
    "### Посчитайте и добавьте в таблицу новые столбцы"
   ]
  },
  {
   "cell_type": "markdown",
   "metadata": {},
   "source": [
    "<div style=\"border:solid blue 1px; padding: 20px\"> \n",
    "    \n",
    "# Цели:\n",
    "\n",
    "\n",
    "1. Цена одного квадратного метра.  \n",
    "2. День недели публикации объявления (0 — понедельник, 1 — вторник и так далее).  \n",
    "3. Месяц публикации объявления.  \n",
    "4. Год публикации объявления.  \n",
    "5. Тип этажа квартиры (значения — «‎первый», «последний», «другой»).  \n",
    "6. Расстояние до центра города в километрах.   \n",
    "    \n",
    "</div>"
   ]
  },
  {
   "cell_type": "code",
   "execution_count": 57,
   "metadata": {},
   "outputs": [],
   "source": [
    "#рассчитаем стоимость квадратного метра\n",
    "data['price_square_meter'] = data['last_price'] / data['total_area']"
   ]
  },
  {
   "cell_type": "code",
   "execution_count": 58,
   "metadata": {},
   "outputs": [],
   "source": [
    "# и преведем ее к целому числу int для удобства\n",
    "data['price_square_meter'] = data['price_square_meter'].astype('int')"
   ]
  },
  {
   "cell_type": "code",
   "execution_count": 59,
   "metadata": {},
   "outputs": [
    {
     "data": {
      "text/html": [
       "<div>\n",
       "<style scoped>\n",
       "    .dataframe tbody tr th:only-of-type {\n",
       "        vertical-align: middle;\n",
       "    }\n",
       "\n",
       "    .dataframe tbody tr th {\n",
       "        vertical-align: top;\n",
       "    }\n",
       "\n",
       "    .dataframe thead th {\n",
       "        text-align: right;\n",
       "    }\n",
       "</style>\n",
       "<table border=\"1\" class=\"dataframe\">\n",
       "  <thead>\n",
       "    <tr style=\"text-align: right;\">\n",
       "      <th></th>\n",
       "      <th>total_images</th>\n",
       "      <th>last_price</th>\n",
       "      <th>total_area</th>\n",
       "      <th>first_day_exposition</th>\n",
       "      <th>rooms</th>\n",
       "      <th>ceiling_height</th>\n",
       "      <th>floors_total</th>\n",
       "      <th>living_area</th>\n",
       "      <th>floor</th>\n",
       "      <th>is_apartment</th>\n",
       "      <th>...</th>\n",
       "      <th>balcony</th>\n",
       "      <th>locality_name</th>\n",
       "      <th>airports_nearest</th>\n",
       "      <th>cityCenters_nearest</th>\n",
       "      <th>parks_around3000</th>\n",
       "      <th>parks_nearest</th>\n",
       "      <th>ponds_around3000</th>\n",
       "      <th>ponds_nearest</th>\n",
       "      <th>days_exposition</th>\n",
       "      <th>price_square_meter</th>\n",
       "    </tr>\n",
       "  </thead>\n",
       "  <tbody>\n",
       "    <tr>\n",
       "      <th>0</th>\n",
       "      <td>20</td>\n",
       "      <td>13000000</td>\n",
       "      <td>108.0</td>\n",
       "      <td>2019-03-07</td>\n",
       "      <td>3</td>\n",
       "      <td>2.70</td>\n",
       "      <td>16</td>\n",
       "      <td>51.000000</td>\n",
       "      <td>8</td>\n",
       "      <td>False</td>\n",
       "      <td>...</td>\n",
       "      <td>0</td>\n",
       "      <td>Санкт-Петербург</td>\n",
       "      <td>18863.0</td>\n",
       "      <td>16028.0</td>\n",
       "      <td>1.0</td>\n",
       "      <td>482</td>\n",
       "      <td>2.0</td>\n",
       "      <td>755</td>\n",
       "      <td>0</td>\n",
       "      <td>120370</td>\n",
       "    </tr>\n",
       "    <tr>\n",
       "      <th>1</th>\n",
       "      <td>7</td>\n",
       "      <td>3350000</td>\n",
       "      <td>40.4</td>\n",
       "      <td>2018-12-04</td>\n",
       "      <td>1</td>\n",
       "      <td>2.65</td>\n",
       "      <td>11</td>\n",
       "      <td>18.600000</td>\n",
       "      <td>1</td>\n",
       "      <td>False</td>\n",
       "      <td>...</td>\n",
       "      <td>2</td>\n",
       "      <td>поселок Шушары</td>\n",
       "      <td>12817.0</td>\n",
       "      <td>18603.0</td>\n",
       "      <td>0.0</td>\n",
       "      <td>0</td>\n",
       "      <td>0.0</td>\n",
       "      <td>0</td>\n",
       "      <td>81</td>\n",
       "      <td>82920</td>\n",
       "    </tr>\n",
       "    <tr>\n",
       "      <th>2</th>\n",
       "      <td>10</td>\n",
       "      <td>5196000</td>\n",
       "      <td>56.0</td>\n",
       "      <td>2015-08-20</td>\n",
       "      <td>2</td>\n",
       "      <td>2.65</td>\n",
       "      <td>5</td>\n",
       "      <td>34.300000</td>\n",
       "      <td>4</td>\n",
       "      <td>False</td>\n",
       "      <td>...</td>\n",
       "      <td>0</td>\n",
       "      <td>Санкт-Петербург</td>\n",
       "      <td>21741.0</td>\n",
       "      <td>13933.0</td>\n",
       "      <td>1.0</td>\n",
       "      <td>90</td>\n",
       "      <td>2.0</td>\n",
       "      <td>574</td>\n",
       "      <td>558</td>\n",
       "      <td>92785</td>\n",
       "    </tr>\n",
       "    <tr>\n",
       "      <th>3</th>\n",
       "      <td>0</td>\n",
       "      <td>64900000</td>\n",
       "      <td>159.0</td>\n",
       "      <td>2015-07-24</td>\n",
       "      <td>3</td>\n",
       "      <td>2.65</td>\n",
       "      <td>14</td>\n",
       "      <td>90.816648</td>\n",
       "      <td>9</td>\n",
       "      <td>False</td>\n",
       "      <td>...</td>\n",
       "      <td>0</td>\n",
       "      <td>Санкт-Петербург</td>\n",
       "      <td>28098.0</td>\n",
       "      <td>6800.0</td>\n",
       "      <td>2.0</td>\n",
       "      <td>84</td>\n",
       "      <td>3.0</td>\n",
       "      <td>234</td>\n",
       "      <td>424</td>\n",
       "      <td>408176</td>\n",
       "    </tr>\n",
       "    <tr>\n",
       "      <th>4</th>\n",
       "      <td>2</td>\n",
       "      <td>10000000</td>\n",
       "      <td>100.0</td>\n",
       "      <td>2018-06-19</td>\n",
       "      <td>2</td>\n",
       "      <td>3.03</td>\n",
       "      <td>14</td>\n",
       "      <td>32.000000</td>\n",
       "      <td>13</td>\n",
       "      <td>False</td>\n",
       "      <td>...</td>\n",
       "      <td>0</td>\n",
       "      <td>Санкт-Петербург</td>\n",
       "      <td>31856.0</td>\n",
       "      <td>8098.0</td>\n",
       "      <td>2.0</td>\n",
       "      <td>112</td>\n",
       "      <td>1.0</td>\n",
       "      <td>48</td>\n",
       "      <td>121</td>\n",
       "      <td>100000</td>\n",
       "    </tr>\n",
       "  </tbody>\n",
       "</table>\n",
       "<p>5 rows × 23 columns</p>\n",
       "</div>"
      ],
      "text/plain": [
       "   total_images  last_price  total_area first_day_exposition  rooms  \\\n",
       "0            20    13000000       108.0           2019-03-07      3   \n",
       "1             7     3350000        40.4           2018-12-04      1   \n",
       "2            10     5196000        56.0           2015-08-20      2   \n",
       "3             0    64900000       159.0           2015-07-24      3   \n",
       "4             2    10000000       100.0           2018-06-19      2   \n",
       "\n",
       "   ceiling_height  floors_total  living_area  floor  is_apartment  ...  \\\n",
       "0            2.70            16    51.000000      8         False  ...   \n",
       "1            2.65            11    18.600000      1         False  ...   \n",
       "2            2.65             5    34.300000      4         False  ...   \n",
       "3            2.65            14    90.816648      9         False  ...   \n",
       "4            3.03            14    32.000000     13         False  ...   \n",
       "\n",
       "   balcony    locality_name  airports_nearest  cityCenters_nearest  \\\n",
       "0        0  Санкт-Петербург           18863.0              16028.0   \n",
       "1        2   поселок Шушары           12817.0              18603.0   \n",
       "2        0  Санкт-Петербург           21741.0              13933.0   \n",
       "3        0  Санкт-Петербург           28098.0               6800.0   \n",
       "4        0  Санкт-Петербург           31856.0               8098.0   \n",
       "\n",
       "  parks_around3000  parks_nearest  ponds_around3000  ponds_nearest  \\\n",
       "0              1.0            482               2.0            755   \n",
       "1              0.0              0               0.0              0   \n",
       "2              1.0             90               2.0            574   \n",
       "3              2.0             84               3.0            234   \n",
       "4              2.0            112               1.0             48   \n",
       "\n",
       "   days_exposition  price_square_meter  \n",
       "0                0              120370  \n",
       "1               81               82920  \n",
       "2              558               92785  \n",
       "3              424              408176  \n",
       "4              121              100000  \n",
       "\n",
       "[5 rows x 23 columns]"
      ]
     },
     "execution_count": 59,
     "metadata": {},
     "output_type": "execute_result"
    }
   ],
   "source": [
    "# проверим результат\n",
    "data.head()"
   ]
  },
  {
   "cell_type": "code",
   "execution_count": 60,
   "metadata": {},
   "outputs": [],
   "source": [
    "# создаем столбец дня недели\n",
    "data['weekday_create'] = data['first_day_exposition'].dt.weekday"
   ]
  },
  {
   "cell_type": "code",
   "execution_count": 61,
   "metadata": {},
   "outputs": [],
   "source": [
    "# создаем столбец месяца публикации\n",
    "data['month_create'] = data['first_day_exposition'].dt.month"
   ]
  },
  {
   "cell_type": "code",
   "execution_count": 62,
   "metadata": {},
   "outputs": [],
   "source": [
    "# создаем столбец года\n",
    "data['year_create'] = data['first_day_exposition'].dt.year"
   ]
  },
  {
   "cell_type": "code",
   "execution_count": 63,
   "metadata": {},
   "outputs": [
    {
     "data": {
      "text/html": [
       "<div>\n",
       "<style scoped>\n",
       "    .dataframe tbody tr th:only-of-type {\n",
       "        vertical-align: middle;\n",
       "    }\n",
       "\n",
       "    .dataframe tbody tr th {\n",
       "        vertical-align: top;\n",
       "    }\n",
       "\n",
       "    .dataframe thead th {\n",
       "        text-align: right;\n",
       "    }\n",
       "</style>\n",
       "<table border=\"1\" class=\"dataframe\">\n",
       "  <thead>\n",
       "    <tr style=\"text-align: right;\">\n",
       "      <th></th>\n",
       "      <th>total_images</th>\n",
       "      <th>last_price</th>\n",
       "      <th>total_area</th>\n",
       "      <th>first_day_exposition</th>\n",
       "      <th>rooms</th>\n",
       "      <th>ceiling_height</th>\n",
       "      <th>floors_total</th>\n",
       "      <th>living_area</th>\n",
       "      <th>floor</th>\n",
       "      <th>is_apartment</th>\n",
       "      <th>...</th>\n",
       "      <th>cityCenters_nearest</th>\n",
       "      <th>parks_around3000</th>\n",
       "      <th>parks_nearest</th>\n",
       "      <th>ponds_around3000</th>\n",
       "      <th>ponds_nearest</th>\n",
       "      <th>days_exposition</th>\n",
       "      <th>price_square_meter</th>\n",
       "      <th>weekday_create</th>\n",
       "      <th>month_create</th>\n",
       "      <th>year_create</th>\n",
       "    </tr>\n",
       "  </thead>\n",
       "  <tbody>\n",
       "    <tr>\n",
       "      <th>0</th>\n",
       "      <td>20</td>\n",
       "      <td>13000000</td>\n",
       "      <td>108.0</td>\n",
       "      <td>2019-03-07</td>\n",
       "      <td>3</td>\n",
       "      <td>2.70</td>\n",
       "      <td>16</td>\n",
       "      <td>51.000000</td>\n",
       "      <td>8</td>\n",
       "      <td>False</td>\n",
       "      <td>...</td>\n",
       "      <td>16028.0</td>\n",
       "      <td>1.0</td>\n",
       "      <td>482</td>\n",
       "      <td>2.0</td>\n",
       "      <td>755</td>\n",
       "      <td>0</td>\n",
       "      <td>120370</td>\n",
       "      <td>3</td>\n",
       "      <td>3</td>\n",
       "      <td>2019</td>\n",
       "    </tr>\n",
       "    <tr>\n",
       "      <th>1</th>\n",
       "      <td>7</td>\n",
       "      <td>3350000</td>\n",
       "      <td>40.4</td>\n",
       "      <td>2018-12-04</td>\n",
       "      <td>1</td>\n",
       "      <td>2.65</td>\n",
       "      <td>11</td>\n",
       "      <td>18.600000</td>\n",
       "      <td>1</td>\n",
       "      <td>False</td>\n",
       "      <td>...</td>\n",
       "      <td>18603.0</td>\n",
       "      <td>0.0</td>\n",
       "      <td>0</td>\n",
       "      <td>0.0</td>\n",
       "      <td>0</td>\n",
       "      <td>81</td>\n",
       "      <td>82920</td>\n",
       "      <td>1</td>\n",
       "      <td>12</td>\n",
       "      <td>2018</td>\n",
       "    </tr>\n",
       "    <tr>\n",
       "      <th>2</th>\n",
       "      <td>10</td>\n",
       "      <td>5196000</td>\n",
       "      <td>56.0</td>\n",
       "      <td>2015-08-20</td>\n",
       "      <td>2</td>\n",
       "      <td>2.65</td>\n",
       "      <td>5</td>\n",
       "      <td>34.300000</td>\n",
       "      <td>4</td>\n",
       "      <td>False</td>\n",
       "      <td>...</td>\n",
       "      <td>13933.0</td>\n",
       "      <td>1.0</td>\n",
       "      <td>90</td>\n",
       "      <td>2.0</td>\n",
       "      <td>574</td>\n",
       "      <td>558</td>\n",
       "      <td>92785</td>\n",
       "      <td>3</td>\n",
       "      <td>8</td>\n",
       "      <td>2015</td>\n",
       "    </tr>\n",
       "    <tr>\n",
       "      <th>3</th>\n",
       "      <td>0</td>\n",
       "      <td>64900000</td>\n",
       "      <td>159.0</td>\n",
       "      <td>2015-07-24</td>\n",
       "      <td>3</td>\n",
       "      <td>2.65</td>\n",
       "      <td>14</td>\n",
       "      <td>90.816648</td>\n",
       "      <td>9</td>\n",
       "      <td>False</td>\n",
       "      <td>...</td>\n",
       "      <td>6800.0</td>\n",
       "      <td>2.0</td>\n",
       "      <td>84</td>\n",
       "      <td>3.0</td>\n",
       "      <td>234</td>\n",
       "      <td>424</td>\n",
       "      <td>408176</td>\n",
       "      <td>4</td>\n",
       "      <td>7</td>\n",
       "      <td>2015</td>\n",
       "    </tr>\n",
       "    <tr>\n",
       "      <th>4</th>\n",
       "      <td>2</td>\n",
       "      <td>10000000</td>\n",
       "      <td>100.0</td>\n",
       "      <td>2018-06-19</td>\n",
       "      <td>2</td>\n",
       "      <td>3.03</td>\n",
       "      <td>14</td>\n",
       "      <td>32.000000</td>\n",
       "      <td>13</td>\n",
       "      <td>False</td>\n",
       "      <td>...</td>\n",
       "      <td>8098.0</td>\n",
       "      <td>2.0</td>\n",
       "      <td>112</td>\n",
       "      <td>1.0</td>\n",
       "      <td>48</td>\n",
       "      <td>121</td>\n",
       "      <td>100000</td>\n",
       "      <td>1</td>\n",
       "      <td>6</td>\n",
       "      <td>2018</td>\n",
       "    </tr>\n",
       "  </tbody>\n",
       "</table>\n",
       "<p>5 rows × 26 columns</p>\n",
       "</div>"
      ],
      "text/plain": [
       "   total_images  last_price  total_area first_day_exposition  rooms  \\\n",
       "0            20    13000000       108.0           2019-03-07      3   \n",
       "1             7     3350000        40.4           2018-12-04      1   \n",
       "2            10     5196000        56.0           2015-08-20      2   \n",
       "3             0    64900000       159.0           2015-07-24      3   \n",
       "4             2    10000000       100.0           2018-06-19      2   \n",
       "\n",
       "   ceiling_height  floors_total  living_area  floor  is_apartment  ...  \\\n",
       "0            2.70            16    51.000000      8         False  ...   \n",
       "1            2.65            11    18.600000      1         False  ...   \n",
       "2            2.65             5    34.300000      4         False  ...   \n",
       "3            2.65            14    90.816648      9         False  ...   \n",
       "4            3.03            14    32.000000     13         False  ...   \n",
       "\n",
       "   cityCenters_nearest  parks_around3000  parks_nearest  ponds_around3000  \\\n",
       "0              16028.0               1.0            482               2.0   \n",
       "1              18603.0               0.0              0               0.0   \n",
       "2              13933.0               1.0             90               2.0   \n",
       "3               6800.0               2.0             84               3.0   \n",
       "4               8098.0               2.0            112               1.0   \n",
       "\n",
       "  ponds_nearest  days_exposition  price_square_meter  weekday_create  \\\n",
       "0           755                0              120370               3   \n",
       "1             0               81               82920               1   \n",
       "2           574              558               92785               3   \n",
       "3           234              424              408176               4   \n",
       "4            48              121              100000               1   \n",
       "\n",
       "   month_create  year_create  \n",
       "0             3         2019  \n",
       "1            12         2018  \n",
       "2             8         2015  \n",
       "3             7         2015  \n",
       "4             6         2018  \n",
       "\n",
       "[5 rows x 26 columns]"
      ]
     },
     "execution_count": 63,
     "metadata": {},
     "output_type": "execute_result"
    }
   ],
   "source": [
    "# проверяем результат\n",
    "data.head()"
   ]
  },
  {
   "cell_type": "code",
   "execution_count": 64,
   "metadata": {},
   "outputs": [],
   "source": [
    "#напишем функцию для типа этажей.\n",
    "def floor_category(row):\n",
    "    floors_total = row['floors_total']\n",
    "    floor = row['floor']\n",
    "    if floor == 1:\n",
    "        return 'первый'\n",
    "    elif floor == floors_total:\n",
    "        return 'последний'\n",
    "    elif 1 < floor < floors_total:\n",
    "        return 'другой'"
   ]
  },
  {
   "cell_type": "code",
   "execution_count": 65,
   "metadata": {},
   "outputs": [],
   "source": [
    "# применим с помощью функции  \n",
    "data['floor_category'] = data.apply(floor_category, axis = 1)"
   ]
  },
  {
   "cell_type": "code",
   "execution_count": 66,
   "metadata": {},
   "outputs": [
    {
     "data": {
      "text/html": [
       "<div>\n",
       "<style scoped>\n",
       "    .dataframe tbody tr th:only-of-type {\n",
       "        vertical-align: middle;\n",
       "    }\n",
       "\n",
       "    .dataframe tbody tr th {\n",
       "        vertical-align: top;\n",
       "    }\n",
       "\n",
       "    .dataframe thead th {\n",
       "        text-align: right;\n",
       "    }\n",
       "</style>\n",
       "<table border=\"1\" class=\"dataframe\">\n",
       "  <thead>\n",
       "    <tr style=\"text-align: right;\">\n",
       "      <th></th>\n",
       "      <th>total_images</th>\n",
       "      <th>last_price</th>\n",
       "      <th>total_area</th>\n",
       "      <th>first_day_exposition</th>\n",
       "      <th>rooms</th>\n",
       "      <th>ceiling_height</th>\n",
       "      <th>floors_total</th>\n",
       "      <th>living_area</th>\n",
       "      <th>floor</th>\n",
       "      <th>is_apartment</th>\n",
       "      <th>...</th>\n",
       "      <th>parks_around3000</th>\n",
       "      <th>parks_nearest</th>\n",
       "      <th>ponds_around3000</th>\n",
       "      <th>ponds_nearest</th>\n",
       "      <th>days_exposition</th>\n",
       "      <th>price_square_meter</th>\n",
       "      <th>weekday_create</th>\n",
       "      <th>month_create</th>\n",
       "      <th>year_create</th>\n",
       "      <th>floor_category</th>\n",
       "    </tr>\n",
       "  </thead>\n",
       "  <tbody>\n",
       "    <tr>\n",
       "      <th>0</th>\n",
       "      <td>20</td>\n",
       "      <td>13000000</td>\n",
       "      <td>108.0</td>\n",
       "      <td>2019-03-07</td>\n",
       "      <td>3</td>\n",
       "      <td>2.70</td>\n",
       "      <td>16</td>\n",
       "      <td>51.000000</td>\n",
       "      <td>8</td>\n",
       "      <td>False</td>\n",
       "      <td>...</td>\n",
       "      <td>1.0</td>\n",
       "      <td>482</td>\n",
       "      <td>2.0</td>\n",
       "      <td>755</td>\n",
       "      <td>0</td>\n",
       "      <td>120370</td>\n",
       "      <td>3</td>\n",
       "      <td>3</td>\n",
       "      <td>2019</td>\n",
       "      <td>другой</td>\n",
       "    </tr>\n",
       "    <tr>\n",
       "      <th>1</th>\n",
       "      <td>7</td>\n",
       "      <td>3350000</td>\n",
       "      <td>40.4</td>\n",
       "      <td>2018-12-04</td>\n",
       "      <td>1</td>\n",
       "      <td>2.65</td>\n",
       "      <td>11</td>\n",
       "      <td>18.600000</td>\n",
       "      <td>1</td>\n",
       "      <td>False</td>\n",
       "      <td>...</td>\n",
       "      <td>0.0</td>\n",
       "      <td>0</td>\n",
       "      <td>0.0</td>\n",
       "      <td>0</td>\n",
       "      <td>81</td>\n",
       "      <td>82920</td>\n",
       "      <td>1</td>\n",
       "      <td>12</td>\n",
       "      <td>2018</td>\n",
       "      <td>первый</td>\n",
       "    </tr>\n",
       "    <tr>\n",
       "      <th>2</th>\n",
       "      <td>10</td>\n",
       "      <td>5196000</td>\n",
       "      <td>56.0</td>\n",
       "      <td>2015-08-20</td>\n",
       "      <td>2</td>\n",
       "      <td>2.65</td>\n",
       "      <td>5</td>\n",
       "      <td>34.300000</td>\n",
       "      <td>4</td>\n",
       "      <td>False</td>\n",
       "      <td>...</td>\n",
       "      <td>1.0</td>\n",
       "      <td>90</td>\n",
       "      <td>2.0</td>\n",
       "      <td>574</td>\n",
       "      <td>558</td>\n",
       "      <td>92785</td>\n",
       "      <td>3</td>\n",
       "      <td>8</td>\n",
       "      <td>2015</td>\n",
       "      <td>другой</td>\n",
       "    </tr>\n",
       "    <tr>\n",
       "      <th>3</th>\n",
       "      <td>0</td>\n",
       "      <td>64900000</td>\n",
       "      <td>159.0</td>\n",
       "      <td>2015-07-24</td>\n",
       "      <td>3</td>\n",
       "      <td>2.65</td>\n",
       "      <td>14</td>\n",
       "      <td>90.816648</td>\n",
       "      <td>9</td>\n",
       "      <td>False</td>\n",
       "      <td>...</td>\n",
       "      <td>2.0</td>\n",
       "      <td>84</td>\n",
       "      <td>3.0</td>\n",
       "      <td>234</td>\n",
       "      <td>424</td>\n",
       "      <td>408176</td>\n",
       "      <td>4</td>\n",
       "      <td>7</td>\n",
       "      <td>2015</td>\n",
       "      <td>другой</td>\n",
       "    </tr>\n",
       "    <tr>\n",
       "      <th>4</th>\n",
       "      <td>2</td>\n",
       "      <td>10000000</td>\n",
       "      <td>100.0</td>\n",
       "      <td>2018-06-19</td>\n",
       "      <td>2</td>\n",
       "      <td>3.03</td>\n",
       "      <td>14</td>\n",
       "      <td>32.000000</td>\n",
       "      <td>13</td>\n",
       "      <td>False</td>\n",
       "      <td>...</td>\n",
       "      <td>2.0</td>\n",
       "      <td>112</td>\n",
       "      <td>1.0</td>\n",
       "      <td>48</td>\n",
       "      <td>121</td>\n",
       "      <td>100000</td>\n",
       "      <td>1</td>\n",
       "      <td>6</td>\n",
       "      <td>2018</td>\n",
       "      <td>другой</td>\n",
       "    </tr>\n",
       "  </tbody>\n",
       "</table>\n",
       "<p>5 rows × 27 columns</p>\n",
       "</div>"
      ],
      "text/plain": [
       "   total_images  last_price  total_area first_day_exposition  rooms  \\\n",
       "0            20    13000000       108.0           2019-03-07      3   \n",
       "1             7     3350000        40.4           2018-12-04      1   \n",
       "2            10     5196000        56.0           2015-08-20      2   \n",
       "3             0    64900000       159.0           2015-07-24      3   \n",
       "4             2    10000000       100.0           2018-06-19      2   \n",
       "\n",
       "   ceiling_height  floors_total  living_area  floor  is_apartment  ...  \\\n",
       "0            2.70            16    51.000000      8         False  ...   \n",
       "1            2.65            11    18.600000      1         False  ...   \n",
       "2            2.65             5    34.300000      4         False  ...   \n",
       "3            2.65            14    90.816648      9         False  ...   \n",
       "4            3.03            14    32.000000     13         False  ...   \n",
       "\n",
       "   parks_around3000  parks_nearest  ponds_around3000  ponds_nearest  \\\n",
       "0               1.0            482               2.0            755   \n",
       "1               0.0              0               0.0              0   \n",
       "2               1.0             90               2.0            574   \n",
       "3               2.0             84               3.0            234   \n",
       "4               2.0            112               1.0             48   \n",
       "\n",
       "  days_exposition  price_square_meter  weekday_create  month_create  \\\n",
       "0               0              120370               3             3   \n",
       "1              81               82920               1            12   \n",
       "2             558               92785               3             8   \n",
       "3             424              408176               4             7   \n",
       "4             121              100000               1             6   \n",
       "\n",
       "   year_create  floor_category  \n",
       "0         2019          другой  \n",
       "1         2018          первый  \n",
       "2         2015          другой  \n",
       "3         2015          другой  \n",
       "4         2018          другой  \n",
       "\n",
       "[5 rows x 27 columns]"
      ]
     },
     "execution_count": 66,
     "metadata": {},
     "output_type": "execute_result"
    }
   ],
   "source": [
    "# проверим результат работы функции\n",
    "data.head()"
   ]
  },
  {
   "cell_type": "code",
   "execution_count": 67,
   "metadata": {},
   "outputs": [
    {
     "name": "stdout",
     "output_type": "stream",
     "text": [
      "               locality_name  floor floor_category\n",
      "0            Санкт-Петербург      8         другой\n",
      "1             поселок Шушары      1         первый\n",
      "2            Санкт-Петербург      4         другой\n",
      "3            Санкт-Петербург      9         другой\n",
      "4            Санкт-Петербург     13         другой\n",
      "5  городской поселок Янино-1      5         другой\n",
      "6          поселок Парголово      6         другой\n",
      "7            Санкт-Петербург     22         другой\n",
      "8             поселок Мурино     26         другой\n",
      "9            Санкт-Петербург      7         другой\n"
     ]
    }
   ],
   "source": [
    "# сделали выборку и проверили результат\n",
    "stat = data[['locality_name', 'floor', 'floor_category']]\n",
    "print(stat.head(10))"
   ]
  },
  {
   "cell_type": "code",
   "execution_count": 68,
   "metadata": {},
   "outputs": [],
   "source": [
    "# добавляем столбец с отношением жилой площади к общей (area_proportion), переведем в % и приведем его в целочисленный тип int\n",
    "data['area_proportion'] = data['living_area'] / data['total_area'] * 100\n",
    "data['area_proportion'] = data['area_proportion'].fillna(value=0).astype(int)"
   ]
  },
  {
   "cell_type": "code",
   "execution_count": 69,
   "metadata": {},
   "outputs": [
    {
     "data": {
      "text/html": [
       "<div>\n",
       "<style scoped>\n",
       "    .dataframe tbody tr th:only-of-type {\n",
       "        vertical-align: middle;\n",
       "    }\n",
       "\n",
       "    .dataframe tbody tr th {\n",
       "        vertical-align: top;\n",
       "    }\n",
       "\n",
       "    .dataframe thead th {\n",
       "        text-align: right;\n",
       "    }\n",
       "</style>\n",
       "<table border=\"1\" class=\"dataframe\">\n",
       "  <thead>\n",
       "    <tr style=\"text-align: right;\">\n",
       "      <th></th>\n",
       "      <th>total_images</th>\n",
       "      <th>last_price</th>\n",
       "      <th>total_area</th>\n",
       "      <th>first_day_exposition</th>\n",
       "      <th>rooms</th>\n",
       "      <th>ceiling_height</th>\n",
       "      <th>floors_total</th>\n",
       "      <th>living_area</th>\n",
       "      <th>floor</th>\n",
       "      <th>is_apartment</th>\n",
       "      <th>...</th>\n",
       "      <th>parks_nearest</th>\n",
       "      <th>ponds_around3000</th>\n",
       "      <th>ponds_nearest</th>\n",
       "      <th>days_exposition</th>\n",
       "      <th>price_square_meter</th>\n",
       "      <th>weekday_create</th>\n",
       "      <th>month_create</th>\n",
       "      <th>year_create</th>\n",
       "      <th>floor_category</th>\n",
       "      <th>area_proportion</th>\n",
       "    </tr>\n",
       "  </thead>\n",
       "  <tbody>\n",
       "    <tr>\n",
       "      <th>0</th>\n",
       "      <td>20</td>\n",
       "      <td>13000000</td>\n",
       "      <td>108.0</td>\n",
       "      <td>2019-03-07</td>\n",
       "      <td>3</td>\n",
       "      <td>2.70</td>\n",
       "      <td>16</td>\n",
       "      <td>51.000000</td>\n",
       "      <td>8</td>\n",
       "      <td>False</td>\n",
       "      <td>...</td>\n",
       "      <td>482</td>\n",
       "      <td>2.0</td>\n",
       "      <td>755</td>\n",
       "      <td>0</td>\n",
       "      <td>120370</td>\n",
       "      <td>3</td>\n",
       "      <td>3</td>\n",
       "      <td>2019</td>\n",
       "      <td>другой</td>\n",
       "      <td>47</td>\n",
       "    </tr>\n",
       "    <tr>\n",
       "      <th>1</th>\n",
       "      <td>7</td>\n",
       "      <td>3350000</td>\n",
       "      <td>40.4</td>\n",
       "      <td>2018-12-04</td>\n",
       "      <td>1</td>\n",
       "      <td>2.65</td>\n",
       "      <td>11</td>\n",
       "      <td>18.600000</td>\n",
       "      <td>1</td>\n",
       "      <td>False</td>\n",
       "      <td>...</td>\n",
       "      <td>0</td>\n",
       "      <td>0.0</td>\n",
       "      <td>0</td>\n",
       "      <td>81</td>\n",
       "      <td>82920</td>\n",
       "      <td>1</td>\n",
       "      <td>12</td>\n",
       "      <td>2018</td>\n",
       "      <td>первый</td>\n",
       "      <td>46</td>\n",
       "    </tr>\n",
       "    <tr>\n",
       "      <th>2</th>\n",
       "      <td>10</td>\n",
       "      <td>5196000</td>\n",
       "      <td>56.0</td>\n",
       "      <td>2015-08-20</td>\n",
       "      <td>2</td>\n",
       "      <td>2.65</td>\n",
       "      <td>5</td>\n",
       "      <td>34.300000</td>\n",
       "      <td>4</td>\n",
       "      <td>False</td>\n",
       "      <td>...</td>\n",
       "      <td>90</td>\n",
       "      <td>2.0</td>\n",
       "      <td>574</td>\n",
       "      <td>558</td>\n",
       "      <td>92785</td>\n",
       "      <td>3</td>\n",
       "      <td>8</td>\n",
       "      <td>2015</td>\n",
       "      <td>другой</td>\n",
       "      <td>61</td>\n",
       "    </tr>\n",
       "    <tr>\n",
       "      <th>3</th>\n",
       "      <td>0</td>\n",
       "      <td>64900000</td>\n",
       "      <td>159.0</td>\n",
       "      <td>2015-07-24</td>\n",
       "      <td>3</td>\n",
       "      <td>2.65</td>\n",
       "      <td>14</td>\n",
       "      <td>90.816648</td>\n",
       "      <td>9</td>\n",
       "      <td>False</td>\n",
       "      <td>...</td>\n",
       "      <td>84</td>\n",
       "      <td>3.0</td>\n",
       "      <td>234</td>\n",
       "      <td>424</td>\n",
       "      <td>408176</td>\n",
       "      <td>4</td>\n",
       "      <td>7</td>\n",
       "      <td>2015</td>\n",
       "      <td>другой</td>\n",
       "      <td>57</td>\n",
       "    </tr>\n",
       "    <tr>\n",
       "      <th>4</th>\n",
       "      <td>2</td>\n",
       "      <td>10000000</td>\n",
       "      <td>100.0</td>\n",
       "      <td>2018-06-19</td>\n",
       "      <td>2</td>\n",
       "      <td>3.03</td>\n",
       "      <td>14</td>\n",
       "      <td>32.000000</td>\n",
       "      <td>13</td>\n",
       "      <td>False</td>\n",
       "      <td>...</td>\n",
       "      <td>112</td>\n",
       "      <td>1.0</td>\n",
       "      <td>48</td>\n",
       "      <td>121</td>\n",
       "      <td>100000</td>\n",
       "      <td>1</td>\n",
       "      <td>6</td>\n",
       "      <td>2018</td>\n",
       "      <td>другой</td>\n",
       "      <td>32</td>\n",
       "    </tr>\n",
       "  </tbody>\n",
       "</table>\n",
       "<p>5 rows × 28 columns</p>\n",
       "</div>"
      ],
      "text/plain": [
       "   total_images  last_price  total_area first_day_exposition  rooms  \\\n",
       "0            20    13000000       108.0           2019-03-07      3   \n",
       "1             7     3350000        40.4           2018-12-04      1   \n",
       "2            10     5196000        56.0           2015-08-20      2   \n",
       "3             0    64900000       159.0           2015-07-24      3   \n",
       "4             2    10000000       100.0           2018-06-19      2   \n",
       "\n",
       "   ceiling_height  floors_total  living_area  floor  is_apartment  ...  \\\n",
       "0            2.70            16    51.000000      8         False  ...   \n",
       "1            2.65            11    18.600000      1         False  ...   \n",
       "2            2.65             5    34.300000      4         False  ...   \n",
       "3            2.65            14    90.816648      9         False  ...   \n",
       "4            3.03            14    32.000000     13         False  ...   \n",
       "\n",
       "   parks_nearest  ponds_around3000  ponds_nearest  days_exposition  \\\n",
       "0            482               2.0            755                0   \n",
       "1              0               0.0              0               81   \n",
       "2             90               2.0            574              558   \n",
       "3             84               3.0            234              424   \n",
       "4            112               1.0             48              121   \n",
       "\n",
       "  price_square_meter  weekday_create  month_create  year_create  \\\n",
       "0             120370               3             3         2019   \n",
       "1              82920               1            12         2018   \n",
       "2              92785               3             8         2015   \n",
       "3             408176               4             7         2015   \n",
       "4             100000               1             6         2018   \n",
       "\n",
       "   floor_category  area_proportion  \n",
       "0          другой               47  \n",
       "1          первый               46  \n",
       "2          другой               61  \n",
       "3          другой               57  \n",
       "4          другой               32  \n",
       "\n",
       "[5 rows x 28 columns]"
      ]
     },
     "execution_count": 69,
     "metadata": {},
     "output_type": "execute_result"
    }
   ],
   "source": [
    "# проверяем результат\n",
    "data.head()"
   ]
  },
  {
   "cell_type": "code",
   "execution_count": 70,
   "metadata": {},
   "outputs": [],
   "source": [
    "# добавляем столбец с отношением площади кухни к общей (kitchen_proportion), переводим в % и приводим его в целочисленный тип int\n",
    "data['kitchen_proportion'] = data['kitchen_area'] / data['total_area'] * 100\n",
    "data['kitchen_proportion'] = data['kitchen_proportion'].fillna(value=0).astype(int)"
   ]
  },
  {
   "cell_type": "code",
   "execution_count": 71,
   "metadata": {},
   "outputs": [
    {
     "data": {
      "text/html": [
       "<div>\n",
       "<style scoped>\n",
       "    .dataframe tbody tr th:only-of-type {\n",
       "        vertical-align: middle;\n",
       "    }\n",
       "\n",
       "    .dataframe tbody tr th {\n",
       "        vertical-align: top;\n",
       "    }\n",
       "\n",
       "    .dataframe thead th {\n",
       "        text-align: right;\n",
       "    }\n",
       "</style>\n",
       "<table border=\"1\" class=\"dataframe\">\n",
       "  <thead>\n",
       "    <tr style=\"text-align: right;\">\n",
       "      <th></th>\n",
       "      <th>total_images</th>\n",
       "      <th>last_price</th>\n",
       "      <th>total_area</th>\n",
       "      <th>first_day_exposition</th>\n",
       "      <th>rooms</th>\n",
       "      <th>ceiling_height</th>\n",
       "      <th>floors_total</th>\n",
       "      <th>living_area</th>\n",
       "      <th>floor</th>\n",
       "      <th>is_apartment</th>\n",
       "      <th>...</th>\n",
       "      <th>ponds_around3000</th>\n",
       "      <th>ponds_nearest</th>\n",
       "      <th>days_exposition</th>\n",
       "      <th>price_square_meter</th>\n",
       "      <th>weekday_create</th>\n",
       "      <th>month_create</th>\n",
       "      <th>year_create</th>\n",
       "      <th>floor_category</th>\n",
       "      <th>area_proportion</th>\n",
       "      <th>kitchen_proportion</th>\n",
       "    </tr>\n",
       "  </thead>\n",
       "  <tbody>\n",
       "    <tr>\n",
       "      <th>0</th>\n",
       "      <td>20</td>\n",
       "      <td>13000000</td>\n",
       "      <td>108.0</td>\n",
       "      <td>2019-03-07</td>\n",
       "      <td>3</td>\n",
       "      <td>2.70</td>\n",
       "      <td>16</td>\n",
       "      <td>51.000000</td>\n",
       "      <td>8</td>\n",
       "      <td>False</td>\n",
       "      <td>...</td>\n",
       "      <td>2.0</td>\n",
       "      <td>755</td>\n",
       "      <td>0</td>\n",
       "      <td>120370</td>\n",
       "      <td>3</td>\n",
       "      <td>3</td>\n",
       "      <td>2019</td>\n",
       "      <td>другой</td>\n",
       "      <td>47</td>\n",
       "      <td>23</td>\n",
       "    </tr>\n",
       "    <tr>\n",
       "      <th>1</th>\n",
       "      <td>7</td>\n",
       "      <td>3350000</td>\n",
       "      <td>40.4</td>\n",
       "      <td>2018-12-04</td>\n",
       "      <td>1</td>\n",
       "      <td>2.65</td>\n",
       "      <td>11</td>\n",
       "      <td>18.600000</td>\n",
       "      <td>1</td>\n",
       "      <td>False</td>\n",
       "      <td>...</td>\n",
       "      <td>0.0</td>\n",
       "      <td>0</td>\n",
       "      <td>81</td>\n",
       "      <td>82920</td>\n",
       "      <td>1</td>\n",
       "      <td>12</td>\n",
       "      <td>2018</td>\n",
       "      <td>первый</td>\n",
       "      <td>46</td>\n",
       "      <td>27</td>\n",
       "    </tr>\n",
       "    <tr>\n",
       "      <th>2</th>\n",
       "      <td>10</td>\n",
       "      <td>5196000</td>\n",
       "      <td>56.0</td>\n",
       "      <td>2015-08-20</td>\n",
       "      <td>2</td>\n",
       "      <td>2.65</td>\n",
       "      <td>5</td>\n",
       "      <td>34.300000</td>\n",
       "      <td>4</td>\n",
       "      <td>False</td>\n",
       "      <td>...</td>\n",
       "      <td>2.0</td>\n",
       "      <td>574</td>\n",
       "      <td>558</td>\n",
       "      <td>92785</td>\n",
       "      <td>3</td>\n",
       "      <td>8</td>\n",
       "      <td>2015</td>\n",
       "      <td>другой</td>\n",
       "      <td>61</td>\n",
       "      <td>14</td>\n",
       "    </tr>\n",
       "    <tr>\n",
       "      <th>3</th>\n",
       "      <td>0</td>\n",
       "      <td>64900000</td>\n",
       "      <td>159.0</td>\n",
       "      <td>2015-07-24</td>\n",
       "      <td>3</td>\n",
       "      <td>2.65</td>\n",
       "      <td>14</td>\n",
       "      <td>90.816648</td>\n",
       "      <td>9</td>\n",
       "      <td>False</td>\n",
       "      <td>...</td>\n",
       "      <td>3.0</td>\n",
       "      <td>234</td>\n",
       "      <td>424</td>\n",
       "      <td>408176</td>\n",
       "      <td>4</td>\n",
       "      <td>7</td>\n",
       "      <td>2015</td>\n",
       "      <td>другой</td>\n",
       "      <td>57</td>\n",
       "      <td>17</td>\n",
       "    </tr>\n",
       "    <tr>\n",
       "      <th>4</th>\n",
       "      <td>2</td>\n",
       "      <td>10000000</td>\n",
       "      <td>100.0</td>\n",
       "      <td>2018-06-19</td>\n",
       "      <td>2</td>\n",
       "      <td>3.03</td>\n",
       "      <td>14</td>\n",
       "      <td>32.000000</td>\n",
       "      <td>13</td>\n",
       "      <td>False</td>\n",
       "      <td>...</td>\n",
       "      <td>1.0</td>\n",
       "      <td>48</td>\n",
       "      <td>121</td>\n",
       "      <td>100000</td>\n",
       "      <td>1</td>\n",
       "      <td>6</td>\n",
       "      <td>2018</td>\n",
       "      <td>другой</td>\n",
       "      <td>32</td>\n",
       "      <td>41</td>\n",
       "    </tr>\n",
       "  </tbody>\n",
       "</table>\n",
       "<p>5 rows × 29 columns</p>\n",
       "</div>"
      ],
      "text/plain": [
       "   total_images  last_price  total_area first_day_exposition  rooms  \\\n",
       "0            20    13000000       108.0           2019-03-07      3   \n",
       "1             7     3350000        40.4           2018-12-04      1   \n",
       "2            10     5196000        56.0           2015-08-20      2   \n",
       "3             0    64900000       159.0           2015-07-24      3   \n",
       "4             2    10000000       100.0           2018-06-19      2   \n",
       "\n",
       "   ceiling_height  floors_total  living_area  floor  is_apartment  ...  \\\n",
       "0            2.70            16    51.000000      8         False  ...   \n",
       "1            2.65            11    18.600000      1         False  ...   \n",
       "2            2.65             5    34.300000      4         False  ...   \n",
       "3            2.65            14    90.816648      9         False  ...   \n",
       "4            3.03            14    32.000000     13         False  ...   \n",
       "\n",
       "   ponds_around3000  ponds_nearest  days_exposition  price_square_meter  \\\n",
       "0               2.0            755                0              120370   \n",
       "1               0.0              0               81               82920   \n",
       "2               2.0            574              558               92785   \n",
       "3               3.0            234              424              408176   \n",
       "4               1.0             48              121              100000   \n",
       "\n",
       "  weekday_create  month_create  year_create  floor_category  area_proportion  \\\n",
       "0              3             3         2019          другой               47   \n",
       "1              1            12         2018          первый               46   \n",
       "2              3             8         2015          другой               61   \n",
       "3              4             7         2015          другой               57   \n",
       "4              1             6         2018          другой               32   \n",
       "\n",
       "   kitchen_proportion  \n",
       "0                  23  \n",
       "1                  27  \n",
       "2                  14  \n",
       "3                  17  \n",
       "4                  41  \n",
       "\n",
       "[5 rows x 29 columns]"
      ]
     },
     "execution_count": 71,
     "metadata": {},
     "output_type": "execute_result"
    }
   ],
   "source": [
    "# проверяем результат\n",
    "data.head()"
   ]
  },
  {
   "cell_type": "code",
   "execution_count": 72,
   "metadata": {},
   "outputs": [],
   "source": [
    "# создадим столбец и переведем расстояние до центра города из метров в километры\n",
    "# и переведем данные в целочисленный тип int\n",
    "data['cityCenters_nearest_km'] = data['cityCenters_nearest'] / 1000\n",
    "data['cityCenters_nearest_km'] = data['cityCenters_nearest_km'].fillna(999999)\n",
    "data['cityCenters_nearest_km'] = data['cityCenters_nearest_km'].astype('int')"
   ]
  },
  {
   "cell_type": "code",
   "execution_count": 73,
   "metadata": {},
   "outputs": [
    {
     "data": {
      "text/html": [
       "<div>\n",
       "<style scoped>\n",
       "    .dataframe tbody tr th:only-of-type {\n",
       "        vertical-align: middle;\n",
       "    }\n",
       "\n",
       "    .dataframe tbody tr th {\n",
       "        vertical-align: top;\n",
       "    }\n",
       "\n",
       "    .dataframe thead th {\n",
       "        text-align: right;\n",
       "    }\n",
       "</style>\n",
       "<table border=\"1\" class=\"dataframe\">\n",
       "  <thead>\n",
       "    <tr style=\"text-align: right;\">\n",
       "      <th></th>\n",
       "      <th>total_images</th>\n",
       "      <th>last_price</th>\n",
       "      <th>total_area</th>\n",
       "      <th>first_day_exposition</th>\n",
       "      <th>rooms</th>\n",
       "      <th>ceiling_height</th>\n",
       "      <th>floors_total</th>\n",
       "      <th>living_area</th>\n",
       "      <th>floor</th>\n",
       "      <th>is_apartment</th>\n",
       "      <th>...</th>\n",
       "      <th>ponds_nearest</th>\n",
       "      <th>days_exposition</th>\n",
       "      <th>price_square_meter</th>\n",
       "      <th>weekday_create</th>\n",
       "      <th>month_create</th>\n",
       "      <th>year_create</th>\n",
       "      <th>floor_category</th>\n",
       "      <th>area_proportion</th>\n",
       "      <th>kitchen_proportion</th>\n",
       "      <th>cityCenters_nearest_km</th>\n",
       "    </tr>\n",
       "  </thead>\n",
       "  <tbody>\n",
       "    <tr>\n",
       "      <th>0</th>\n",
       "      <td>20</td>\n",
       "      <td>13000000</td>\n",
       "      <td>108.0</td>\n",
       "      <td>2019-03-07</td>\n",
       "      <td>3</td>\n",
       "      <td>2.70</td>\n",
       "      <td>16</td>\n",
       "      <td>51.000000</td>\n",
       "      <td>8</td>\n",
       "      <td>False</td>\n",
       "      <td>...</td>\n",
       "      <td>755</td>\n",
       "      <td>0</td>\n",
       "      <td>120370</td>\n",
       "      <td>3</td>\n",
       "      <td>3</td>\n",
       "      <td>2019</td>\n",
       "      <td>другой</td>\n",
       "      <td>47</td>\n",
       "      <td>23</td>\n",
       "      <td>16</td>\n",
       "    </tr>\n",
       "    <tr>\n",
       "      <th>1</th>\n",
       "      <td>7</td>\n",
       "      <td>3350000</td>\n",
       "      <td>40.4</td>\n",
       "      <td>2018-12-04</td>\n",
       "      <td>1</td>\n",
       "      <td>2.65</td>\n",
       "      <td>11</td>\n",
       "      <td>18.600000</td>\n",
       "      <td>1</td>\n",
       "      <td>False</td>\n",
       "      <td>...</td>\n",
       "      <td>0</td>\n",
       "      <td>81</td>\n",
       "      <td>82920</td>\n",
       "      <td>1</td>\n",
       "      <td>12</td>\n",
       "      <td>2018</td>\n",
       "      <td>первый</td>\n",
       "      <td>46</td>\n",
       "      <td>27</td>\n",
       "      <td>18</td>\n",
       "    </tr>\n",
       "    <tr>\n",
       "      <th>2</th>\n",
       "      <td>10</td>\n",
       "      <td>5196000</td>\n",
       "      <td>56.0</td>\n",
       "      <td>2015-08-20</td>\n",
       "      <td>2</td>\n",
       "      <td>2.65</td>\n",
       "      <td>5</td>\n",
       "      <td>34.300000</td>\n",
       "      <td>4</td>\n",
       "      <td>False</td>\n",
       "      <td>...</td>\n",
       "      <td>574</td>\n",
       "      <td>558</td>\n",
       "      <td>92785</td>\n",
       "      <td>3</td>\n",
       "      <td>8</td>\n",
       "      <td>2015</td>\n",
       "      <td>другой</td>\n",
       "      <td>61</td>\n",
       "      <td>14</td>\n",
       "      <td>13</td>\n",
       "    </tr>\n",
       "    <tr>\n",
       "      <th>3</th>\n",
       "      <td>0</td>\n",
       "      <td>64900000</td>\n",
       "      <td>159.0</td>\n",
       "      <td>2015-07-24</td>\n",
       "      <td>3</td>\n",
       "      <td>2.65</td>\n",
       "      <td>14</td>\n",
       "      <td>90.816648</td>\n",
       "      <td>9</td>\n",
       "      <td>False</td>\n",
       "      <td>...</td>\n",
       "      <td>234</td>\n",
       "      <td>424</td>\n",
       "      <td>408176</td>\n",
       "      <td>4</td>\n",
       "      <td>7</td>\n",
       "      <td>2015</td>\n",
       "      <td>другой</td>\n",
       "      <td>57</td>\n",
       "      <td>17</td>\n",
       "      <td>6</td>\n",
       "    </tr>\n",
       "    <tr>\n",
       "      <th>4</th>\n",
       "      <td>2</td>\n",
       "      <td>10000000</td>\n",
       "      <td>100.0</td>\n",
       "      <td>2018-06-19</td>\n",
       "      <td>2</td>\n",
       "      <td>3.03</td>\n",
       "      <td>14</td>\n",
       "      <td>32.000000</td>\n",
       "      <td>13</td>\n",
       "      <td>False</td>\n",
       "      <td>...</td>\n",
       "      <td>48</td>\n",
       "      <td>121</td>\n",
       "      <td>100000</td>\n",
       "      <td>1</td>\n",
       "      <td>6</td>\n",
       "      <td>2018</td>\n",
       "      <td>другой</td>\n",
       "      <td>32</td>\n",
       "      <td>41</td>\n",
       "      <td>8</td>\n",
       "    </tr>\n",
       "  </tbody>\n",
       "</table>\n",
       "<p>5 rows × 30 columns</p>\n",
       "</div>"
      ],
      "text/plain": [
       "   total_images  last_price  total_area first_day_exposition  rooms  \\\n",
       "0            20    13000000       108.0           2019-03-07      3   \n",
       "1             7     3350000        40.4           2018-12-04      1   \n",
       "2            10     5196000        56.0           2015-08-20      2   \n",
       "3             0    64900000       159.0           2015-07-24      3   \n",
       "4             2    10000000       100.0           2018-06-19      2   \n",
       "\n",
       "   ceiling_height  floors_total  living_area  floor  is_apartment  ...  \\\n",
       "0            2.70            16    51.000000      8         False  ...   \n",
       "1            2.65            11    18.600000      1         False  ...   \n",
       "2            2.65             5    34.300000      4         False  ...   \n",
       "3            2.65            14    90.816648      9         False  ...   \n",
       "4            3.03            14    32.000000     13         False  ...   \n",
       "\n",
       "   ponds_nearest  days_exposition  price_square_meter  weekday_create  \\\n",
       "0            755                0              120370               3   \n",
       "1              0               81               82920               1   \n",
       "2            574              558               92785               3   \n",
       "3            234              424              408176               4   \n",
       "4             48              121              100000               1   \n",
       "\n",
       "  month_create  year_create  floor_category  area_proportion  \\\n",
       "0            3         2019          другой               47   \n",
       "1           12         2018          первый               46   \n",
       "2            8         2015          другой               61   \n",
       "3            7         2015          другой               57   \n",
       "4            6         2018          другой               32   \n",
       "\n",
       "   kitchen_proportion  cityCenters_nearest_km  \n",
       "0                  23                      16  \n",
       "1                  27                      18  \n",
       "2                  14                      13  \n",
       "3                  17                       6  \n",
       "4                  41                       8  \n",
       "\n",
       "[5 rows x 30 columns]"
      ]
     },
     "execution_count": 73,
     "metadata": {},
     "output_type": "execute_result"
    }
   ],
   "source": [
    "# проверяем результат\n",
    "data.head()"
   ]
  },
  {
   "cell_type": "markdown",
   "metadata": {},
   "source": [
    "***Вывод:***\n",
    "<div style=\"border:solid green 1px; padding: 20px\">  \n",
    "    \n",
    "Добавили новые столбцы и рассчитали значения в них по поставленным целям:   \n",
    "1. Цена одного квадратного метра.      \n",
    "2. День недели публикации объявления (0 — понедельник, 1 — вторник и так далее).      \n",
    "3. Месяц публикации объявления.      \n",
    "4. Год публикации объявления.      \n",
    "5. Тип этажа квартиры (значения — «‎первый», «последний», «другой»).      \n",
    "6. Расстояние до центра города в километрах.  \n",
    "    \n",
    "Также добавили столбцы с отношением жилой площади и площади кухни к общей площади жилья в процентах\n",
    "      \n",
    "</div>"
   ]
  },
  {
   "cell_type": "markdown",
   "metadata": {},
   "source": [
    "### Проведите исследовательский анализ данных"
   ]
  },
  {
   "cell_type": "markdown",
   "metadata": {},
   "source": [
    "<div style=\"border:solid blue 1px; padding: 20px\"> \n",
    "    \n",
    "# Цели:\n",
    "\n",
    "Изучить следующие параметры объектов:  \n",
    " - общая площадь;  \n",
    " - жилая площадь;  \n",
    " - площадь кухни;  \n",
    " - цена объекта;  \n",
    " - количество комнат;  \n",
    " - высота потолков;  \n",
    " - этаж, на котором расположена квартира; \n",
    " - тип этажа; \n",
    " - общее количество этажей в доме;  \n",
    " - расстояние до центра города в метрах;  \n",
    " - расстояние до ближайшего аэропорта;  \n",
    " - расстояние до ближайшего парка;  \n",
    " - день и месяц публикации объявления.  \n",
    "    \n",
    "Построить отдельные гистограммы для каждого из этих параметров.              \n",
    "      \n",
    "</div>"
   ]
  },
  {
   "cell_type": "code",
   "execution_count": 74,
   "metadata": {},
   "outputs": [
    {
     "data": {
      "text/plain": [
       "count    23420.000000\n",
       "mean        60.156164\n",
       "std         33.915163\n",
       "min         20.000000\n",
       "25%         40.000000\n",
       "50%         52.000000\n",
       "75%         69.742500\n",
       "max        631.200000\n",
       "Name: total_area, dtype: float64"
      ]
     },
     "execution_count": 74,
     "metadata": {},
     "output_type": "execute_result"
    },
    {
     "data": {
      "image/png": "[encoded data removed]",
      "text/plain": [
       "<Figure size 432x288 with 1 Axes>"
      ]
     },
     "metadata": {
      "needs_background": "light"
     },
     "output_type": "display_data"
    }
   ],
   "source": [
    "# рассмотрим общую площадь и создадим гистограмму\n",
    "data\n",
    "data.plot(y='total_area', kind='hist', bins=30, grid=True, figsize=(6,4), range=(0,200))\n",
    "data['total_area'].describe()"
   ]
  },
  {
   "cell_type": "markdown",
   "metadata": {},
   "source": [
    "<div style=\"border:solid green 1px; padding: 20px\"> \n",
    "    \n",
    "**Площадь**  \n",
    "Большинство квартир - меньше 100 м2, чаще всего это квартиры от 50 до 70 м2. В данных есть несколько очень больших и странных вариантов с площадью более 200 квадратных метров. Возможно, это ошибки при выгрузке данных.\n",
    "\n",
    "</div>"
   ]
  },
  {
   "cell_type": "code",
   "execution_count": 75,
   "metadata": {},
   "outputs": [
    {
     "data": {
      "text/plain": [
       "count    23420.000000\n",
       "mean        34.502349\n",
       "std         21.500072\n",
       "min          9.100000\n",
       "25%         19.000000\n",
       "50%         30.000000\n",
       "75%         42.100000\n",
       "max        360.410721\n",
       "Name: living_area, dtype: float64"
      ]
     },
     "execution_count": 75,
     "metadata": {},
     "output_type": "execute_result"
    },
    {
     "data": {
      "image/png": "[encoded data removed]",
      "text/plain": [
       "<Figure size 432x288 with 1 Axes>"
      ]
     },
     "metadata": {
      "needs_background": "light"
     },
     "output_type": "display_data"
    }
   ],
   "source": [
    "# рассмотрим жилую площадь и создадим гистограмму\n",
    "data\n",
    "data.plot(y='living_area', kind='hist', bins=30, grid=True, figsize=(6,4), range=(10,80))\n",
    "data['living_area'].describe()"
   ]
  },
  {
   "cell_type": "markdown",
   "metadata": {},
   "source": [
    "<div style=\"border:solid green 1px; padding: 20px\"> \n",
    "    \n",
    "**Жилая площадь**  \n",
    "Самые распространённые варианты с жилой площадью от 10 до 50 кв. метров, в среднем она варьируется от 30 до 40 м2.  \n",
    "Две вершины графика вызваны, вероятно, тем, что это жилые площади для 1-комнатной, затем для 2-комнатной и после этого для 3-комнатной квартиры.     \n",
    "\n",
    "</div>"
   ]
  },
  {
   "cell_type": "code",
   "execution_count": 76,
   "metadata": {},
   "outputs": [
    {
     "data": {
      "text/plain": [
       "count    23420.000000\n",
       "mean        10.493708\n",
       "std          5.904558\n",
       "min          4.000000\n",
       "25%          7.000000\n",
       "50%          9.000000\n",
       "75%         12.000000\n",
       "max        107.000000\n",
       "Name: kitchen_area, dtype: float64"
      ]
     },
     "execution_count": 76,
     "metadata": {},
     "output_type": "execute_result"
    },
    {
     "data": {
      "image/png": "[encoded data removed]",
      "text/plain": [
       "<Figure size 432x288 with 1 Axes>"
      ]
     },
     "metadata": {
      "needs_background": "light"
     },
     "output_type": "display_data"
    }
   ],
   "source": [
    "# рассмотрим площадь кухни и создадим гистограмму\n",
    "data\n",
    "data.plot(y='kitchen_area', kind='hist', bins=30, grid=True, figsize=(6,4), range=(1,30))\n",
    "data['kitchen_area'].describe()"
   ]
  },
  {
   "cell_type": "markdown",
   "metadata": {},
   "source": [
    "<div style=\"border:solid green 1px; padding: 20px\"> \n",
    "    \n",
    "**Площадь кухни**  \n",
    "Самые распространённые кухни - от 5 до 15 кв. метров. Больше 20 кв. метров кухни практически не встречаются. В среднем стандартная кухня 9 м2.      \n",
    "\n",
    "</div>"
   ]
  },
  {
   "cell_type": "code",
   "execution_count": 77,
   "metadata": {},
   "outputs": [
    {
     "data": {
      "text/plain": [
       "count    23420.000000\n",
       "mean         2.074851\n",
       "std          1.029431\n",
       "min          1.000000\n",
       "25%          1.000000\n",
       "50%          2.000000\n",
       "75%          3.000000\n",
       "max          8.000000\n",
       "Name: rooms, dtype: float64"
      ]
     },
     "execution_count": 77,
     "metadata": {},
     "output_type": "execute_result"
    },
    {
     "data": {
      "image/png": "[encoded data removed]",
      "text/plain": [
       "<Figure size 576x288 with 1 Axes>"
      ]
     },
     "metadata": {
      "needs_background": "light"
     },
     "output_type": "display_data"
    }
   ],
   "source": [
    "# рассмотрим количество комнат и создадим гистограмму\n",
    "data\n",
    "data.plot(y='rooms', kind='hist', bins=30, grid=True, figsize=(8,4), range=(1,7))\n",
    "data['rooms'].describe()"
   ]
  },
  {
   "cell_type": "markdown",
   "metadata": {},
   "source": [
    "<div style=\"border:solid green 1px; padding: 20px\"> \n",
    "    \n",
    "      \n",
    "**Комнаты**    \n",
    "В основном это 1, 2 и 3 комнатные квартиры. Есть небольшая доля 4-комнатных квартир. Варианты, где больше 7 комнат выглядят странно. Больще всего объявлений с 1 и 2 комнатными квартирами.     \n",
    "\n",
    "</div>"
   ]
  },
  {
   "cell_type": "code",
   "execution_count": 78,
   "metadata": {},
   "outputs": [
    {
     "data": {
      "text/plain": [
       "count    23420.000000\n",
       "mean         2.724243\n",
       "std          0.993861\n",
       "min          1.000000\n",
       "25%          2.600000\n",
       "50%          2.650000\n",
       "75%          2.700000\n",
       "max        100.000000\n",
       "Name: ceiling_height, dtype: float64"
      ]
     },
     "execution_count": 78,
     "metadata": {},
     "output_type": "execute_result"
    },
    {
     "data": {
      "image/png": "[encoded data removed]",
      "text/plain": [
       "<Figure size 576x288 with 1 Axes>"
      ]
     },
     "metadata": {
      "needs_background": "light"
     },
     "output_type": "display_data"
    }
   ],
   "source": [
    "# рассмотрим высоту потолков и создадим гистограмму\n",
    "data\n",
    "data.plot(y='ceiling_height', kind='hist', bins=30, grid=True, figsize=(8,4), range=(2,5))\n",
    "data['ceiling_height'].describe()"
   ]
  },
  {
   "cell_type": "markdown",
   "metadata": {},
   "source": [
    "<div style=\"border:solid green 1px; padding: 20px\"> \n",
    "    \n",
    "      \n",
    "**Высота потолков**       \n",
    "Большинство квартир имеют высоту потолков от 2,5 до 2,7 метров. Больше 4 метров высота потолков - это скорее всего ошибка в данных.      \n",
    "\n",
    "</div>"
   ]
  },
  {
   "cell_type": "code",
   "execution_count": 79,
   "metadata": {},
   "outputs": [
    {
     "data": {
      "text/plain": [
       "count    23420.000000\n",
       "mean         5.873228\n",
       "std          4.863966\n",
       "min          1.000000\n",
       "25%          2.000000\n",
       "50%          4.000000\n",
       "75%          8.000000\n",
       "max         33.000000\n",
       "Name: floor, dtype: float64"
      ]
     },
     "execution_count": 79,
     "metadata": {},
     "output_type": "execute_result"
    },
    {
     "data": {
      "image/png": "[encoded data removed]",
      "text/plain": [
       "<Figure size 576x288 with 1 Axes>"
      ]
     },
     "metadata": {
      "needs_background": "light"
     },
     "output_type": "display_data"
    }
   ],
   "source": [
    "# рассмотрим этаж квартиры и создадим гистограмму\n",
    "data\n",
    "data['floor'].plot(y='floor', kind='hist', bins=30, grid=True, figsize=(8,4), range=(1,30))\n",
    "data['floor'].describe()"
   ]
  },
  {
   "cell_type": "markdown",
   "metadata": {},
   "source": [
    "<div style=\"border:solid green 1px; padding: 20px\"> \n",
    "    \n",
    "    \n",
    "**Этажи квартир**  \n",
    "В объявлениях в основном квартиры с 1 по 10 этаж, меньше с этажами выше 10.    \n",
    "\n",
    "</div>"
   ]
  },
  {
   "cell_type": "code",
   "execution_count": 80,
   "metadata": {},
   "outputs": [
    {
     "data": {
      "text/plain": [
       "count    23420.000000\n",
       "mean        10.670495\n",
       "std          6.587879\n",
       "min          1.000000\n",
       "25%          5.000000\n",
       "50%          9.000000\n",
       "75%         16.000000\n",
       "max         60.000000\n",
       "Name: floors_total, dtype: float64"
      ]
     },
     "execution_count": 80,
     "metadata": {},
     "output_type": "execute_result"
    },
    {
     "data": {
      "image/png": "[encoded data removed]",
      "text/plain": [
       "<Figure size 576x288 with 1 Axes>"
      ]
     },
     "metadata": {
      "needs_background": "light"
     },
     "output_type": "display_data"
    }
   ],
   "source": [
    "# рассмотрим общее количество этажей в доме и создадим гистограмму\n",
    "data\n",
    "data['floors_total'].plot(y='floors_total', kind='hist', bins=30, grid=True, figsize=(8,4), range=(1,30))\n",
    "data['floors_total'].describe()"
   ]
  },
  {
   "cell_type": "markdown",
   "metadata": {},
   "source": [
    "<div style=\"border:solid green 1px; padding: 20px\"> \n",
    "    \n",
    "**Всего этажей**  \n",
    "В объявлениях дома от 1 до 25 этажных, в среднем большая часть объявлений с домами, имеющими 5 или 6 этажей, чуть меньше 9 этажных.      \n",
    "\n",
    "</div>"
   ]
  },
  {
   "cell_type": "code",
   "execution_count": 81,
   "metadata": {},
   "outputs": [
    {
     "data": {
      "text/plain": [
       "count    2.342000e+04\n",
       "mean     6.400795e+06\n",
       "std      7.870393e+06\n",
       "min      4.300000e+05\n",
       "25%      3.450000e+06\n",
       "50%      4.650000e+06\n",
       "75%      6.799000e+06\n",
       "max      1.908700e+08\n",
       "Name: last_price, dtype: float64"
      ]
     },
     "execution_count": 81,
     "metadata": {},
     "output_type": "execute_result"
    },
    {
     "data": {
      "image/png": "[encoded data removed]",
      "text/plain": [
       "<Figure size 576x288 with 1 Axes>"
      ]
     },
     "metadata": {
      "needs_background": "light"
     },
     "output_type": "display_data"
    }
   ],
   "source": [
    "# рассмотрим стоимость и создадим гистограмму\n",
    "data\n",
    "data['last_price'].plot(y='last_price', kind='hist', bins=30, grid=True, figsize=(8,4), range = (0,8000000))\n",
    "data['last_price'].describe()"
   ]
  },
  {
   "cell_type": "markdown",
   "metadata": {},
   "source": [
    "<div style=\"border:solid green 1px; padding: 20px\"> \n",
    "    \n",
    "      \n",
    "**Стоимость**    \n",
    "В основном стоимость квартир от 1,2 до 8 миллионов. Максимальное количество объявлениий со стоимостью от 3 до 5 млн.    \n",
    "\n",
    "</div>"
   ]
  },
  {
   "cell_type": "code",
   "execution_count": 82,
   "metadata": {},
   "outputs": [
    {
     "data": {
      "text/plain": [
       "count     23420.000000\n",
       "mean      98977.093083\n",
       "std       45910.678531\n",
       "min        7962.000000\n",
       "25%       76510.750000\n",
       "50%       94915.000000\n",
       "75%      114063.500000\n",
       "max      995983.000000\n",
       "Name: price_square_meter, dtype: float64"
      ]
     },
     "execution_count": 82,
     "metadata": {},
     "output_type": "execute_result"
    },
    {
     "data": {
      "image/png": "[encoded data removed]",
      "text/plain": [
       "<Figure size 576x288 with 1 Axes>"
      ]
     },
     "metadata": {
      "needs_background": "light"
     },
     "output_type": "display_data"
    }
   ],
   "source": [
    "# рассмотрим стоимость квадратного метра и создадим гистограмму\n",
    "data\n",
    "data['price_square_meter'].plot(y='price_square_meter', kind='hist', bins=50, grid=True, figsize=(8,4), range = (0,250000))\n",
    "data['price_square_meter'].describe()"
   ]
  },
  {
   "cell_type": "markdown",
   "metadata": {},
   "source": [
    "<div style=\"border:solid green 1px; padding: 20px\"> \n",
    "    \n",
    "**Стоимость квадратного метра**  \n",
    "Имеет нормальное распределение с пиком в районе 80 до 100 тыс. Дальше гистограмма идет на спад.    \n",
    "\n",
    "</div>"
   ]
  },
  {
   "cell_type": "code",
   "execution_count": 83,
   "metadata": {},
   "outputs": [
    {
     "data": {
      "text/plain": [
       "count    23420.000000\n",
       "mean     14211.179964\n",
       "std       7546.256334\n",
       "min        181.000000\n",
       "25%      10952.000000\n",
       "50%      14192.656056\n",
       "75%      15254.000000\n",
       "max      65968.000000\n",
       "Name: cityCenters_nearest, dtype: float64"
      ]
     },
     "execution_count": 83,
     "metadata": {},
     "output_type": "execute_result"
    },
    {
     "data": {
      "image/png": "[encoded data removed]",
      "text/plain": [
       "<Figure size 576x288 with 1 Axes>"
      ]
     },
     "metadata": {
      "needs_background": "light"
     },
     "output_type": "display_data"
    }
   ],
   "source": [
    "# рассмотрим расстояние до центра в м и создадим гистограмму\n",
    "data\n",
    "data['cityCenters_nearest'].plot(y='cityCenters_nearest', kind='hist', bins=30, grid=True, figsize=(8,4), range = (0,60000))\n",
    "data['cityCenters_nearest'].describe()"
   ]
  },
  {
   "cell_type": "markdown",
   "metadata": {},
   "source": [
    "<div style=\"border:solid green 1px; padding: 20px\"> \n",
    "    \n",
    "    \n",
    "**Расстояние до центра**  \n",
    "Расстояние до центра города составляет от 180 метров до 65 км. Так как местоположение многих объектов недвижимости находится за пределами Санкт-Петербурга в области. Больше всего квартир находится от центра в расстоянии 14-15 км.    \n",
    "\n",
    "</div>"
   ]
  },
  {
   "cell_type": "code",
   "execution_count": 84,
   "metadata": {},
   "outputs": [
    {
     "data": {
      "text/plain": [
       "count    23420.000000\n",
       "mean     28814.029858\n",
       "std      11069.702318\n",
       "min          0.000000\n",
       "25%      21143.750000\n",
       "50%      28797.082701\n",
       "75%      34434.250000\n",
       "max      84869.000000\n",
       "Name: airports_nearest, dtype: float64"
      ]
     },
     "execution_count": 84,
     "metadata": {},
     "output_type": "execute_result"
    },
    {
     "data": {
      "image/png": "[encoded data removed]",
      "text/plain": [
       "<Figure size 576x288 with 1 Axes>"
      ]
     },
     "metadata": {
      "needs_background": "light"
     },
     "output_type": "display_data"
    }
   ],
   "source": [
    "# рассмотрим расстояние до аэропорта и создадим гистограмму\n",
    "data\n",
    "data['airports_nearest'].plot(y='airports_nearest', kind='hist', bins=30, grid=True, figsize=(8,4), range = (0,75000))\n",
    "data['airports_nearest'].describe()"
   ]
  },
  {
   "cell_type": "markdown",
   "metadata": {},
   "source": [
    "<div style=\"border:solid green 1px; padding: 20px\"> \n",
    "    \n",
    "    \n",
    "**Расстояние до аэропорта**  \n",
    "Больше всего квартир продается с расстоянием до аэропорта в 28 км. Незначительное количество вблизи аэропорта.   \n",
    "    \n",
    "\n",
    "</div>"
   ]
  },
  {
   "cell_type": "code",
   "execution_count": 85,
   "metadata": {},
   "outputs": [
    {
     "data": {
      "text/plain": [
       "count    23420.000000\n",
       "mean       167.083219\n",
       "std        306.324876\n",
       "min          0.000000\n",
       "25%          0.000000\n",
       "50%          0.000000\n",
       "75%        300.250000\n",
       "max       3190.000000\n",
       "Name: parks_nearest, dtype: float64"
      ]
     },
     "execution_count": 85,
     "metadata": {},
     "output_type": "execute_result"
    },
    {
     "data": {
      "image/png": "[encoded data removed]",
      "text/plain": [
       "<Figure size 576x288 with 1 Axes>"
      ]
     },
     "metadata": {
      "needs_background": "light"
     },
     "output_type": "display_data"
    }
   ],
   "source": [
    "# рассмотрим расстояние до ближайшего парка и создадим гистограмму\n",
    "data\n",
    "data['parks_nearest'].plot(y='parks_nearest', kind='hist', bins=10, grid=True, figsize=(8,4), range = (0,3000))\n",
    "data['parks_nearest'].describe()"
   ]
  },
  {
   "cell_type": "markdown",
   "metadata": {},
   "source": [
    "<div style=\"border:solid green 1px; padding: 20px\"> \n",
    "    \n",
    "\n",
    "**Расстояние до ближайшего парка**  \n",
    "Большая часть объектов недвижимости располагается вблизи парков с максимальным расстоянием в 300 метров.    \n",
    "\n",
    "</div>"
   ]
  },
  {
   "cell_type": "code",
   "execution_count": 86,
   "metadata": {},
   "outputs": [
    {
     "data": {
      "text/plain": [
       "count    23420.000000\n",
       "mean         2.567805\n",
       "std          1.787762\n",
       "min          0.000000\n",
       "25%          1.000000\n",
       "50%          3.000000\n",
       "75%          4.000000\n",
       "max          6.000000\n",
       "Name: weekday_create, dtype: float64"
      ]
     },
     "execution_count": 86,
     "metadata": {},
     "output_type": "execute_result"
    },
    {
     "data": {
      "image/png": "[encoded data removed]",
      "text/plain": [
       "<Figure size 576x288 with 1 Axes>"
      ]
     },
     "metadata": {
      "needs_background": "light"
     },
     "output_type": "display_data"
    }
   ],
   "source": [
    "# рассмотрим дни недели, когда размещались объявления и создадим гистограмму\n",
    "data\n",
    "data['weekday_create'].plot(y='weekday_create', kind='hist', bins=30, grid=True, figsize=(8,4), range = (0,6))\n",
    "data['weekday_create'].describe()"
   ]
  },
  {
   "cell_type": "markdown",
   "metadata": {},
   "source": [
    "<div style=\"border:solid green 1px; padding: 20px\"> \n",
    "    \n",
    "**Дни недели, когда размещались объявления**  \n",
    "Активное размещение объявлений приходится на будние дни с понедельника по пятницу и лишь незначительная часть на выходные - суббота, воскресенье.      \n",
    "\n",
    "</div>"
   ]
  },
  {
   "cell_type": "code",
   "execution_count": 87,
   "metadata": {},
   "outputs": [
    {
     "data": {
      "text/plain": [
       "count    23420.000000\n",
       "mean         6.403800\n",
       "std          3.492535\n",
       "min          1.000000\n",
       "25%          3.000000\n",
       "50%          6.000000\n",
       "75%         10.000000\n",
       "max         12.000000\n",
       "Name: month_create, dtype: float64"
      ]
     },
     "execution_count": 87,
     "metadata": {},
     "output_type": "execute_result"
    },
    {
     "data": {
      "image/png": "[encoded data removed]",
      "text/plain": [
       "<Figure size 576x288 with 1 Axes>"
      ]
     },
     "metadata": {
      "needs_background": "light"
     },
     "output_type": "display_data"
    }
   ],
   "source": [
    "# рассмотрим месяцы, когда размещались объявления и создадим гистограмму\n",
    "data\n",
    "data['month_create'].plot(y='month_create', kind='hist', bins=30, grid=True, figsize=(8,4), range = (1,12))\n",
    "data['month_create'].describe()"
   ]
  },
  {
   "cell_type": "markdown",
   "metadata": {},
   "source": [
    "<div style=\"border:solid green 1px; padding: 20px\"> \n",
    "    \n",
    "**Месяцы, когда размещались объявления**  \n",
    "Максимальное количество объявлений пришлось на февраль и март, чуть меньше на апрель и ноябрь.     \n",
    "\n",
    "</div>"
   ]
  },
  {
   "cell_type": "code",
   "execution_count": 88,
   "metadata": {},
   "outputs": [
    {
     "data": {
      "text/plain": [
       "count      23420\n",
       "unique         3\n",
       "top       другой\n",
       "freq       17232\n",
       "Name: floor_category, dtype: object"
      ]
     },
     "execution_count": 88,
     "metadata": {},
     "output_type": "execute_result"
    },
    {
     "data": {
      "image/png": "[encoded data removed]",
      "text/plain": [
       "<Figure size 432x288 with 1 Axes>"
      ]
     },
     "metadata": {
      "needs_background": "light"
     },
     "output_type": "display_data"
    }
   ],
   "source": [
    "# рассмотрим тип этажа и создадим гистограмму\n",
    "data['floor_category'].hist(bins=20)\n",
    "data['floor_category'].describe()"
   ]
  },
  {
   "cell_type": "markdown",
   "metadata": {},
   "source": [
    "<div style=\"border:solid green 1px; padding: 20px\"> \n",
    "    \n",
    "**Тип этажа**  \n",
    "Наибольшее количество объявлений с типом этажа \"другой\", далее \"последний\", а уж совсем не в приоритете \"первый\".  \n",
    "    \n",
    "\n",
    "</div>"
   ]
  },
  {
   "cell_type": "markdown",
   "metadata": {},
   "source": [
    "<div style=\"border:solid blue 1px; padding: 20px\"> \n",
    "    \n",
    "# Цели:\n",
    "Изучить, как быстро продавались квартиры (столбец days_exposition).  \n",
    "Постройть гистограмму.  \n",
    "Посчитать среднее и медиану.  \n",
    "    \n",
    "    \n",
    "</div>"
   ]
  },
  {
   "cell_type": "code",
   "execution_count": 89,
   "metadata": {},
   "outputs": [
    {
     "data": {
      "text/plain": [
       "(1.0, 1000.0)"
      ]
     },
     "execution_count": 89,
     "metadata": {},
     "output_type": "execute_result"
    },
    {
     "data": {
      "image/png": "[encoded data removed]",
      "text/plain": [
       "<Figure size 432x288 with 1 Axes>"
      ]
     },
     "metadata": {
      "needs_background": "light"
     },
     "output_type": "display_data"
    }
   ],
   "source": [
    "# рассмотрим, как быстро продавались квартиры и построим диаграмму размаха\n",
    "plt.boxplot(data[data['days_exposition']!=0]['days_exposition'])\n",
    "plt.ylim(1,1000)"
   ]
  },
  {
   "cell_type": "code",
   "execution_count": 90,
   "metadata": {},
   "outputs": [
    {
     "data": {
      "text/plain": [
       "count    20265.000000\n",
       "mean       180.889366\n",
       "std        219.730340\n",
       "min          1.000000\n",
       "25%         45.000000\n",
       "50%         95.000000\n",
       "75%        231.000000\n",
       "max       1580.000000\n",
       "Name: days_exposition, dtype: float64"
      ]
     },
     "execution_count": 90,
     "metadata": {},
     "output_type": "execute_result"
    }
   ],
   "source": [
    "#среднее значение, медиана и межквартильный размах\n",
    "data[data['days_exposition']!=0]['days_exposition'].describe()"
   ]
  },
  {
   "cell_type": "code",
   "execution_count": 91,
   "metadata": {},
   "outputs": [
    {
     "data": {
      "image/png": "[encoded data removed]",
      "text/plain": [
       "<Figure size 432x288 with 1 Axes>"
      ]
     },
     "metadata": {
      "needs_background": "light"
     },
     "output_type": "display_data"
    },
    {
     "data": {
      "image/png": "[encoded data removed]",
      "text/plain": [
       "<Figure size 432x288 with 1 Axes>"
      ]
     },
     "metadata": {
      "needs_background": "light"
     },
     "output_type": "display_data"
    }
   ],
   "source": [
    "#создадим гистограммы\n",
    "data.plot(y='days_exposition', kind='hist', bins=30, grid=True, range=(1,1600))\n",
    "data.plot(y='days_exposition', kind='hist', bins=100, grid=True, range=(1,250))\n",
    "plt.show()"
   ]
  },
  {
   "cell_type": "markdown",
   "metadata": {},
   "source": [
    "***Вывод:***\n",
    "<div style=\"border:solid green 1px; padding: 20px\"> \n",
    "    \n",
    "Эта гистограмма является распределением Пуассона.     \n",
    "Медианное время продажи недвижимости - 95 дней. Среднее время продажи объектов - 181 день.  \n",
    "Наиболее популярное количество дней до снятия объявления от 45 до 90 дней.\n",
    "Быстрой продажей можно назвать срок в 45 дней и меньше. Долгой продажей - 250 дней (7,5 месяцев) и дольше. Возможно у такой квартиры завышена цена, либо \"непопулярная\" площадь.    \n",
    "    \n",
    "</div>"
   ]
  },
  {
   "cell_type": "markdown",
   "metadata": {},
   "source": [
    "<div style=\"border:solid blue 1px; padding: 20px\"> \n",
    "    \n",
    "# Цели:\n",
    "Какие факторы больше всего влияют на общую (полную) стоимость объекта?  \n",
    "   Изучить, зависит ли цена от:  \n",
    "   - общей площади;  \n",
    "   - жилой площади;  \n",
    "   - площади кухни;  \n",
    "   - количества комнат;  \n",
    "   - этажа, на котором расположена квартира (первый, последний, другой);  \n",
    "   - даты размещения (день недели, месяц, год).  \n",
    "Построить отдельные гистограммы для каждого из этих параметров.    \n",
    "    \n",
    "</div>"
   ]
  },
  {
   "cell_type": "code",
   "execution_count": 92,
   "metadata": {
    "scrolled": true
   },
   "outputs": [
    {
     "data": {
      "text/plain": [
       "0.7396548832700804"
      ]
     },
     "execution_count": 92,
     "metadata": {},
     "output_type": "execute_result"
    },
    {
     "data": {
      "image/png": "[encoded data removed]",
      "text/plain": [
       "<Figure size 576x288 with 1 Axes>"
      ]
     },
     "metadata": {
      "needs_background": "light"
     },
     "output_type": "display_data"
    }
   ],
   "source": [
    "# рассмотрим зависимость цены квартиры от общей площади квартиры.\n",
    "pt_total_area = data.pivot_table(index = 'total_area', values = 'last_price', aggfunc = ['mean', 'count', 'median'])\n",
    "pt_total_area.columns = ['mean', 'count', 'median']\n",
    "pt_total_area.plot(y = 'median', grid=True, style='o', figsize=(8, 4), title = 'Зависимость цены от общей площади')\n",
    "\n",
    "pt_total_area.sort_values('median', ascending = False)\n",
    "\n",
    "data['total_area'].corr(data['last_price'])"
   ]
  },
  {
   "cell_type": "markdown",
   "metadata": {},
   "source": [
    "***Вывод:***\n",
    "<div style=\"border:solid green 1px; padding: 20px\">  \n",
    "\n",
    "Согласно полученным данным, чем больше площадь, тем выше стоимость!\n",
    "По корреляции Пирсона, которая составляет - 0.65, мы видим, что зависимость цены от общей площади квартиры сильная\n",
    "    \n",
    "</div>"
   ]
  },
  {
   "cell_type": "code",
   "execution_count": 93,
   "metadata": {},
   "outputs": [
    {
     "data": {
      "text/plain": [
       "0.6720383574530152"
      ]
     },
     "execution_count": 93,
     "metadata": {},
     "output_type": "execute_result"
    },
    {
     "data": {
      "image/png": "[encoded data removed]",
      "text/plain": [
       "<Figure size 576x288 with 1 Axes>"
      ]
     },
     "metadata": {
      "needs_background": "light"
     },
     "output_type": "display_data"
    }
   ],
   "source": [
    "# рассмотрим зависимость цены от жилой площади\n",
    "pt_living_area = data.pivot_table(index = 'living_area', values = 'last_price', aggfunc = ['mean', 'count', 'median'])\n",
    "pt_living_area.columns = ['mean', 'count', 'median']\n",
    "pt_living_area.plot(y = 'median', grid=True, style='o', figsize=(8, 4), title = 'Зависимость цены от жилой площади')\n",
    "\n",
    "pt_living_area.sort_values('median', ascending = False)\n",
    "\n",
    "data['living_area'].corr(data['last_price'])"
   ]
  },
  {
   "cell_type": "markdown",
   "metadata": {},
   "source": [
    "***Вывод:***\n",
    "<div style=\"border:solid green 1px; padding: 20px\">  \n",
    "\n",
    "Так же как в и изучении общей площади, жилая площадь также сильно влияет на стоимость. Корреляция Пирсона составляет 0.58, что входит в пределы от -1 и до 1.    \n",
    "    \n",
    "</div>"
   ]
  },
  {
   "cell_type": "code",
   "execution_count": 94,
   "metadata": {},
   "outputs": [
    {
     "data": {
      "text/plain": [
       "0.5883461081317763"
      ]
     },
     "execution_count": 94,
     "metadata": {},
     "output_type": "execute_result"
    },
    {
     "data": {
      "image/png": "[encoded data removed]",
      "text/plain": [
       "<Figure size 576x288 with 1 Axes>"
      ]
     },
     "metadata": {
      "needs_background": "light"
     },
     "output_type": "display_data"
    }
   ],
   "source": [
    "# рассмотрим зависимость цены квартиры от площади кухни.\n",
    "pt_kitchen_area = data.pivot_table(index = 'kitchen_area', values = 'last_price', aggfunc = ['mean', 'count', 'median'])\n",
    "pt_kitchen_area.columns = ['mean', 'count', 'median']\n",
    "pt_kitchen_area.query('count > 50').plot(y = 'median', grid=True, style='o-', figsize=(8, 4), title = 'Зависимость цены от площади кухни')\n",
    "\n",
    "pt_kitchen_area.query('count > 50').sort_values('median', ascending = False)\n",
    "\n",
    "data['kitchen_area'].corr(data['last_price'])"
   ]
  },
  {
   "cell_type": "markdown",
   "metadata": {},
   "source": [
    "***Вывод:***\n",
    "<div style=\"border:solid green 1px; padding: 20px\">  \n",
    "\n",
    "Корреляция Пирсона составляет 0.51, что входит в пределы от -1 и до 1.  Но зависимость цены от площади кухни уже более слабая.  \n",
    "    \n",
    "</div>"
   ]
  },
  {
   "cell_type": "code",
   "execution_count": 95,
   "metadata": {},
   "outputs": [
    {
     "data": {
      "text/plain": [
       "0.43145747569633214"
      ]
     },
     "execution_count": 95,
     "metadata": {},
     "output_type": "execute_result"
    },
    {
     "data": {
      "image/png": "[encoded data removed]",
      "text/plain": [
       "<Figure size 576x288 with 1 Axes>"
      ]
     },
     "metadata": {
      "needs_background": "light"
     },
     "output_type": "display_data"
    }
   ],
   "source": [
    "# рассмотрим зависимость цены квартиры от количества комнат.\n",
    "pt_rooms = data.pivot_table(index = 'rooms', values = 'last_price', aggfunc = ['mean', 'count', 'median'])\n",
    "pt_rooms.columns = ['mean', 'count', 'median']\n",
    "pt_rooms.query('count > 50').plot(y = 'median', grid=True, style='o-', figsize=(8, 4), title = 'Зависимость цены от количества комнат')\n",
    "\n",
    "pt_rooms.query('count > 50').sort_values('median', ascending = False)\n",
    "\n",
    "data['rooms'].corr(data['last_price'])"
   ]
  },
  {
   "cell_type": "markdown",
   "metadata": {},
   "source": [
    "***Вывод:***\n",
    "<div style=\"border:solid green 1px; padding: 20px\">  \n",
    "\n",
    "Корреляция Пирсона составляет 0.36, что входит в пределы от -1 и до 1.  Но зависимость цены от количества комнат слабая.  \n",
    "Цена квартиры напрямую связана с количеством комнат. Чем больше комнат, тем больше площадь и соотвественно выше цена. \n",
    "    \n",
    "</div>"
   ]
  },
  {
   "cell_type": "code",
   "execution_count": 96,
   "metadata": {},
   "outputs": [
    {
     "data": {
      "text/html": [
       "<div>\n",
       "<style scoped>\n",
       "    .dataframe tbody tr th:only-of-type {\n",
       "        vertical-align: middle;\n",
       "    }\n",
       "\n",
       "    .dataframe tbody tr th {\n",
       "        vertical-align: top;\n",
       "    }\n",
       "\n",
       "    .dataframe thead th {\n",
       "        text-align: right;\n",
       "    }\n",
       "</style>\n",
       "<table border=\"1\" class=\"dataframe\">\n",
       "  <thead>\n",
       "    <tr style=\"text-align: right;\">\n",
       "      <th></th>\n",
       "      <th>mean</th>\n",
       "      <th>count</th>\n",
       "      <th>median</th>\n",
       "    </tr>\n",
       "    <tr>\n",
       "      <th>floor_category</th>\n",
       "      <th></th>\n",
       "      <th></th>\n",
       "      <th></th>\n",
       "    </tr>\n",
       "  </thead>\n",
       "  <tbody>\n",
       "    <tr>\n",
       "      <th>другой</th>\n",
       "      <td>6.628389e+06</td>\n",
       "      <td>17232</td>\n",
       "      <td>4850000</td>\n",
       "    </tr>\n",
       "    <tr>\n",
       "      <th>первый</th>\n",
       "      <td>4.781207e+06</td>\n",
       "      <td>2881</td>\n",
       "      <td>3900000</td>\n",
       "    </tr>\n",
       "    <tr>\n",
       "      <th>последний</th>\n",
       "      <td>6.625810e+06</td>\n",
       "      <td>3307</td>\n",
       "      <td>4300000</td>\n",
       "    </tr>\n",
       "  </tbody>\n",
       "</table>\n",
       "</div>"
      ],
      "text/plain": [
       "                        mean  count   median\n",
       "floor_category                              \n",
       "другой          6.628389e+06  17232  4850000\n",
       "первый          4.781207e+06   2881  3900000\n",
       "последний       6.625810e+06   3307  4300000"
      ]
     },
     "execution_count": 96,
     "metadata": {},
     "output_type": "execute_result"
    },
    {
     "data": {
      "image/png": "[encoded data removed]",
      "text/plain": [
       "<Figure size 576x288 with 1 Axes>"
      ]
     },
     "metadata": {
      "needs_background": "light"
     },
     "output_type": "display_data"
    }
   ],
   "source": [
    "# рассмотрим зависимость цены от этажа, на котором расположена квартира (первый, последний, другой); \n",
    "pt_floor_category = data.pivot_table(index = 'floor_category', values = 'last_price', aggfunc = ['mean', 'count', 'median'])\n",
    "pt_floor_category.columns = ['mean', 'count', 'median']\n",
    "pt_floor_category.plot(y = 'median', grid=True, style='o-', figsize=(8, 4), title = 'Зависимость цены от этажа')\n",
    "pt_floor_category"
   ]
  },
  {
   "cell_type": "markdown",
   "metadata": {},
   "source": [
    "***Вывод:***\n",
    "<div style=\"border:solid green 1px; padding: 20px\">  \n",
    "    \n",
    "Первый этаж непосредственно влияет на стоимость квартиры - в среднем квартиры на 1 этаже значительно дешевле. Чуть дороже последний этаж. Наибольшая стоимость у квартир, расположенных не на 1 и не на последнем этаже.\n",
    "    \n",
    "</div>"
   ]
  },
  {
   "cell_type": "code",
   "execution_count": 97,
   "metadata": {},
   "outputs": [
    {
     "data": {
      "text/html": [
       "<div>\n",
       "<style scoped>\n",
       "    .dataframe tbody tr th:only-of-type {\n",
       "        vertical-align: middle;\n",
       "    }\n",
       "\n",
       "    .dataframe tbody tr th {\n",
       "        vertical-align: top;\n",
       "    }\n",
       "\n",
       "    .dataframe thead th {\n",
       "        text-align: right;\n",
       "    }\n",
       "</style>\n",
       "<table border=\"1\" class=\"dataframe\">\n",
       "  <thead>\n",
       "    <tr style=\"text-align: right;\">\n",
       "      <th></th>\n",
       "      <th>mean</th>\n",
       "      <th>count</th>\n",
       "      <th>median</th>\n",
       "    </tr>\n",
       "    <tr>\n",
       "      <th>weekday_create</th>\n",
       "      <th></th>\n",
       "      <th></th>\n",
       "      <th></th>\n",
       "    </tr>\n",
       "  </thead>\n",
       "  <tbody>\n",
       "    <tr>\n",
       "      <th>1</th>\n",
       "      <td>6.293512e+06</td>\n",
       "      <td>4145</td>\n",
       "      <td>4720000</td>\n",
       "    </tr>\n",
       "    <tr>\n",
       "      <th>2</th>\n",
       "      <td>6.381415e+06</td>\n",
       "      <td>3911</td>\n",
       "      <td>4700000</td>\n",
       "    </tr>\n",
       "    <tr>\n",
       "      <th>0</th>\n",
       "      <td>6.378929e+06</td>\n",
       "      <td>3569</td>\n",
       "      <td>4650000</td>\n",
       "    </tr>\n",
       "    <tr>\n",
       "      <th>3</th>\n",
       "      <td>6.695212e+06</td>\n",
       "      <td>4253</td>\n",
       "      <td>4650000</td>\n",
       "    </tr>\n",
       "    <tr>\n",
       "      <th>4</th>\n",
       "      <td>6.367174e+06</td>\n",
       "      <td>3967</td>\n",
       "      <td>4580000</td>\n",
       "    </tr>\n",
       "    <tr>\n",
       "      <th>5</th>\n",
       "      <td>6.249686e+06</td>\n",
       "      <td>1906</td>\n",
       "      <td>4555000</td>\n",
       "    </tr>\n",
       "    <tr>\n",
       "      <th>6</th>\n",
       "      <td>6.261643e+06</td>\n",
       "      <td>1669</td>\n",
       "      <td>4550000</td>\n",
       "    </tr>\n",
       "  </tbody>\n",
       "</table>\n",
       "</div>"
      ],
      "text/plain": [
       "                        mean  count   median\n",
       "weekday_create                              \n",
       "1               6.293512e+06   4145  4720000\n",
       "2               6.381415e+06   3911  4700000\n",
       "0               6.378929e+06   3569  4650000\n",
       "3               6.695212e+06   4253  4650000\n",
       "4               6.367174e+06   3967  4580000\n",
       "5               6.249686e+06   1906  4555000\n",
       "6               6.261643e+06   1669  4550000"
      ]
     },
     "execution_count": 97,
     "metadata": {},
     "output_type": "execute_result"
    },
    {
     "data": {
      "image/png": "[encoded data removed]",
      "text/plain": [
       "<Figure size 576x288 with 1 Axes>"
      ]
     },
     "metadata": {
      "needs_background": "light"
     },
     "output_type": "display_data"
    }
   ],
   "source": [
    "# рассмотрим зависимость цены от даты размещения - день недели\n",
    "pt_weekday_create = data.pivot_table(index='weekday_create', values='last_price', aggfunc=['mean', 'count', 'median'])\n",
    "pt_weekday_create.columns = ['mean', 'count', 'median']\n",
    "pt_weekday_create.plot(y='median', grid=True, style='o-', figsize=(8, 4), title = 'Зависимость цены от даты размещения по дням недели')\n",
    "\n",
    "pt_weekday_create.sort_values(by='median', ascending=False)"
   ]
  },
  {
   "cell_type": "code",
   "execution_count": 98,
   "metadata": {},
   "outputs": [
    {
     "data": {
      "text/html": [
       "<div>\n",
       "<style scoped>\n",
       "    .dataframe tbody tr th:only-of-type {\n",
       "        vertical-align: middle;\n",
       "    }\n",
       "\n",
       "    .dataframe tbody tr th {\n",
       "        vertical-align: top;\n",
       "    }\n",
       "\n",
       "    .dataframe thead th {\n",
       "        text-align: right;\n",
       "    }\n",
       "</style>\n",
       "<table border=\"1\" class=\"dataframe\">\n",
       "  <thead>\n",
       "    <tr style=\"text-align: right;\">\n",
       "      <th></th>\n",
       "      <th>mean</th>\n",
       "      <th>count</th>\n",
       "      <th>median</th>\n",
       "    </tr>\n",
       "    <tr>\n",
       "      <th>month_create</th>\n",
       "      <th></th>\n",
       "      <th></th>\n",
       "      <th></th>\n",
       "    </tr>\n",
       "  </thead>\n",
       "  <tbody>\n",
       "    <tr>\n",
       "      <th>4</th>\n",
       "      <td>6.404578e+06</td>\n",
       "      <td>2342</td>\n",
       "      <td>4800000</td>\n",
       "    </tr>\n",
       "    <tr>\n",
       "      <th>9</th>\n",
       "      <td>6.469676e+06</td>\n",
       "      <td>1961</td>\n",
       "      <td>4700000</td>\n",
       "    </tr>\n",
       "    <tr>\n",
       "      <th>11</th>\n",
       "      <td>6.442567e+06</td>\n",
       "      <td>2348</td>\n",
       "      <td>4700000</td>\n",
       "    </tr>\n",
       "    <tr>\n",
       "      <th>12</th>\n",
       "      <td>6.582408e+06</td>\n",
       "      <td>1628</td>\n",
       "      <td>4700000</td>\n",
       "    </tr>\n",
       "    <tr>\n",
       "      <th>2</th>\n",
       "      <td>6.281818e+06</td>\n",
       "      <td>2618</td>\n",
       "      <td>4650000</td>\n",
       "    </tr>\n",
       "    <tr>\n",
       "      <th>3</th>\n",
       "      <td>6.217259e+06</td>\n",
       "      <td>2561</td>\n",
       "      <td>4650000</td>\n",
       "    </tr>\n",
       "    <tr>\n",
       "      <th>7</th>\n",
       "      <td>6.621998e+06</td>\n",
       "      <td>1670</td>\n",
       "      <td>4650000</td>\n",
       "    </tr>\n",
       "    <tr>\n",
       "      <th>1</th>\n",
       "      <td>6.671994e+06</td>\n",
       "      <td>1472</td>\n",
       "      <td>4600000</td>\n",
       "    </tr>\n",
       "    <tr>\n",
       "      <th>8</th>\n",
       "      <td>6.371672e+06</td>\n",
       "      <td>1727</td>\n",
       "      <td>4600000</td>\n",
       "    </tr>\n",
       "    <tr>\n",
       "      <th>10</th>\n",
       "      <td>6.246724e+06</td>\n",
       "      <td>2099</td>\n",
       "      <td>4575000</td>\n",
       "    </tr>\n",
       "    <tr>\n",
       "      <th>5</th>\n",
       "      <td>6.429558e+06</td>\n",
       "      <td>1255</td>\n",
       "      <td>4500000</td>\n",
       "    </tr>\n",
       "    <tr>\n",
       "      <th>6</th>\n",
       "      <td>6.293155e+06</td>\n",
       "      <td>1739</td>\n",
       "      <td>4400000</td>\n",
       "    </tr>\n",
       "  </tbody>\n",
       "</table>\n",
       "</div>"
      ],
      "text/plain": [
       "                      mean  count   median\n",
       "month_create                              \n",
       "4             6.404578e+06   2342  4800000\n",
       "9             6.469676e+06   1961  4700000\n",
       "11            6.442567e+06   2348  4700000\n",
       "12            6.582408e+06   1628  4700000\n",
       "2             6.281818e+06   2618  4650000\n",
       "3             6.217259e+06   2561  4650000\n",
       "7             6.621998e+06   1670  4650000\n",
       "1             6.671994e+06   1472  4600000\n",
       "8             6.371672e+06   1727  4600000\n",
       "10            6.246724e+06   2099  4575000\n",
       "5             6.429558e+06   1255  4500000\n",
       "6             6.293155e+06   1739  4400000"
      ]
     },
     "execution_count": 98,
     "metadata": {},
     "output_type": "execute_result"
    },
    {
     "data": {
      "image/png": "[encoded data removed]",
      "text/plain": [
       "<Figure size 576x288 with 1 Axes>"
      ]
     },
     "metadata": {
      "needs_background": "light"
     },
     "output_type": "display_data"
    }
   ],
   "source": [
    "# рассмотрим зависимость цены от даты размещения - месяц\n",
    "pt_month_create = data.pivot_table(index='month_create', values='last_price', aggfunc=['mean', 'count', 'median'])\n",
    "pt_month_create.columns = ['mean', 'count', 'median']\n",
    "pt_month_create.plot(y='median', grid=True, style='o-', figsize=(8, 4), title = 'Зависимость цены от даты размещения по месяцам')\n",
    "\n",
    "pt_month_create.sort_values(by='median', ascending=False)"
   ]
  },
  {
   "cell_type": "code",
   "execution_count": 99,
   "metadata": {},
   "outputs": [
    {
     "data": {
      "text/html": [
       "<div>\n",
       "<style scoped>\n",
       "    .dataframe tbody tr th:only-of-type {\n",
       "        vertical-align: middle;\n",
       "    }\n",
       "\n",
       "    .dataframe tbody tr th {\n",
       "        vertical-align: top;\n",
       "    }\n",
       "\n",
       "    .dataframe thead th {\n",
       "        text-align: right;\n",
       "    }\n",
       "</style>\n",
       "<table border=\"1\" class=\"dataframe\">\n",
       "  <thead>\n",
       "    <tr style=\"text-align: right;\">\n",
       "      <th></th>\n",
       "      <th>mean</th>\n",
       "      <th>count</th>\n",
       "      <th>median</th>\n",
       "    </tr>\n",
       "    <tr>\n",
       "      <th>year_create</th>\n",
       "      <th></th>\n",
       "      <th></th>\n",
       "      <th></th>\n",
       "    </tr>\n",
       "  </thead>\n",
       "  <tbody>\n",
       "    <tr>\n",
       "      <th>2014</th>\n",
       "      <td>1.204660e+07</td>\n",
       "      <td>136</td>\n",
       "      <td>7640000</td>\n",
       "    </tr>\n",
       "    <tr>\n",
       "      <th>2015</th>\n",
       "      <td>8.558965e+06</td>\n",
       "      <td>1159</td>\n",
       "      <td>5324000</td>\n",
       "    </tr>\n",
       "    <tr>\n",
       "      <th>2019</th>\n",
       "      <td>6.642077e+06</td>\n",
       "      <td>2851</td>\n",
       "      <td>5080000</td>\n",
       "    </tr>\n",
       "    <tr>\n",
       "      <th>2018</th>\n",
       "      <td>5.926182e+06</td>\n",
       "      <td>8432</td>\n",
       "      <td>4590000</td>\n",
       "    </tr>\n",
       "    <tr>\n",
       "      <th>2016</th>\n",
       "      <td>6.672325e+06</td>\n",
       "      <td>2730</td>\n",
       "      <td>4540000</td>\n",
       "    </tr>\n",
       "    <tr>\n",
       "      <th>2017</th>\n",
       "      <td>6.314949e+06</td>\n",
       "      <td>8112</td>\n",
       "      <td>4500000</td>\n",
       "    </tr>\n",
       "  </tbody>\n",
       "</table>\n",
       "</div>"
      ],
      "text/plain": [
       "                     mean  count   median\n",
       "year_create                              \n",
       "2014         1.204660e+07    136  7640000\n",
       "2015         8.558965e+06   1159  5324000\n",
       "2019         6.642077e+06   2851  5080000\n",
       "2018         5.926182e+06   8432  4590000\n",
       "2016         6.672325e+06   2730  4540000\n",
       "2017         6.314949e+06   8112  4500000"
      ]
     },
     "execution_count": 99,
     "metadata": {},
     "output_type": "execute_result"
    },
    {
     "data": {
      "image/png": "[encoded data removed]",
      "text/plain": [
       "<Figure size 576x288 with 1 Axes>"
      ]
     },
     "metadata": {
      "needs_background": "light"
     },
     "output_type": "display_data"
    }
   ],
   "source": [
    "# рассмотрим зависимость цены от даты размещения - год\n",
    "pt_year_create = data.pivot_table(index='year_create', values='last_price', aggfunc=['mean', 'count', 'median'])\n",
    "pt_year_create.columns = ['mean', 'count', 'median']\n",
    "pt_year_create.plot(y='median', grid=True, style='o-', figsize=(8, 4), title = 'Зависимость цены от даты размещения по годам')\n",
    "\n",
    "pt_year_create.sort_values(by='median', ascending=False)\n"
   ]
  },
  {
   "cell_type": "markdown",
   "metadata": {},
   "source": [
    "***Вывод:***\n",
    "<div style=\"border:solid green 1px; padding: 20px\">  \n",
    "    \n",
    "**Зависимость от дня, месяца и года**  \n",
    "      \n",
    "*День недели:* дороже всего квартиры, опубликованные во вторник и среду, дешевле всего - в воскресенье.\n",
    "  Скорее всего стоимость выставленной на продажу недвижимости зависит от активности людей, так как именно в рабочие дни мы видим более высокие цены.  \n",
    "      \n",
    "*Месяц:* дороже всего квартиры, продающиеся в апреле, немного ниже по стоимости в сентябре, ноябре и декабре, дешевле всего - в мае и июне.  \n",
    "  \n",
    "*Год:*  квартиры очень сильно подешевели в  период с 2016 по 2018 годы, что, возможно, вызвано кризисом 2014-2015 годов.   \n",
    "В 2019 году цены немного стали повышаться, видимо, экономика пошла в гору.  \n",
    "    \n",
    "</div>"
   ]
  },
  {
   "cell_type": "markdown",
   "metadata": {},
   "source": [
    "<div style=\"border:solid blue 1px; padding: 20px\"> \n",
    "    \n",
    "# Цели:\n",
    "Посчитать среднюю цену одного квадратного метра в 10 населённых пунктах с наибольшим числом объявлений.   \n",
    "Выделить населённые пункты с самой высокой и низкой стоимостью квадратного метра.  \n",
    "\n",
    "</div>"
   ]
  },
  {
   "cell_type": "code",
   "execution_count": 100,
   "metadata": {},
   "outputs": [
    {
     "data": {
      "text/html": [
       "<div>\n",
       "<style scoped>\n",
       "    .dataframe tbody tr th:only-of-type {\n",
       "        vertical-align: middle;\n",
       "    }\n",
       "\n",
       "    .dataframe tbody tr th {\n",
       "        vertical-align: top;\n",
       "    }\n",
       "\n",
       "    .dataframe thead th {\n",
       "        text-align: right;\n",
       "    }\n",
       "</style>\n",
       "<table border=\"1\" class=\"dataframe\">\n",
       "  <thead>\n",
       "    <tr style=\"text-align: right;\">\n",
       "      <th></th>\n",
       "      <th>price_square_meter</th>\n",
       "    </tr>\n",
       "    <tr>\n",
       "      <th>locality_name</th>\n",
       "      <th></th>\n",
       "    </tr>\n",
       "  </thead>\n",
       "  <tbody>\n",
       "    <tr>\n",
       "      <th>Санкт-Петербург</th>\n",
       "      <td>114279</td>\n",
       "    </tr>\n",
       "    <tr>\n",
       "      <th>Пушкин</th>\n",
       "      <td>103080</td>\n",
       "    </tr>\n",
       "    <tr>\n",
       "      <th>деревня Кудрово</th>\n",
       "      <td>92399</td>\n",
       "    </tr>\n",
       "    <tr>\n",
       "      <th>поселок Парголово</th>\n",
       "      <td>90175</td>\n",
       "    </tr>\n",
       "    <tr>\n",
       "      <th>поселок Мурино</th>\n",
       "      <td>85313</td>\n",
       "    </tr>\n",
       "    <tr>\n",
       "      <th>поселок Шушары</th>\n",
       "      <td>78505</td>\n",
       "    </tr>\n",
       "    <tr>\n",
       "      <th>Колпино</th>\n",
       "      <td>75330</td>\n",
       "    </tr>\n",
       "    <tr>\n",
       "      <th>Гатчина</th>\n",
       "      <td>68745</td>\n",
       "    </tr>\n",
       "    <tr>\n",
       "      <th>Всеволожск</th>\n",
       "      <td>68720</td>\n",
       "    </tr>\n",
       "    <tr>\n",
       "      <th>Выборг</th>\n",
       "      <td>57993</td>\n",
       "    </tr>\n",
       "  </tbody>\n",
       "</table>\n",
       "</div>"
      ],
      "text/plain": [
       "                   price_square_meter\n",
       "locality_name                        \n",
       "Санкт-Петербург                114279\n",
       "Пушкин                         103080\n",
       "деревня Кудрово                 92399\n",
       "поселок Парголово               90175\n",
       "поселок Мурино                  85313\n",
       "поселок Шушары                  78505\n",
       "Колпино                         75330\n",
       "Гатчина                         68745\n",
       "Всеволожск                      68720\n",
       "Выборг                          57993"
      ]
     },
     "execution_count": 100,
     "metadata": {},
     "output_type": "execute_result"
    }
   ],
   "source": [
    "# сравним среднюю стоимость одного квадратного метра в 10 населенных пунктах с наибольшим числом объявлений\n",
    "city_mean = data['locality_name'].value_counts().head(10)\n",
    "city_square_meter = data.query('locality_name in (@city_mean.index)').pivot_table(values='price_square_meter', index='locality_name')\n",
    "city_square_meter = city_square_meter.astype(int)\n",
    "city_square_meter.sort_values('price_square_meter', ascending=False)"
   ]
  },
  {
   "cell_type": "markdown",
   "metadata": {},
   "source": [
    "***Вывод:***\n",
    "<div style=\"border:solid green 1px; padding: 20px\">  \n",
    "    \n",
    "Наибольшая средняя стоимость квадратного метра в Санкт-Петербурге. Затем идёт Пушкин, что, вероятно, вызвано хорошей застройкой и большим количеством исторических достопримечательностей и парков. Затем идут районы, фактически являющиеся Санкт-Петербургом и непосредственно к нему примыкают. Из 10 населенных пунктов наименьшая стоимость в Гатчине и Всеволожске, из которых далеко ехать до Санкт-Петербурга, а также неболшой по численности населения Выборг, расположенный на большом расстоянии от Санкт-Петербурга.\n",
    "    \n",
    "</div>"
   ]
  },
  {
   "cell_type": "markdown",
   "metadata": {},
   "source": [
    "<div style=\"border:solid blue 1px; padding: 20px\"> \n",
    "    \n",
    "# Цели:\n",
    "Выделить квартиры в Санкт-Петербурге с помощью столбца locality_name и вычислить среднюю цену каждого километра.  \n",
    "\n",
    "</div>"
   ]
  },
  {
   "cell_type": "code",
   "execution_count": 101,
   "metadata": {
    "scrolled": false
   },
   "outputs": [
    {
     "data": {
      "text/html": [
       "<div>\n",
       "<style scoped>\n",
       "    .dataframe tbody tr th:only-of-type {\n",
       "        vertical-align: middle;\n",
       "    }\n",
       "\n",
       "    .dataframe tbody tr th {\n",
       "        vertical-align: top;\n",
       "    }\n",
       "\n",
       "    .dataframe thead th {\n",
       "        text-align: right;\n",
       "    }\n",
       "</style>\n",
       "<table border=\"1\" class=\"dataframe\">\n",
       "  <thead>\n",
       "    <tr style=\"text-align: right;\">\n",
       "      <th></th>\n",
       "      <th>price_square_meter</th>\n",
       "    </tr>\n",
       "    <tr>\n",
       "      <th>cityCenters_nearest_km</th>\n",
       "      <th></th>\n",
       "    </tr>\n",
       "  </thead>\n",
       "  <tbody>\n",
       "    <tr>\n",
       "      <th>0</th>\n",
       "      <td>187174.541176</td>\n",
       "    </tr>\n",
       "    <tr>\n",
       "      <th>1</th>\n",
       "      <td>153403.600000</td>\n",
       "    </tr>\n",
       "    <tr>\n",
       "      <th>2</th>\n",
       "      <td>143987.966667</td>\n",
       "    </tr>\n",
       "    <tr>\n",
       "      <th>3</th>\n",
       "      <td>125717.346228</td>\n",
       "    </tr>\n",
       "    <tr>\n",
       "      <th>4</th>\n",
       "      <td>137527.792833</td>\n",
       "    </tr>\n",
       "    <tr>\n",
       "      <th>5</th>\n",
       "      <td>145279.235450</td>\n",
       "    </tr>\n",
       "    <tr>\n",
       "      <th>6</th>\n",
       "      <td>150834.929487</td>\n",
       "    </tr>\n",
       "    <tr>\n",
       "      <th>7</th>\n",
       "      <td>140830.576733</td>\n",
       "    </tr>\n",
       "    <tr>\n",
       "      <th>8</th>\n",
       "      <td>120463.401504</td>\n",
       "    </tr>\n",
       "    <tr>\n",
       "      <th>9</th>\n",
       "      <td>110291.452416</td>\n",
       "    </tr>\n",
       "    <tr>\n",
       "      <th>10</th>\n",
       "      <td>111517.513245</td>\n",
       "    </tr>\n",
       "    <tr>\n",
       "      <th>11</th>\n",
       "      <td>106597.095783</td>\n",
       "    </tr>\n",
       "    <tr>\n",
       "      <th>12</th>\n",
       "      <td>108261.554817</td>\n",
       "    </tr>\n",
       "    <tr>\n",
       "      <th>13</th>\n",
       "      <td>107031.097473</td>\n",
       "    </tr>\n",
       "    <tr>\n",
       "      <th>14</th>\n",
       "      <td>106969.461588</td>\n",
       "    </tr>\n",
       "    <tr>\n",
       "      <th>15</th>\n",
       "      <td>101806.940659</td>\n",
       "    </tr>\n",
       "    <tr>\n",
       "      <th>16</th>\n",
       "      <td>100005.823797</td>\n",
       "    </tr>\n",
       "    <tr>\n",
       "      <th>17</th>\n",
       "      <td>94662.838462</td>\n",
       "    </tr>\n",
       "    <tr>\n",
       "      <th>18</th>\n",
       "      <td>94846.575581</td>\n",
       "    </tr>\n",
       "    <tr>\n",
       "      <th>19</th>\n",
       "      <td>95433.951220</td>\n",
       "    </tr>\n",
       "    <tr>\n",
       "      <th>20</th>\n",
       "      <td>107252.650602</td>\n",
       "    </tr>\n",
       "    <tr>\n",
       "      <th>21</th>\n",
       "      <td>91492.220513</td>\n",
       "    </tr>\n",
       "    <tr>\n",
       "      <th>22</th>\n",
       "      <td>88714.237410</td>\n",
       "    </tr>\n",
       "    <tr>\n",
       "      <th>23</th>\n",
       "      <td>92720.233333</td>\n",
       "    </tr>\n",
       "    <tr>\n",
       "      <th>24</th>\n",
       "      <td>82439.909091</td>\n",
       "    </tr>\n",
       "    <tr>\n",
       "      <th>25</th>\n",
       "      <td>90436.553846</td>\n",
       "    </tr>\n",
       "    <tr>\n",
       "      <th>26</th>\n",
       "      <td>75171.333333</td>\n",
       "    </tr>\n",
       "    <tr>\n",
       "      <th>27</th>\n",
       "      <td>132115.000000</td>\n",
       "    </tr>\n",
       "    <tr>\n",
       "      <th>28</th>\n",
       "      <td>81840.200000</td>\n",
       "    </tr>\n",
       "    <tr>\n",
       "      <th>29</th>\n",
       "      <td>62481.666667</td>\n",
       "    </tr>\n",
       "  </tbody>\n",
       "</table>\n",
       "</div>"
      ],
      "text/plain": [
       "                        price_square_meter\n",
       "cityCenters_nearest_km                    \n",
       "0                            187174.541176\n",
       "1                            153403.600000\n",
       "2                            143987.966667\n",
       "3                            125717.346228\n",
       "4                            137527.792833\n",
       "5                            145279.235450\n",
       "6                            150834.929487\n",
       "7                            140830.576733\n",
       "8                            120463.401504\n",
       "9                            110291.452416\n",
       "10                           111517.513245\n",
       "11                           106597.095783\n",
       "12                           108261.554817\n",
       "13                           107031.097473\n",
       "14                           106969.461588\n",
       "15                           101806.940659\n",
       "16                           100005.823797\n",
       "17                            94662.838462\n",
       "18                            94846.575581\n",
       "19                            95433.951220\n",
       "20                           107252.650602\n",
       "21                            91492.220513\n",
       "22                            88714.237410\n",
       "23                            92720.233333\n",
       "24                            82439.909091\n",
       "25                            90436.553846\n",
       "26                            75171.333333\n",
       "27                           132115.000000\n",
       "28                            81840.200000\n",
       "29                            62481.666667"
      ]
     },
     "execution_count": 101,
     "metadata": {},
     "output_type": "execute_result"
    },
    {
     "data": {
      "image/png": "[encoded data removed]",
      "text/plain": [
       "<Figure size 576x288 with 1 Axes>"
      ]
     },
     "metadata": {
      "needs_background": "light"
     },
     "output_type": "display_data"
    }
   ],
   "source": [
    "# Выбираем Санкт-Петербург, смотрим на график, где указана средняя стоимость для каждого км\n",
    "data['cityCenters_nearest_km'] = data['cityCenters_nearest']/1000\n",
    "data['cityCenters_nearest_km'] = data['cityCenters_nearest_km'].fillna(999999)\n",
    "data['cityCenters_nearest_km'] = data['cityCenters_nearest_km'].astype('int')\n",
    "pt_cityCenters_km = data.query('locality_name == \"Санкт-Петербург\" and cityCenters_nearest_km !=999999').pivot_table(index = 'cityCenters_nearest_km', values = 'price_square_meter', aggfunc = 'mean')\n",
    "pt_cityCenters_km.plot(grid=True, style='o-', figsize=(8, 4), title = 'Средняя стоимость для каждого км')\n",
    "pt_cityCenters_km"
   ]
  },
  {
   "cell_type": "markdown",
   "metadata": {},
   "source": [
    "***Вывод:***\n",
    "<div style=\"border:solid green 1px; padding: 20px\">  \n",
    "    \n",
    "Центральная зона - это 6 км и меньше. Дальше 7 км средняя цена на квартиры резко снижается и есть возрастание в 27 км, затем резкое снижение.\n",
    "    \n",
    "</div>"
   ]
  },
  {
   "cell_type": "markdown",
   "metadata": {},
   "source": [
    "### Общий вывод"
   ]
  },
  {
   "cell_type": "markdown",
   "metadata": {},
   "source": [
    "<div style=\"border:solid red 1px; padding: 20px\">\n",
    "\n",
    "Мы обработали полученный архив данных - добавили разделители, для удобной работы с данными.  \n",
    "Проверили данные на присутствие явных и неявных дубликатов в данных.  \n",
    "Провели изменения в данных и избавились от неявных дубликатов.  \n",
    "Выявили аномальные значения, которые могли повлиять на результаты анализа. И отбросили все аномальные выбросы.  \n",
    "Посчитали и заполнили пропущенные значения в столбцах, где это было возможно. Изменили типы данных, в тех столбцах, где они выбивались из нормы.  \n",
    "Перевели данные в столбце с датой в соответсвующий формат.  \n",
    "Удалили не нужные в анализе строки, которые составляли не более 10%.  \n",
    "Полностью подготовили данные к анализу.  \n",
    "\n",
    "Далее рассчитали стоимость одного квадратного метра, создали столбцы с днем недели, месяца и года, тип этажа.  \n",
    "Рассчитали отношение общей к жилой площади в процентах.  \n",
    "Рассчитали отношение площади кухни к общей площади.  \n",
    "Перевели расстояние до центра города из метров в километры.  \n",
    "\n",
    "Изучить следующие параметры объектов:    \n",
    " - общая площадь;    \n",
    " - жилая площадь;    \n",
    " - площадь кухни;    \n",
    " - цена объекта;      \n",
    " - количество комнат;    \n",
    " - высота потолков;    \n",
    " - этаж, на котором расположена квартира;  \n",
    " - тип этажа;    \n",
    " - общее количество этажей в доме;    \n",
    " - расстояние до центра города в метрах;    \n",
    " - расстояние до ближайшего аэропорта;    \n",
    " - расстояние до ближайшего парка;    \n",
    " - день и месяц публикации объявления.    \n",
    "    \n",
    "Построили отдельные гистограммы для каждого из этих параметров и сделали выводы по каждому пункту.    \n",
    "\n",
    "Изучили как быстро продавались квартиры, рассчитали среднее и медиану.  \n",
    "Построили гистограмму и сделали выводы.  \n",
    "\n",
    "Изучили, зависит ли цена от общей и жилой площади, площади кухни, количества комнат, этажа, на котором расположена квартира, а также даты размещения.  \n",
    "Соотнесли взаимосвязь по величинам, что называется \"корреляцией\".  \n",
    "И построили гистограммы для каждого пункта и сделали по ним выводы.  \n",
    "\n",
    "Выделили квартиры в Санкт-Петербурге и высчитали среднюю стоимость для каждого километра.  \n",
    "Построили гистограмму и сделали вывод.  \n",
    "      \n",
    "Проведя анализ данных, произвели расчет стоимости одного квадратного метра жилья, расстояние до центра города в километрах.\n",
    "Распределили квартиры по типам этажей.  \n",
    "Распределили объявления по дням, месяцам и годам публикации.  \n",
    "\n",
    "Изучили общую площадь, жилую площадь и площадь кухни объектов недвижимости, количество комнат в них, высоту потолков, этажи на которых расположены квартиры. Также посчитали расстояние до центра города, ближайшего аэропорта, ближайшего парка.  \n",
    "\n",
    "Большинство квартир менее 100 кв. м, это квартиры от 50 до 70 кв. м.  \n",
    "Жилая площадь от 10 до 50 кв.м с площадью кухни от 5 до 15 кв.м.  \n",
    "\n",
    "В продаже в основном 1, 2 и 3 комнатные квартиры. Меньший спрос на 4-х и более комнатные квартиры.  \n",
    "\n",
    "Продаются в основном квартиры с высотой потолков от 2,5 до 2,7 м.   \n",
    "\n",
    "Меньше всех спросом пользуются первые этажи.  \n",
    "\n",
    "В основном стоимость квартир варьируется от 1,2 до 8 млн. Максимальные продажи квартир в диапазоне от 3 до 5 млн. в зависимости от местоположения и площади.  \n",
    "\n",
    "Средняя стоимость одного квадратного метра в районе 80-100 тыс.руб.  \n",
    "\n",
    "Активное размещение объявлений приходится на будние дни с понедельника по пятницу, а значительный спад в выходные дни.  \n",
    "\n",
    "**Срок продажи квартиры**  \n",
    "\n",
    "Чаще всего продажи квартир укладывались до 95 дней со дня публикации объявления. Если меньше 45 дней, то это можно считать очень быстрой продажей, если дольше 230 дней - это долгая продажа и скорее всего, связана с неадекватной стоимостью или местоположением.\n",
    "Есть большое число квартир, проданных всего за несколько дней после публикации.  \n",
    "  \n",
    "**Факторы, влияющие на стоимость**  \n",
    "  \n",
    "На стоимость больше влияет общая площадь квартиры, нежели число комнат. Т.е. могут быть дорогие квартиры с малым числом комнат, но где комнаты, ,более просторные и лучше вид.\n",
    "Первый этаж значительно дешевле остальных вариантов. Также стоимость квартиры на последнем этаже ниже, чем на остальных, кроме первого. \n",
    "  \n",
    "**Стоимость квадратного метра в 10 населённых пунктах**\n",
    "\n",
    "Наибольшая стоимость квадратного метра жилья в Санкт-Петербурге и составляет 114868 руб.\n",
    "Наименьшая в Выборге - 58141.  \n",
    "  \n",
    "**Факторы, влияющие на стоимость в центре Санкт-Петербурга**   \n",
    "\n",
    "В центре города практически нет разницы, насколько квартира удалена от условного центра города. Здесь наверняка есть зависимость и от района, где располагается объект и от его характеристик.\n",
    "В центре города последний этаж практически не влияет на стоимость квартиры, в отличие от остального города.\n",
    "В центре есть очень дорогие однокомнатные квартиры.\n",
    "Экономическая ситуация в стране никак не влияет на элитную недвижимость в центре и неважно какая площадь и какой этаж.\n",
    "    \n",
    "</div>    "
   ]
  }
 ],
 "metadata": {
  "ExecuteTimeLog": [
   {
    "duration": 686,
    "start_time": "2022-09-12T11:31:12.109Z"
   },
   {
    "duration": 125,
    "start_time": "2022-09-12T11:31:30.109Z"
   },
   {
    "duration": 96,
    "start_time": "2022-09-12T11:31:33.094Z"
   },
   {
    "duration": 90,
    "start_time": "2022-09-12T11:31:50.617Z"
   },
   {
    "duration": 78,
    "start_time": "2022-09-12T11:32:01.409Z"
   },
   {
    "duration": 78,
    "start_time": "2022-09-12T11:32:03.367Z"
   },
   {
    "duration": 13,
    "start_time": "2022-09-12T11:32:11.819Z"
   },
   {
    "duration": 15,
    "start_time": "2022-09-12T11:39:23.828Z"
   },
   {
    "duration": 17,
    "start_time": "2022-09-12T11:39:52.946Z"
   },
   {
    "duration": 390,
    "start_time": "2022-09-12T11:40:25.966Z"
   },
   {
    "duration": 175,
    "start_time": "2022-09-12T11:43:09.447Z"
   },
   {
    "duration": 86,
    "start_time": "2022-09-12T11:43:12.146Z"
   },
   {
    "duration": 8,
    "start_time": "2022-09-12T11:43:14.746Z"
   },
   {
    "duration": 18,
    "start_time": "2022-09-12T11:43:17.006Z"
   },
   {
    "duration": 700,
    "start_time": "2022-09-12T11:43:43.447Z"
   },
   {
    "duration": 11,
    "start_time": "2022-09-12T11:43:44.149Z"
   },
   {
    "duration": 73,
    "start_time": "2022-09-12T11:43:44.162Z"
   },
   {
    "duration": 102,
    "start_time": "2022-09-12T11:44:59.607Z"
   },
   {
    "duration": 162,
    "start_time": "2022-09-12T11:45:16.388Z"
   },
   {
    "duration": 80,
    "start_time": "2022-09-12T11:45:34.368Z"
   },
   {
    "duration": 79,
    "start_time": "2022-09-12T11:45:41.027Z"
   },
   {
    "duration": 92,
    "start_time": "2022-09-12T11:46:05.727Z"
   },
   {
    "duration": 41,
    "start_time": "2022-09-12T11:46:09.927Z"
   },
   {
    "duration": 1978,
    "start_time": "2022-09-12T11:46:55.627Z"
   },
   {
    "duration": 21,
    "start_time": "2022-09-12T11:47:25.327Z"
   },
   {
    "duration": 89,
    "start_time": "2022-09-12T12:11:18.349Z"
   },
   {
    "duration": 59,
    "start_time": "2022-09-12T12:11:25.170Z"
   },
   {
    "duration": 1859,
    "start_time": "2022-09-12T12:11:40.828Z"
   },
   {
    "duration": 26,
    "start_time": "2022-09-12T12:24:08.289Z"
   },
   {
    "duration": 60,
    "start_time": "2022-09-12T12:24:16.717Z"
   },
   {
    "duration": 35,
    "start_time": "2022-09-12T12:24:32.749Z"
   },
   {
    "duration": 37,
    "start_time": "2022-09-12T12:24:42.317Z"
   },
   {
    "duration": 9,
    "start_time": "2022-09-12T12:38:21.069Z"
   },
   {
    "duration": 4,
    "start_time": "2022-09-12T12:38:36.729Z"
   },
   {
    "duration": 63,
    "start_time": "2022-09-12T12:40:11.929Z"
   },
   {
    "duration": 16,
    "start_time": "2022-09-12T12:41:01.070Z"
   },
   {
    "duration": 11,
    "start_time": "2022-09-12T12:41:39.158Z"
   },
   {
    "duration": 6,
    "start_time": "2022-09-12T12:44:00.589Z"
   },
   {
    "duration": 1124,
    "start_time": "2022-09-12T12:46:56.531Z"
   },
   {
    "duration": 675,
    "start_time": "2022-09-12T12:47:05.354Z"
   },
   {
    "duration": 95,
    "start_time": "2022-09-12T12:47:06.031Z"
   },
   {
    "duration": 42,
    "start_time": "2022-09-12T12:47:06.128Z"
   },
   {
    "duration": 18,
    "start_time": "2022-09-12T12:47:06.171Z"
   },
   {
    "duration": 4,
    "start_time": "2022-09-12T12:47:06.191Z"
   },
   {
    "duration": 12,
    "start_time": "2022-09-12T12:47:06.196Z"
   },
   {
    "duration": 918,
    "start_time": "2022-09-12T12:47:06.210Z"
   },
   {
    "duration": 0,
    "start_time": "2022-09-12T12:47:07.130Z"
   },
   {
    "duration": 8,
    "start_time": "2022-09-12T12:47:33.801Z"
   },
   {
    "duration": 12,
    "start_time": "2022-09-12T12:47:36.092Z"
   },
   {
    "duration": 27,
    "start_time": "2022-09-12T12:47:49.413Z"
   },
   {
    "duration": 11,
    "start_time": "2022-09-12T12:49:05.429Z"
   },
   {
    "duration": 5,
    "start_time": "2022-09-12T12:49:09.193Z"
   },
   {
    "duration": 6,
    "start_time": "2022-09-12T12:49:16.141Z"
   },
   {
    "duration": 6,
    "start_time": "2022-09-12T12:50:25.437Z"
   },
   {
    "duration": 5,
    "start_time": "2022-09-12T12:50:41.732Z"
   },
   {
    "duration": 5,
    "start_time": "2022-09-12T12:51:39.505Z"
   },
   {
    "duration": 6,
    "start_time": "2022-09-12T12:51:54.932Z"
   },
   {
    "duration": 5,
    "start_time": "2022-09-12T12:51:55.860Z"
   },
   {
    "duration": 4,
    "start_time": "2022-09-12T12:52:23.382Z"
   },
   {
    "duration": 50,
    "start_time": "2022-09-12T12:54:01.582Z"
   },
   {
    "duration": 37,
    "start_time": "2022-09-12T12:54:14.978Z"
   },
   {
    "duration": 226,
    "start_time": "2022-09-12T13:09:02.989Z"
   },
   {
    "duration": 192,
    "start_time": "2022-09-12T13:11:35.664Z"
   },
   {
    "duration": 12,
    "start_time": "2022-09-12T13:11:50.486Z"
   },
   {
    "duration": 10,
    "start_time": "2022-09-12T13:11:59.078Z"
   },
   {
    "duration": 11,
    "start_time": "2022-09-12T13:16:36.288Z"
   },
   {
    "duration": 185,
    "start_time": "2022-09-12T13:16:40.368Z"
   },
   {
    "duration": 41,
    "start_time": "2022-09-12T13:18:10.896Z"
   },
   {
    "duration": 621,
    "start_time": "2022-09-12T13:18:21.772Z"
   },
   {
    "duration": 94,
    "start_time": "2022-09-12T13:18:22.395Z"
   },
   {
    "duration": 41,
    "start_time": "2022-09-12T13:18:22.491Z"
   },
   {
    "duration": 15,
    "start_time": "2022-09-12T13:18:22.534Z"
   },
   {
    "duration": 24,
    "start_time": "2022-09-12T13:18:22.552Z"
   },
   {
    "duration": 10,
    "start_time": "2022-09-12T13:18:22.578Z"
   },
   {
    "duration": 11,
    "start_time": "2022-09-12T13:18:22.590Z"
   },
   {
    "duration": 23,
    "start_time": "2022-09-12T13:18:22.603Z"
   },
   {
    "duration": 215,
    "start_time": "2022-09-12T13:18:22.627Z"
   },
   {
    "duration": 10,
    "start_time": "2022-09-12T13:18:22.844Z"
   },
   {
    "duration": 49,
    "start_time": "2022-09-12T13:18:22.856Z"
   },
   {
    "duration": 7,
    "start_time": "2022-09-12T13:18:22.907Z"
   },
   {
    "duration": 6,
    "start_time": "2022-09-12T13:18:22.915Z"
   },
   {
    "duration": 6,
    "start_time": "2022-09-12T13:18:22.924Z"
   },
   {
    "duration": 4,
    "start_time": "2022-09-12T13:18:22.932Z"
   },
   {
    "duration": 11,
    "start_time": "2022-09-12T13:20:28.392Z"
   },
   {
    "duration": 7,
    "start_time": "2022-09-12T13:23:57.120Z"
   },
   {
    "duration": 9,
    "start_time": "2022-09-12T13:23:58.352Z"
   },
   {
    "duration": 4,
    "start_time": "2022-09-12T13:25:20.499Z"
   },
   {
    "duration": 4,
    "start_time": "2022-09-12T13:25:29.632Z"
   },
   {
    "duration": 6,
    "start_time": "2022-09-12T13:25:34.553Z"
   },
   {
    "duration": 5,
    "start_time": "2022-09-12T13:26:34.132Z"
   },
   {
    "duration": 5,
    "start_time": "2022-09-12T13:26:54.612Z"
   },
   {
    "duration": 3,
    "start_time": "2022-09-12T13:27:42.851Z"
   },
   {
    "duration": 9,
    "start_time": "2022-09-12T13:29:54.113Z"
   },
   {
    "duration": 8,
    "start_time": "2022-09-12T13:34:51.188Z"
   },
   {
    "duration": 18,
    "start_time": "2022-09-12T13:36:50.245Z"
   },
   {
    "duration": 5,
    "start_time": "2022-09-12T13:39:44.250Z"
   },
   {
    "duration": 7,
    "start_time": "2022-09-12T13:39:57.240Z"
   },
   {
    "duration": 6,
    "start_time": "2022-09-12T13:39:58.392Z"
   },
   {
    "duration": 6,
    "start_time": "2022-09-12T13:40:01.735Z"
   },
   {
    "duration": 7,
    "start_time": "2022-09-12T13:40:03.913Z"
   },
   {
    "duration": 6,
    "start_time": "2022-09-12T13:40:04.914Z"
   },
   {
    "duration": 7,
    "start_time": "2022-09-12T13:40:05.732Z"
   },
   {
    "duration": 8,
    "start_time": "2022-09-12T13:40:07.593Z"
   },
   {
    "duration": 6,
    "start_time": "2022-09-12T13:40:08.604Z"
   },
   {
    "duration": 8,
    "start_time": "2022-09-12T13:40:11.440Z"
   },
   {
    "duration": 7,
    "start_time": "2022-09-12T13:40:12.402Z"
   },
   {
    "duration": 89,
    "start_time": "2022-09-12T13:49:26.847Z"
   },
   {
    "duration": 88,
    "start_time": "2022-09-12T13:49:30.408Z"
   },
   {
    "duration": 37,
    "start_time": "2022-09-12T13:49:32.967Z"
   },
   {
    "duration": 4,
    "start_time": "2022-09-12T13:50:07.367Z"
   },
   {
    "duration": 25,
    "start_time": "2022-09-12T13:50:12.255Z"
   },
   {
    "duration": 77,
    "start_time": "2022-09-12T13:51:30.007Z"
   },
   {
    "duration": 5,
    "start_time": "2022-09-12T13:54:22.375Z"
   },
   {
    "duration": 4,
    "start_time": "2022-09-12T13:54:24.487Z"
   },
   {
    "duration": 6,
    "start_time": "2022-09-12T13:55:01.459Z"
   },
   {
    "duration": 5,
    "start_time": "2022-09-12T14:11:09.382Z"
   },
   {
    "duration": 6,
    "start_time": "2022-09-12T14:12:16.827Z"
   },
   {
    "duration": 6,
    "start_time": "2022-09-12T14:12:27.062Z"
   },
   {
    "duration": 6,
    "start_time": "2022-09-12T14:13:03.622Z"
   },
   {
    "duration": 5,
    "start_time": "2022-09-12T14:13:04.297Z"
   },
   {
    "duration": 4,
    "start_time": "2022-09-12T14:13:12.310Z"
   },
   {
    "duration": 6,
    "start_time": "2022-09-12T14:13:13.132Z"
   },
   {
    "duration": 9,
    "start_time": "2022-09-12T14:14:31.512Z"
   },
   {
    "duration": 8,
    "start_time": "2022-09-12T14:20:51.957Z"
   },
   {
    "duration": 5,
    "start_time": "2022-09-12T14:21:28.853Z"
   },
   {
    "duration": 5,
    "start_time": "2022-09-12T14:21:30.457Z"
   },
   {
    "duration": 4,
    "start_time": "2022-09-12T14:21:31.473Z"
   },
   {
    "duration": 5,
    "start_time": "2022-09-12T14:21:32.053Z"
   },
   {
    "duration": 622,
    "start_time": "2022-09-12T14:21:38.205Z"
   },
   {
    "duration": 91,
    "start_time": "2022-09-12T14:21:38.829Z"
   },
   {
    "duration": 40,
    "start_time": "2022-09-12T14:21:38.922Z"
   },
   {
    "duration": 25,
    "start_time": "2022-09-12T14:21:38.964Z"
   },
   {
    "duration": 22,
    "start_time": "2022-09-12T14:21:38.992Z"
   },
   {
    "duration": 81,
    "start_time": "2022-09-12T14:21:39.015Z"
   },
   {
    "duration": 2,
    "start_time": "2022-09-12T14:21:39.098Z"
   },
   {
    "duration": 12,
    "start_time": "2022-09-12T14:21:39.102Z"
   },
   {
    "duration": 4,
    "start_time": "2022-09-12T14:21:39.116Z"
   },
   {
    "duration": 8,
    "start_time": "2022-09-12T14:21:39.122Z"
   },
   {
    "duration": 11,
    "start_time": "2022-09-12T14:21:39.132Z"
   },
   {
    "duration": 7,
    "start_time": "2022-09-12T14:21:39.144Z"
   },
   {
    "duration": 24,
    "start_time": "2022-09-12T14:21:39.153Z"
   },
   {
    "duration": 7,
    "start_time": "2022-09-12T14:21:39.179Z"
   },
   {
    "duration": 6,
    "start_time": "2022-09-12T14:21:39.188Z"
   },
   {
    "duration": 5,
    "start_time": "2022-09-12T14:21:39.196Z"
   },
   {
    "duration": 6,
    "start_time": "2022-09-12T14:21:39.203Z"
   },
   {
    "duration": 5,
    "start_time": "2022-09-12T14:21:39.211Z"
   },
   {
    "duration": 7,
    "start_time": "2022-09-12T14:21:39.217Z"
   },
   {
    "duration": 5,
    "start_time": "2022-09-12T14:21:39.225Z"
   },
   {
    "duration": 46,
    "start_time": "2022-09-12T14:21:39.231Z"
   },
   {
    "duration": 5,
    "start_time": "2022-09-12T14:21:39.278Z"
   },
   {
    "duration": 10,
    "start_time": "2022-09-12T14:21:39.285Z"
   },
   {
    "duration": 8,
    "start_time": "2022-09-12T14:22:08.975Z"
   },
   {
    "duration": 20,
    "start_time": "2022-09-12T15:21:23.996Z"
   },
   {
    "duration": 67,
    "start_time": "2022-09-12T15:26:17.326Z"
   },
   {
    "duration": 596,
    "start_time": "2022-09-12T15:26:23.565Z"
   },
   {
    "duration": 87,
    "start_time": "2022-09-12T15:26:24.163Z"
   },
   {
    "duration": 41,
    "start_time": "2022-09-12T15:26:24.251Z"
   },
   {
    "duration": 63,
    "start_time": "2022-09-12T15:26:24.294Z"
   },
   {
    "duration": 0,
    "start_time": "2022-09-12T15:26:24.359Z"
   },
   {
    "duration": 0,
    "start_time": "2022-09-12T15:26:24.360Z"
   },
   {
    "duration": 0,
    "start_time": "2022-09-12T15:26:24.361Z"
   },
   {
    "duration": 0,
    "start_time": "2022-09-12T15:26:24.363Z"
   },
   {
    "duration": 0,
    "start_time": "2022-09-12T15:26:24.363Z"
   },
   {
    "duration": 0,
    "start_time": "2022-09-12T15:26:24.376Z"
   },
   {
    "duration": 0,
    "start_time": "2022-09-12T15:26:24.378Z"
   },
   {
    "duration": 0,
    "start_time": "2022-09-12T15:26:24.379Z"
   },
   {
    "duration": 0,
    "start_time": "2022-09-12T15:26:24.379Z"
   },
   {
    "duration": 0,
    "start_time": "2022-09-12T15:26:24.381Z"
   },
   {
    "duration": 0,
    "start_time": "2022-09-12T15:26:24.382Z"
   },
   {
    "duration": 0,
    "start_time": "2022-09-12T15:26:24.383Z"
   },
   {
    "duration": 0,
    "start_time": "2022-09-12T15:26:24.384Z"
   },
   {
    "duration": 0,
    "start_time": "2022-09-12T15:26:24.384Z"
   },
   {
    "duration": 0,
    "start_time": "2022-09-12T15:26:24.386Z"
   },
   {
    "duration": 0,
    "start_time": "2022-09-12T15:26:24.387Z"
   },
   {
    "duration": 0,
    "start_time": "2022-09-12T15:26:24.388Z"
   },
   {
    "duration": 0,
    "start_time": "2022-09-12T15:26:24.388Z"
   },
   {
    "duration": 0,
    "start_time": "2022-09-12T15:26:24.389Z"
   },
   {
    "duration": 0,
    "start_time": "2022-09-12T15:26:24.390Z"
   },
   {
    "duration": 0,
    "start_time": "2022-09-12T15:26:24.391Z"
   },
   {
    "duration": 7,
    "start_time": "2022-09-12T15:26:34.492Z"
   },
   {
    "duration": 7,
    "start_time": "2022-09-12T15:26:53.130Z"
   },
   {
    "duration": 5,
    "start_time": "2022-09-12T15:27:21.170Z"
   },
   {
    "duration": 586,
    "start_time": "2022-09-12T15:27:27.681Z"
   },
   {
    "duration": 95,
    "start_time": "2022-09-12T15:27:28.269Z"
   },
   {
    "duration": 41,
    "start_time": "2022-09-12T15:27:28.365Z"
   },
   {
    "duration": 14,
    "start_time": "2022-09-12T15:27:28.407Z"
   },
   {
    "duration": 27,
    "start_time": "2022-09-12T15:27:28.423Z"
   },
   {
    "duration": 74,
    "start_time": "2022-09-12T15:27:28.452Z"
   },
   {
    "duration": 3,
    "start_time": "2022-09-12T15:27:28.528Z"
   },
   {
    "duration": 23,
    "start_time": "2022-09-12T15:27:28.533Z"
   },
   {
    "duration": 21,
    "start_time": "2022-09-12T15:27:28.557Z"
   },
   {
    "duration": 25,
    "start_time": "2022-09-12T15:27:28.579Z"
   },
   {
    "duration": 25,
    "start_time": "2022-09-12T15:27:28.605Z"
   },
   {
    "duration": 25,
    "start_time": "2022-09-12T15:27:28.631Z"
   },
   {
    "duration": 27,
    "start_time": "2022-09-12T15:27:28.657Z"
   },
   {
    "duration": 24,
    "start_time": "2022-09-12T15:27:28.686Z"
   },
   {
    "duration": 35,
    "start_time": "2022-09-12T15:27:28.711Z"
   },
   {
    "duration": 10,
    "start_time": "2022-09-12T15:27:28.748Z"
   },
   {
    "duration": 12,
    "start_time": "2022-09-12T15:27:28.759Z"
   },
   {
    "duration": 15,
    "start_time": "2022-09-12T15:27:28.773Z"
   },
   {
    "duration": 19,
    "start_time": "2022-09-12T15:27:28.789Z"
   },
   {
    "duration": 25,
    "start_time": "2022-09-12T15:27:28.809Z"
   },
   {
    "duration": 17,
    "start_time": "2022-09-12T15:27:28.835Z"
   },
   {
    "duration": 17,
    "start_time": "2022-09-12T15:27:28.853Z"
   },
   {
    "duration": 13,
    "start_time": "2022-09-12T15:27:28.872Z"
   },
   {
    "duration": 22,
    "start_time": "2022-09-12T15:27:28.886Z"
   },
   {
    "duration": 4,
    "start_time": "2022-09-12T15:29:03.631Z"
   },
   {
    "duration": 5,
    "start_time": "2022-09-12T15:29:42.586Z"
   },
   {
    "duration": 5,
    "start_time": "2022-09-12T15:29:52.623Z"
   },
   {
    "duration": 4,
    "start_time": "2022-09-12T15:30:08.239Z"
   },
   {
    "duration": 5,
    "start_time": "2022-09-12T15:30:54.779Z"
   },
   {
    "duration": 4,
    "start_time": "2022-09-12T15:31:18.931Z"
   },
   {
    "duration": 461,
    "start_time": "2022-09-12T15:33:39.486Z"
   },
   {
    "duration": 594,
    "start_time": "2022-09-12T15:33:46.701Z"
   },
   {
    "duration": 88,
    "start_time": "2022-09-12T15:33:47.297Z"
   },
   {
    "duration": 36,
    "start_time": "2022-09-12T15:33:47.387Z"
   },
   {
    "duration": 13,
    "start_time": "2022-09-12T15:33:47.425Z"
   },
   {
    "duration": 21,
    "start_time": "2022-09-12T15:33:47.440Z"
   },
   {
    "duration": 66,
    "start_time": "2022-09-12T15:33:47.477Z"
   },
   {
    "duration": 4,
    "start_time": "2022-09-12T15:33:47.544Z"
   },
   {
    "duration": 14,
    "start_time": "2022-09-12T15:33:47.549Z"
   },
   {
    "duration": 3,
    "start_time": "2022-09-12T15:33:47.577Z"
   },
   {
    "duration": 10,
    "start_time": "2022-09-12T15:33:47.582Z"
   },
   {
    "duration": 14,
    "start_time": "2022-09-12T15:33:47.593Z"
   },
   {
    "duration": 7,
    "start_time": "2022-09-12T15:33:47.608Z"
   },
   {
    "duration": 14,
    "start_time": "2022-09-12T15:33:47.616Z"
   },
   {
    "duration": 10,
    "start_time": "2022-09-12T15:33:47.634Z"
   },
   {
    "duration": 7,
    "start_time": "2022-09-12T15:33:47.646Z"
   },
   {
    "duration": 5,
    "start_time": "2022-09-12T15:33:47.655Z"
   },
   {
    "duration": 15,
    "start_time": "2022-09-12T15:33:47.662Z"
   },
   {
    "duration": 7,
    "start_time": "2022-09-12T15:33:47.678Z"
   },
   {
    "duration": 7,
    "start_time": "2022-09-12T15:33:47.686Z"
   },
   {
    "duration": 4,
    "start_time": "2022-09-12T15:33:47.694Z"
   },
   {
    "duration": 5,
    "start_time": "2022-09-12T15:33:47.700Z"
   },
   {
    "duration": 5,
    "start_time": "2022-09-12T15:33:47.707Z"
   },
   {
    "duration": 14,
    "start_time": "2022-09-12T15:33:47.713Z"
   },
   {
    "duration": 14,
    "start_time": "2022-09-12T15:33:47.728Z"
   },
   {
    "duration": 4,
    "start_time": "2022-09-12T15:33:47.743Z"
   },
   {
    "duration": 64,
    "start_time": "2022-09-12T15:33:47.749Z"
   },
   {
    "duration": 0,
    "start_time": "2022-09-12T15:33:47.814Z"
   },
   {
    "duration": 452,
    "start_time": "2022-09-12T15:33:51.057Z"
   },
   {
    "duration": 398,
    "start_time": "2022-09-12T15:33:57.341Z"
   },
   {
    "duration": 4,
    "start_time": "2022-09-12T15:34:06.058Z"
   },
   {
    "duration": 338,
    "start_time": "2022-09-12T15:34:07.270Z"
   },
   {
    "duration": 635,
    "start_time": "2022-09-12T15:34:13.450Z"
   },
   {
    "duration": 91,
    "start_time": "2022-09-12T15:34:14.086Z"
   },
   {
    "duration": 50,
    "start_time": "2022-09-12T15:34:14.178Z"
   },
   {
    "duration": 16,
    "start_time": "2022-09-12T15:34:14.230Z"
   },
   {
    "duration": 48,
    "start_time": "2022-09-12T15:34:14.248Z"
   },
   {
    "duration": 72,
    "start_time": "2022-09-12T15:34:14.298Z"
   },
   {
    "duration": 4,
    "start_time": "2022-09-12T15:34:14.377Z"
   },
   {
    "duration": 12,
    "start_time": "2022-09-12T15:34:14.382Z"
   },
   {
    "duration": 4,
    "start_time": "2022-09-12T15:34:14.395Z"
   },
   {
    "duration": 12,
    "start_time": "2022-09-12T15:34:14.402Z"
   },
   {
    "duration": 10,
    "start_time": "2022-09-12T15:34:14.415Z"
   },
   {
    "duration": 7,
    "start_time": "2022-09-12T15:34:14.426Z"
   },
   {
    "duration": 7,
    "start_time": "2022-09-12T15:34:14.435Z"
   },
   {
    "duration": 34,
    "start_time": "2022-09-12T15:34:14.443Z"
   },
   {
    "duration": 9,
    "start_time": "2022-09-12T15:34:14.479Z"
   },
   {
    "duration": 4,
    "start_time": "2022-09-12T15:34:14.490Z"
   },
   {
    "duration": 7,
    "start_time": "2022-09-12T15:34:14.495Z"
   },
   {
    "duration": 7,
    "start_time": "2022-09-12T15:34:14.503Z"
   },
   {
    "duration": 11,
    "start_time": "2022-09-12T15:34:14.512Z"
   },
   {
    "duration": 8,
    "start_time": "2022-09-12T15:34:14.525Z"
   },
   {
    "duration": 8,
    "start_time": "2022-09-12T15:34:14.534Z"
   },
   {
    "duration": 7,
    "start_time": "2022-09-12T15:34:14.543Z"
   },
   {
    "duration": 36,
    "start_time": "2022-09-12T15:34:14.552Z"
   },
   {
    "duration": 16,
    "start_time": "2022-09-12T15:34:14.590Z"
   },
   {
    "duration": 5,
    "start_time": "2022-09-12T15:34:14.608Z"
   },
   {
    "duration": 7,
    "start_time": "2022-09-12T15:34:14.615Z"
   },
   {
    "duration": 506,
    "start_time": "2022-09-12T15:34:14.623Z"
   },
   {
    "duration": 458,
    "start_time": "2022-09-12T15:35:36.534Z"
   },
   {
    "duration": 395,
    "start_time": "2022-09-12T15:35:39.726Z"
   },
   {
    "duration": 5,
    "start_time": "2022-09-12T15:35:51.586Z"
   },
   {
    "duration": 6,
    "start_time": "2022-09-12T15:36:52.726Z"
   },
   {
    "duration": 50,
    "start_time": "2022-09-12T15:37:00.794Z"
   },
   {
    "duration": 8,
    "start_time": "2022-09-12T15:37:12.708Z"
   },
   {
    "duration": 395,
    "start_time": "2022-09-12T15:39:24.618Z"
   },
   {
    "duration": 393,
    "start_time": "2022-09-12T15:39:27.206Z"
   },
   {
    "duration": 5,
    "start_time": "2022-09-12T15:39:28.026Z"
   },
   {
    "duration": 39,
    "start_time": "2022-09-12T15:41:00.705Z"
   },
   {
    "duration": 9,
    "start_time": "2022-09-12T15:41:11.835Z"
   },
   {
    "duration": 36,
    "start_time": "2022-09-12T15:41:18.386Z"
   },
   {
    "duration": 640,
    "start_time": "2022-09-12T15:41:30.545Z"
   },
   {
    "duration": 93,
    "start_time": "2022-09-12T15:41:31.187Z"
   },
   {
    "duration": 38,
    "start_time": "2022-09-12T15:41:31.282Z"
   },
   {
    "duration": 13,
    "start_time": "2022-09-12T15:41:31.322Z"
   },
   {
    "duration": 28,
    "start_time": "2022-09-12T15:41:31.337Z"
   },
   {
    "duration": 77,
    "start_time": "2022-09-12T15:41:31.367Z"
   },
   {
    "duration": 4,
    "start_time": "2022-09-12T15:41:31.445Z"
   },
   {
    "duration": 27,
    "start_time": "2022-09-12T15:41:31.450Z"
   },
   {
    "duration": 4,
    "start_time": "2022-09-12T15:41:31.479Z"
   },
   {
    "duration": 7,
    "start_time": "2022-09-12T15:41:31.485Z"
   },
   {
    "duration": 10,
    "start_time": "2022-09-12T15:41:31.493Z"
   },
   {
    "duration": 27,
    "start_time": "2022-09-12T15:41:31.504Z"
   },
   {
    "duration": 17,
    "start_time": "2022-09-12T15:41:31.532Z"
   },
   {
    "duration": 19,
    "start_time": "2022-09-12T15:41:31.552Z"
   },
   {
    "duration": 15,
    "start_time": "2022-09-12T15:41:31.573Z"
   },
   {
    "duration": 19,
    "start_time": "2022-09-12T15:41:31.589Z"
   },
   {
    "duration": 12,
    "start_time": "2022-09-12T15:41:31.609Z"
   },
   {
    "duration": 9,
    "start_time": "2022-09-12T15:41:31.622Z"
   },
   {
    "duration": 9,
    "start_time": "2022-09-12T15:41:31.632Z"
   },
   {
    "duration": 12,
    "start_time": "2022-09-12T15:41:31.642Z"
   },
   {
    "duration": 10,
    "start_time": "2022-09-12T15:41:31.656Z"
   },
   {
    "duration": 14,
    "start_time": "2022-09-12T15:41:31.668Z"
   },
   {
    "duration": 16,
    "start_time": "2022-09-12T15:41:31.683Z"
   },
   {
    "duration": 21,
    "start_time": "2022-09-12T15:41:31.700Z"
   },
   {
    "duration": 16,
    "start_time": "2022-09-12T15:41:31.722Z"
   },
   {
    "duration": 19,
    "start_time": "2022-09-12T15:41:31.739Z"
   },
   {
    "duration": 573,
    "start_time": "2022-09-12T15:41:31.759Z"
   },
   {
    "duration": 13,
    "start_time": "2022-09-12T15:41:32.334Z"
   },
   {
    "duration": 16,
    "start_time": "2022-09-12T15:41:32.349Z"
   },
   {
    "duration": 34,
    "start_time": "2022-09-12T15:41:32.377Z"
   },
   {
    "duration": 417,
    "start_time": "2022-09-12T15:41:38.065Z"
   },
   {
    "duration": 7,
    "start_time": "2022-09-12T15:41:40.294Z"
   },
   {
    "duration": 9,
    "start_time": "2022-09-12T15:41:41.334Z"
   },
   {
    "duration": 35,
    "start_time": "2022-09-12T15:41:43.165Z"
   },
   {
    "duration": 376,
    "start_time": "2022-09-12T15:42:11.826Z"
   },
   {
    "duration": 6,
    "start_time": "2022-09-12T15:42:13.066Z"
   },
   {
    "duration": 10,
    "start_time": "2022-09-12T15:42:15.547Z"
   },
   {
    "duration": 2,
    "start_time": "2022-09-12T15:42:35.966Z"
   },
   {
    "duration": 5,
    "start_time": "2022-09-12T15:42:51.885Z"
   },
   {
    "duration": 413,
    "start_time": "2022-09-12T15:55:02.547Z"
   },
   {
    "duration": 7,
    "start_time": "2022-09-12T15:55:03.975Z"
   },
   {
    "duration": 568,
    "start_time": "2022-09-12T15:55:10.135Z"
   },
   {
    "duration": 91,
    "start_time": "2022-09-12T15:55:10.705Z"
   },
   {
    "duration": 42,
    "start_time": "2022-09-12T15:55:10.798Z"
   },
   {
    "duration": 15,
    "start_time": "2022-09-12T15:55:10.843Z"
   },
   {
    "duration": 36,
    "start_time": "2022-09-12T15:55:10.861Z"
   },
   {
    "duration": 83,
    "start_time": "2022-09-12T15:55:10.899Z"
   },
   {
    "duration": 4,
    "start_time": "2022-09-12T15:55:10.984Z"
   },
   {
    "duration": 11,
    "start_time": "2022-09-12T15:55:10.990Z"
   },
   {
    "duration": 4,
    "start_time": "2022-09-12T15:55:11.002Z"
   },
   {
    "duration": 8,
    "start_time": "2022-09-12T15:55:11.008Z"
   },
   {
    "duration": 9,
    "start_time": "2022-09-12T15:55:11.018Z"
   },
   {
    "duration": 7,
    "start_time": "2022-09-12T15:55:11.028Z"
   },
   {
    "duration": 40,
    "start_time": "2022-09-12T15:55:11.037Z"
   },
   {
    "duration": 6,
    "start_time": "2022-09-12T15:55:11.081Z"
   },
   {
    "duration": 7,
    "start_time": "2022-09-12T15:55:11.088Z"
   },
   {
    "duration": 6,
    "start_time": "2022-09-12T15:55:11.097Z"
   },
   {
    "duration": 6,
    "start_time": "2022-09-12T15:55:11.104Z"
   },
   {
    "duration": 5,
    "start_time": "2022-09-12T15:55:11.111Z"
   },
   {
    "duration": 5,
    "start_time": "2022-09-12T15:55:11.118Z"
   },
   {
    "duration": 8,
    "start_time": "2022-09-12T15:55:11.125Z"
   },
   {
    "duration": 11,
    "start_time": "2022-09-12T15:55:11.135Z"
   },
   {
    "duration": 5,
    "start_time": "2022-09-12T15:55:11.176Z"
   },
   {
    "duration": 10,
    "start_time": "2022-09-12T15:55:11.183Z"
   },
   {
    "duration": 14,
    "start_time": "2022-09-12T15:55:11.194Z"
   },
   {
    "duration": 5,
    "start_time": "2022-09-12T15:55:11.209Z"
   },
   {
    "duration": 9,
    "start_time": "2022-09-12T15:55:11.215Z"
   },
   {
    "duration": 6,
    "start_time": "2022-09-12T15:55:11.225Z"
   },
   {
    "duration": 608,
    "start_time": "2022-09-12T15:55:11.232Z"
   },
   {
    "duration": 6,
    "start_time": "2022-09-12T15:55:11.841Z"
   },
   {
    "duration": 6,
    "start_time": "2022-09-12T16:06:42.251Z"
   },
   {
    "duration": 68,
    "start_time": "2022-09-12T16:11:04.226Z"
   },
   {
    "duration": 8,
    "start_time": "2022-09-12T16:11:11.027Z"
   },
   {
    "duration": 6,
    "start_time": "2022-09-12T16:11:15.056Z"
   },
   {
    "duration": 1052,
    "start_time": "2022-09-12T16:14:11.667Z"
   },
   {
    "duration": 10,
    "start_time": "2022-09-12T16:14:39.255Z"
   },
   {
    "duration": 10,
    "start_time": "2022-09-12T16:14:41.621Z"
   },
   {
    "duration": 7,
    "start_time": "2022-09-12T16:14:51.091Z"
   },
   {
    "duration": 9,
    "start_time": "2022-09-12T16:15:08.986Z"
   },
   {
    "duration": 6,
    "start_time": "2022-09-12T16:15:30.104Z"
   },
   {
    "duration": 4,
    "start_time": "2022-09-12T16:20:12.096Z"
   },
   {
    "duration": 4,
    "start_time": "2022-09-12T16:20:14.986Z"
   },
   {
    "duration": 7,
    "start_time": "2022-09-12T16:20:28.386Z"
   },
   {
    "duration": 4,
    "start_time": "2022-09-12T16:20:44.296Z"
   },
   {
    "duration": 7,
    "start_time": "2022-09-12T16:20:44.876Z"
   },
   {
    "duration": 4,
    "start_time": "2022-09-12T16:23:15.726Z"
   },
   {
    "duration": 7,
    "start_time": "2022-09-12T16:23:18.266Z"
   },
   {
    "duration": 5,
    "start_time": "2022-09-12T16:23:34.086Z"
   },
   {
    "duration": 8,
    "start_time": "2022-09-12T16:23:34.990Z"
   },
   {
    "duration": 5,
    "start_time": "2022-09-12T16:25:34.546Z"
   },
   {
    "duration": 7,
    "start_time": "2022-09-12T16:25:36.266Z"
   },
   {
    "duration": 6,
    "start_time": "2022-09-12T16:26:40.347Z"
   },
   {
    "duration": 8,
    "start_time": "2022-09-12T16:26:42.146Z"
   },
   {
    "duration": 5,
    "start_time": "2022-09-12T16:27:04.766Z"
   },
   {
    "duration": 7,
    "start_time": "2022-09-12T16:27:06.754Z"
   },
   {
    "duration": 7,
    "start_time": "2022-09-12T16:32:00.618Z"
   },
   {
    "duration": 5,
    "start_time": "2022-09-12T16:32:11.556Z"
   },
   {
    "duration": 7,
    "start_time": "2022-09-12T16:32:13.906Z"
   },
   {
    "duration": 46,
    "start_time": "2022-09-12T16:39:38.354Z"
   },
   {
    "duration": 4,
    "start_time": "2022-09-12T16:39:45.566Z"
   },
   {
    "duration": 57,
    "start_time": "2022-09-12T16:41:37.507Z"
   },
   {
    "duration": 7,
    "start_time": "2022-09-12T16:41:54.705Z"
   },
   {
    "duration": 16,
    "start_time": "2022-09-12T16:42:01.646Z"
   },
   {
    "duration": 16,
    "start_time": "2022-09-12T16:42:30.065Z"
   },
   {
    "duration": 15,
    "start_time": "2022-09-12T16:42:37.561Z"
   },
   {
    "duration": 14,
    "start_time": "2022-09-12T16:42:42.985Z"
   },
   {
    "duration": 17,
    "start_time": "2022-09-12T16:43:08.294Z"
   },
   {
    "duration": 16,
    "start_time": "2022-09-12T16:43:16.128Z"
   },
   {
    "duration": 4,
    "start_time": "2022-09-12T16:43:25.545Z"
   },
   {
    "duration": 5,
    "start_time": "2022-09-12T16:50:27.336Z"
   },
   {
    "duration": 23,
    "start_time": "2022-09-12T16:50:39.030Z"
   },
   {
    "duration": 5,
    "start_time": "2022-09-12T16:50:58.107Z"
   },
   {
    "duration": 10,
    "start_time": "2022-09-12T16:52:40.185Z"
   },
   {
    "duration": 7,
    "start_time": "2022-09-12T16:52:56.156Z"
   },
   {
    "duration": 7,
    "start_time": "2022-09-12T16:53:16.033Z"
   },
   {
    "duration": 12,
    "start_time": "2022-09-12T16:54:26.045Z"
   },
   {
    "duration": 9,
    "start_time": "2022-09-12T16:54:33.885Z"
   },
   {
    "duration": 9,
    "start_time": "2022-09-12T16:54:45.453Z"
   },
   {
    "duration": 13,
    "start_time": "2022-09-12T16:55:12.253Z"
   },
   {
    "duration": 9,
    "start_time": "2022-09-12T16:55:25.933Z"
   },
   {
    "duration": 20,
    "start_time": "2022-09-12T16:55:31.389Z"
   },
   {
    "duration": 10,
    "start_time": "2022-09-12T16:56:39.853Z"
   },
   {
    "duration": 6,
    "start_time": "2022-09-12T16:56:40.895Z"
   },
   {
    "duration": 7,
    "start_time": "2022-09-12T16:57:27.962Z"
   },
   {
    "duration": 17,
    "start_time": "2022-09-12T16:58:03.646Z"
   },
   {
    "duration": 15,
    "start_time": "2022-09-12T16:58:07.703Z"
   },
   {
    "duration": 8,
    "start_time": "2022-09-12T16:58:18.284Z"
   },
   {
    "duration": 6,
    "start_time": "2022-09-12T16:59:03.032Z"
   },
   {
    "duration": 8,
    "start_time": "2022-09-12T16:59:30.619Z"
   },
   {
    "duration": 5,
    "start_time": "2022-09-12T16:59:37.962Z"
   },
   {
    "duration": 5,
    "start_time": "2022-09-12T16:59:42.163Z"
   },
   {
    "duration": 10,
    "start_time": "2022-09-12T17:03:37.207Z"
   },
   {
    "duration": 10,
    "start_time": "2022-09-12T17:03:52.191Z"
   },
   {
    "duration": 7,
    "start_time": "2022-09-12T17:08:50.462Z"
   },
   {
    "duration": 5,
    "start_time": "2022-09-12T17:09:02.862Z"
   },
   {
    "duration": 8,
    "start_time": "2022-09-12T17:09:29.671Z"
   },
   {
    "duration": 6,
    "start_time": "2022-09-12T17:09:36.893Z"
   },
   {
    "duration": 8,
    "start_time": "2022-09-12T17:09:38.246Z"
   },
   {
    "duration": 23,
    "start_time": "2022-09-12T17:32:41.261Z"
   },
   {
    "duration": 8,
    "start_time": "2022-09-12T17:32:41.869Z"
   },
   {
    "duration": 7,
    "start_time": "2022-09-12T17:32:44.722Z"
   },
   {
    "duration": 11,
    "start_time": "2022-09-12T17:32:45.361Z"
   },
   {
    "duration": 6,
    "start_time": "2022-09-12T17:32:47.981Z"
   },
   {
    "duration": 4,
    "start_time": "2022-09-12T17:32:56.801Z"
   },
   {
    "duration": 8,
    "start_time": "2022-09-12T17:33:01.181Z"
   },
   {
    "duration": 3,
    "start_time": "2022-09-12T17:33:46.821Z"
   },
   {
    "duration": 4,
    "start_time": "2022-09-12T17:33:47.693Z"
   },
   {
    "duration": 14,
    "start_time": "2022-09-12T17:33:48.565Z"
   },
   {
    "duration": 5,
    "start_time": "2022-09-12T17:33:49.237Z"
   },
   {
    "duration": 3,
    "start_time": "2022-09-12T17:33:49.749Z"
   },
   {
    "duration": 4,
    "start_time": "2022-09-12T17:33:50.513Z"
   },
   {
    "duration": 4,
    "start_time": "2022-09-12T17:33:51.069Z"
   },
   {
    "duration": 618,
    "start_time": "2022-09-12T17:33:56.802Z"
   },
   {
    "duration": 100,
    "start_time": "2022-09-12T17:33:57.421Z"
   },
   {
    "duration": 55,
    "start_time": "2022-09-12T17:33:57.523Z"
   },
   {
    "duration": 17,
    "start_time": "2022-09-12T17:33:57.580Z"
   },
   {
    "duration": 24,
    "start_time": "2022-09-12T17:33:57.600Z"
   },
   {
    "duration": 5,
    "start_time": "2022-09-12T17:33:57.626Z"
   },
   {
    "duration": 11,
    "start_time": "2022-09-12T17:33:57.635Z"
   },
   {
    "duration": 17,
    "start_time": "2022-09-12T17:33:57.677Z"
   },
   {
    "duration": 12,
    "start_time": "2022-09-12T17:33:57.697Z"
   },
   {
    "duration": 7,
    "start_time": "2022-09-12T17:33:57.711Z"
   },
   {
    "duration": 14,
    "start_time": "2022-09-12T17:33:57.719Z"
   },
   {
    "duration": 5,
    "start_time": "2022-09-12T17:33:57.734Z"
   },
   {
    "duration": 6,
    "start_time": "2022-09-12T17:33:57.740Z"
   },
   {
    "duration": 9,
    "start_time": "2022-09-12T17:33:57.777Z"
   },
   {
    "duration": 21,
    "start_time": "2022-09-12T17:33:57.788Z"
   },
   {
    "duration": 9,
    "start_time": "2022-09-12T17:33:57.811Z"
   },
   {
    "duration": 18,
    "start_time": "2022-09-12T17:33:57.822Z"
   },
   {
    "duration": 10,
    "start_time": "2022-09-12T17:33:57.842Z"
   },
   {
    "duration": 4,
    "start_time": "2022-09-12T17:33:57.854Z"
   },
   {
    "duration": 10,
    "start_time": "2022-09-12T17:33:57.860Z"
   },
   {
    "duration": 6,
    "start_time": "2022-09-12T17:33:57.872Z"
   },
   {
    "duration": 9,
    "start_time": "2022-09-12T17:33:57.880Z"
   },
   {
    "duration": 10,
    "start_time": "2022-09-12T17:33:57.892Z"
   },
   {
    "duration": 8,
    "start_time": "2022-09-12T17:33:57.904Z"
   },
   {
    "duration": 6,
    "start_time": "2022-09-12T17:33:57.914Z"
   },
   {
    "duration": 12,
    "start_time": "2022-09-12T17:33:57.921Z"
   },
   {
    "duration": 17,
    "start_time": "2022-09-12T17:33:57.934Z"
   },
   {
    "duration": 29,
    "start_time": "2022-09-12T17:33:57.953Z"
   },
   {
    "duration": 11,
    "start_time": "2022-09-12T17:33:57.984Z"
   },
   {
    "duration": 11,
    "start_time": "2022-09-12T17:33:57.996Z"
   },
   {
    "duration": 7,
    "start_time": "2022-09-12T17:33:58.009Z"
   },
   {
    "duration": 7,
    "start_time": "2022-09-12T17:33:58.017Z"
   },
   {
    "duration": 12,
    "start_time": "2022-09-12T17:33:58.025Z"
   },
   {
    "duration": 8,
    "start_time": "2022-09-12T17:33:58.038Z"
   },
   {
    "duration": 49,
    "start_time": "2022-09-13T17:09:12.860Z"
   },
   {
    "duration": 7,
    "start_time": "2022-09-13T17:09:24.320Z"
   },
   {
    "duration": 799,
    "start_time": "2022-09-13T17:09:31.125Z"
   },
   {
    "duration": 163,
    "start_time": "2022-09-13T17:09:31.927Z"
   },
   {
    "duration": 40,
    "start_time": "2022-09-13T17:09:32.091Z"
   },
   {
    "duration": 14,
    "start_time": "2022-09-13T17:09:32.133Z"
   },
   {
    "duration": 31,
    "start_time": "2022-09-13T17:09:32.149Z"
   },
   {
    "duration": 12,
    "start_time": "2022-09-13T17:09:32.181Z"
   },
   {
    "duration": 19,
    "start_time": "2022-09-13T17:09:32.195Z"
   },
   {
    "duration": 27,
    "start_time": "2022-09-13T17:09:32.215Z"
   },
   {
    "duration": 30,
    "start_time": "2022-09-13T17:09:32.244Z"
   },
   {
    "duration": 13,
    "start_time": "2022-09-13T17:09:32.276Z"
   },
   {
    "duration": 17,
    "start_time": "2022-09-13T17:09:32.291Z"
   },
   {
    "duration": 15,
    "start_time": "2022-09-13T17:09:32.310Z"
   },
   {
    "duration": 29,
    "start_time": "2022-09-13T17:09:32.326Z"
   },
   {
    "duration": 28,
    "start_time": "2022-09-13T17:09:32.358Z"
   },
   {
    "duration": 41,
    "start_time": "2022-09-13T17:09:32.388Z"
   },
   {
    "duration": 33,
    "start_time": "2022-09-13T17:09:32.431Z"
   },
   {
    "duration": 41,
    "start_time": "2022-09-13T17:09:32.466Z"
   },
   {
    "duration": 28,
    "start_time": "2022-09-13T17:09:32.509Z"
   },
   {
    "duration": 20,
    "start_time": "2022-09-13T17:09:32.539Z"
   },
   {
    "duration": 33,
    "start_time": "2022-09-13T17:09:32.561Z"
   },
   {
    "duration": 26,
    "start_time": "2022-09-13T17:09:32.596Z"
   },
   {
    "duration": 22,
    "start_time": "2022-09-13T17:09:32.624Z"
   },
   {
    "duration": 49,
    "start_time": "2022-09-13T17:09:32.648Z"
   },
   {
    "duration": 5,
    "start_time": "2022-09-13T17:09:32.698Z"
   },
   {
    "duration": 24,
    "start_time": "2022-09-13T17:09:32.704Z"
   },
   {
    "duration": 31,
    "start_time": "2022-09-13T17:09:32.730Z"
   },
   {
    "duration": 14,
    "start_time": "2022-09-13T17:09:32.763Z"
   },
   {
    "duration": 28,
    "start_time": "2022-09-13T17:09:32.778Z"
   },
   {
    "duration": 30,
    "start_time": "2022-09-13T17:09:32.807Z"
   },
   {
    "duration": 16,
    "start_time": "2022-09-13T17:09:32.839Z"
   },
   {
    "duration": 24,
    "start_time": "2022-09-13T17:09:32.857Z"
   },
   {
    "duration": 15,
    "start_time": "2022-09-13T17:09:32.883Z"
   },
   {
    "duration": 22,
    "start_time": "2022-09-13T17:09:32.900Z"
   },
   {
    "duration": 25,
    "start_time": "2022-09-13T17:09:32.923Z"
   },
   {
    "duration": 19,
    "start_time": "2022-09-13T17:09:32.950Z"
   },
   {
    "duration": 27,
    "start_time": "2022-09-13T17:09:32.970Z"
   },
   {
    "duration": 39,
    "start_time": "2022-09-13T17:09:32.999Z"
   },
   {
    "duration": 23,
    "start_time": "2022-09-13T17:09:33.040Z"
   },
   {
    "duration": 25,
    "start_time": "2022-09-13T17:09:33.065Z"
   },
   {
    "duration": 26,
    "start_time": "2022-09-13T17:09:33.092Z"
   },
   {
    "duration": 49,
    "start_time": "2022-09-13T17:09:33.122Z"
   },
   {
    "duration": 7,
    "start_time": "2022-09-13T17:09:33.173Z"
   },
   {
    "duration": 314,
    "start_time": "2022-09-13T17:09:33.182Z"
   },
   {
    "duration": 21,
    "start_time": "2022-09-13T17:09:33.498Z"
   },
   {
    "duration": 26,
    "start_time": "2022-09-13T17:09:33.520Z"
   },
   {
    "duration": 35,
    "start_time": "2022-09-13T17:09:33.547Z"
   },
   {
    "duration": 11,
    "start_time": "2022-09-13T17:09:33.584Z"
   },
   {
    "duration": 24,
    "start_time": "2022-09-13T17:09:33.596Z"
   },
   {
    "duration": 11,
    "start_time": "2022-09-13T17:09:33.622Z"
   },
   {
    "duration": 25,
    "start_time": "2022-09-13T17:09:33.635Z"
   },
   {
    "duration": 212,
    "start_time": "2022-09-13T17:09:33.662Z"
   },
   {
    "duration": 249,
    "start_time": "2022-09-13T17:09:33.876Z"
   },
   {
    "duration": 188,
    "start_time": "2022-09-13T17:09:34.126Z"
   },
   {
    "duration": 208,
    "start_time": "2022-09-13T17:09:34.316Z"
   },
   {
    "duration": 220,
    "start_time": "2022-09-13T17:09:34.526Z"
   },
   {
    "duration": 174,
    "start_time": "2022-09-13T17:09:34.747Z"
   },
   {
    "duration": 190,
    "start_time": "2022-09-13T17:09:34.922Z"
   },
   {
    "duration": 197,
    "start_time": "2022-09-13T17:09:35.114Z"
   },
   {
    "duration": 186,
    "start_time": "2022-09-13T17:09:35.312Z"
   },
   {
    "duration": 190,
    "start_time": "2022-09-13T17:09:35.499Z"
   },
   {
    "duration": 179,
    "start_time": "2022-09-13T17:09:35.690Z"
   },
   {
    "duration": 179,
    "start_time": "2022-09-13T17:09:35.870Z"
   },
   {
    "duration": 236,
    "start_time": "2022-09-13T17:09:36.050Z"
   },
   {
    "duration": 200,
    "start_time": "2022-09-13T17:13:19.241Z"
   },
   {
    "duration": 196,
    "start_time": "2022-09-13T17:13:31.437Z"
   },
   {
    "duration": 205,
    "start_time": "2022-09-13T17:13:58.489Z"
   },
   {
    "duration": 172,
    "start_time": "2022-09-13T18:02:50.752Z"
   },
   {
    "duration": 166,
    "start_time": "2022-09-13T18:08:28.300Z"
   },
   {
    "duration": 145,
    "start_time": "2022-09-13T18:11:34.720Z"
   },
   {
    "duration": 167,
    "start_time": "2022-09-13T18:11:40.319Z"
   },
   {
    "duration": 179,
    "start_time": "2022-09-13T18:13:23.948Z"
   },
   {
    "duration": 158,
    "start_time": "2022-09-13T18:13:37.823Z"
   },
   {
    "duration": 166,
    "start_time": "2022-09-13T18:13:45.439Z"
   },
   {
    "duration": 258,
    "start_time": "2022-09-13T18:13:53.080Z"
   },
   {
    "duration": 168,
    "start_time": "2022-09-13T18:17:21.591Z"
   },
   {
    "duration": 170,
    "start_time": "2022-09-13T18:17:45.657Z"
   },
   {
    "duration": 137,
    "start_time": "2022-09-13T18:17:54.839Z"
   },
   {
    "duration": 185,
    "start_time": "2022-09-13T18:18:05.337Z"
   },
   {
    "duration": 164,
    "start_time": "2022-09-13T18:18:16.879Z"
   },
   {
    "duration": 157,
    "start_time": "2022-09-13T18:18:31.387Z"
   },
   {
    "duration": 163,
    "start_time": "2022-09-13T18:18:41.460Z"
   },
   {
    "duration": 165,
    "start_time": "2022-09-13T18:19:54.919Z"
   },
   {
    "duration": 181,
    "start_time": "2022-09-13T18:20:13.279Z"
   },
   {
    "duration": 47,
    "start_time": "2022-09-14T09:45:44.261Z"
   },
   {
    "duration": 745,
    "start_time": "2022-09-14T09:45:50.044Z"
   },
   {
    "duration": 330,
    "start_time": "2022-09-14T09:45:50.791Z"
   },
   {
    "duration": 42,
    "start_time": "2022-09-14T09:45:51.123Z"
   },
   {
    "duration": 20,
    "start_time": "2022-09-14T09:45:51.167Z"
   },
   {
    "duration": 32,
    "start_time": "2022-09-14T09:45:51.189Z"
   },
   {
    "duration": 7,
    "start_time": "2022-09-14T09:45:51.222Z"
   },
   {
    "duration": 8,
    "start_time": "2022-09-14T09:45:51.231Z"
   },
   {
    "duration": 17,
    "start_time": "2022-09-14T09:45:51.241Z"
   },
   {
    "duration": 9,
    "start_time": "2022-09-14T09:45:51.259Z"
   },
   {
    "duration": 30,
    "start_time": "2022-09-14T09:45:51.270Z"
   },
   {
    "duration": 9,
    "start_time": "2022-09-14T09:45:51.302Z"
   },
   {
    "duration": 4,
    "start_time": "2022-09-14T09:45:51.312Z"
   },
   {
    "duration": 6,
    "start_time": "2022-09-14T09:45:51.318Z"
   },
   {
    "duration": 10,
    "start_time": "2022-09-14T09:45:51.325Z"
   },
   {
    "duration": 8,
    "start_time": "2022-09-14T09:45:51.336Z"
   },
   {
    "duration": 9,
    "start_time": "2022-09-14T09:45:51.345Z"
   },
   {
    "duration": 11,
    "start_time": "2022-09-14T09:45:51.356Z"
   },
   {
    "duration": 37,
    "start_time": "2022-09-14T09:45:51.369Z"
   },
   {
    "duration": 4,
    "start_time": "2022-09-14T09:45:51.410Z"
   },
   {
    "duration": 11,
    "start_time": "2022-09-14T09:45:51.416Z"
   },
   {
    "duration": 5,
    "start_time": "2022-09-14T09:45:51.429Z"
   },
   {
    "duration": 10,
    "start_time": "2022-09-14T09:45:51.436Z"
   },
   {
    "duration": 16,
    "start_time": "2022-09-14T09:45:51.448Z"
   },
   {
    "duration": 4,
    "start_time": "2022-09-14T09:45:51.465Z"
   },
   {
    "duration": 6,
    "start_time": "2022-09-14T09:45:51.500Z"
   },
   {
    "duration": 9,
    "start_time": "2022-09-14T09:45:51.507Z"
   },
   {
    "duration": 10,
    "start_time": "2022-09-14T09:45:51.520Z"
   },
   {
    "duration": 9,
    "start_time": "2022-09-14T09:45:51.534Z"
   },
   {
    "duration": 8,
    "start_time": "2022-09-14T09:45:51.545Z"
   },
   {
    "duration": 9,
    "start_time": "2022-09-14T09:45:51.554Z"
   },
   {
    "duration": 7,
    "start_time": "2022-09-14T09:45:51.565Z"
   },
   {
    "duration": 27,
    "start_time": "2022-09-14T09:45:51.573Z"
   },
   {
    "duration": 7,
    "start_time": "2022-09-14T09:45:51.602Z"
   },
   {
    "duration": 17,
    "start_time": "2022-09-14T09:45:51.611Z"
   },
   {
    "duration": 4,
    "start_time": "2022-09-14T09:45:51.630Z"
   },
   {
    "duration": 27,
    "start_time": "2022-09-14T09:45:51.636Z"
   },
   {
    "duration": 43,
    "start_time": "2022-09-14T09:45:51.666Z"
   },
   {
    "duration": 8,
    "start_time": "2022-09-14T09:45:51.711Z"
   },
   {
    "duration": 8,
    "start_time": "2022-09-14T09:45:51.720Z"
   },
   {
    "duration": 5,
    "start_time": "2022-09-14T09:45:51.729Z"
   },
   {
    "duration": 20,
    "start_time": "2022-09-14T09:45:51.736Z"
   },
   {
    "duration": 3,
    "start_time": "2022-09-14T09:45:51.758Z"
   },
   {
    "duration": 293,
    "start_time": "2022-09-14T09:45:51.763Z"
   },
   {
    "duration": 20,
    "start_time": "2022-09-14T09:45:52.058Z"
   },
   {
    "duration": 5,
    "start_time": "2022-09-14T09:45:52.080Z"
   },
   {
    "duration": 34,
    "start_time": "2022-09-14T09:45:52.086Z"
   },
   {
    "duration": 5,
    "start_time": "2022-09-14T09:45:52.121Z"
   },
   {
    "duration": 23,
    "start_time": "2022-09-14T09:45:52.127Z"
   },
   {
    "duration": 7,
    "start_time": "2022-09-14T09:45:52.152Z"
   },
   {
    "duration": 43,
    "start_time": "2022-09-14T09:45:52.161Z"
   },
   {
    "duration": 261,
    "start_time": "2022-09-14T09:45:52.206Z"
   },
   {
    "duration": 204,
    "start_time": "2022-09-14T09:45:52.468Z"
   },
   {
    "duration": 189,
    "start_time": "2022-09-14T09:45:52.674Z"
   },
   {
    "duration": 198,
    "start_time": "2022-09-14T09:45:52.864Z"
   },
   {
    "duration": 187,
    "start_time": "2022-09-14T09:45:53.064Z"
   },
   {
    "duration": 182,
    "start_time": "2022-09-14T09:45:53.252Z"
   },
   {
    "duration": 194,
    "start_time": "2022-09-14T09:45:53.436Z"
   },
   {
    "duration": 192,
    "start_time": "2022-09-14T09:45:53.631Z"
   },
   {
    "duration": 250,
    "start_time": "2022-09-14T09:45:53.826Z"
   },
   {
    "duration": 200,
    "start_time": "2022-09-14T09:45:54.078Z"
   },
   {
    "duration": 218,
    "start_time": "2022-09-14T09:45:54.279Z"
   },
   {
    "duration": 276,
    "start_time": "2022-09-14T09:45:54.500Z"
   },
   {
    "duration": 163,
    "start_time": "2022-09-14T09:45:54.778Z"
   },
   {
    "duration": 161,
    "start_time": "2022-09-14T09:45:54.943Z"
   },
   {
    "duration": 3,
    "start_time": "2022-09-14T09:46:12.401Z"
   },
   {
    "duration": 7,
    "start_time": "2022-09-14T09:46:48.088Z"
   },
   {
    "duration": 5,
    "start_time": "2022-09-14T09:49:35.273Z"
   },
   {
    "duration": 5,
    "start_time": "2022-09-14T09:49:56.673Z"
   },
   {
    "duration": 6,
    "start_time": "2022-09-14T09:49:57.432Z"
   },
   {
    "duration": 10,
    "start_time": "2022-09-14T09:49:59.714Z"
   },
   {
    "duration": 582,
    "start_time": "2022-09-14T09:50:10.033Z"
   },
   {
    "duration": 88,
    "start_time": "2022-09-14T09:50:10.617Z"
   },
   {
    "duration": 39,
    "start_time": "2022-09-14T09:50:10.707Z"
   },
   {
    "duration": 14,
    "start_time": "2022-09-14T09:50:10.748Z"
   },
   {
    "duration": 41,
    "start_time": "2022-09-14T09:50:10.763Z"
   },
   {
    "duration": 6,
    "start_time": "2022-09-14T09:50:10.806Z"
   },
   {
    "duration": 10,
    "start_time": "2022-09-14T09:50:10.814Z"
   },
   {
    "duration": 11,
    "start_time": "2022-09-14T09:50:10.827Z"
   },
   {
    "duration": 8,
    "start_time": "2022-09-14T09:50:10.840Z"
   },
   {
    "duration": 4,
    "start_time": "2022-09-14T09:50:10.851Z"
   },
   {
    "duration": 10,
    "start_time": "2022-09-14T09:50:10.857Z"
   },
   {
    "duration": 35,
    "start_time": "2022-09-14T09:50:10.869Z"
   },
   {
    "duration": 8,
    "start_time": "2022-09-14T09:50:10.906Z"
   },
   {
    "duration": 9,
    "start_time": "2022-09-14T09:50:10.915Z"
   },
   {
    "duration": 8,
    "start_time": "2022-09-14T09:50:10.925Z"
   },
   {
    "duration": 8,
    "start_time": "2022-09-14T09:50:10.935Z"
   },
   {
    "duration": 6,
    "start_time": "2022-09-14T09:50:10.945Z"
   },
   {
    "duration": 12,
    "start_time": "2022-09-14T09:50:10.953Z"
   },
   {
    "duration": 4,
    "start_time": "2022-09-14T09:50:10.967Z"
   },
   {
    "duration": 32,
    "start_time": "2022-09-14T09:50:10.973Z"
   },
   {
    "duration": 7,
    "start_time": "2022-09-14T09:50:11.007Z"
   },
   {
    "duration": 20,
    "start_time": "2022-09-14T09:50:11.016Z"
   },
   {
    "duration": 21,
    "start_time": "2022-09-14T09:50:11.038Z"
   },
   {
    "duration": 5,
    "start_time": "2022-09-14T09:50:11.060Z"
   },
   {
    "duration": 6,
    "start_time": "2022-09-14T09:50:11.067Z"
   },
   {
    "duration": 25,
    "start_time": "2022-09-14T09:50:11.075Z"
   },
   {
    "duration": 5,
    "start_time": "2022-09-14T09:50:11.102Z"
   },
   {
    "duration": 7,
    "start_time": "2022-09-14T09:50:11.110Z"
   },
   {
    "duration": 8,
    "start_time": "2022-09-14T09:50:11.119Z"
   },
   {
    "duration": 8,
    "start_time": "2022-09-14T09:50:11.128Z"
   },
   {
    "duration": 4,
    "start_time": "2022-09-14T09:50:11.137Z"
   },
   {
    "duration": 5,
    "start_time": "2022-09-14T09:50:11.144Z"
   },
   {
    "duration": 4,
    "start_time": "2022-09-14T09:50:11.151Z"
   },
   {
    "duration": 5,
    "start_time": "2022-09-14T09:50:11.157Z"
   },
   {
    "duration": 42,
    "start_time": "2022-09-14T09:50:11.164Z"
   },
   {
    "duration": 14,
    "start_time": "2022-09-14T09:50:11.208Z"
   },
   {
    "duration": 4,
    "start_time": "2022-09-14T09:50:11.223Z"
   },
   {
    "duration": 7,
    "start_time": "2022-09-14T09:50:11.228Z"
   },
   {
    "duration": 25,
    "start_time": "2022-09-14T09:50:11.236Z"
   },
   {
    "duration": 7,
    "start_time": "2022-09-14T09:50:11.262Z"
   },
   {
    "duration": 30,
    "start_time": "2022-09-14T09:50:11.270Z"
   },
   {
    "duration": 7,
    "start_time": "2022-09-14T09:50:11.302Z"
   },
   {
    "duration": 20,
    "start_time": "2022-09-14T09:50:11.311Z"
   },
   {
    "duration": 3,
    "start_time": "2022-09-14T09:50:11.332Z"
   },
   {
    "duration": 305,
    "start_time": "2022-09-14T09:50:11.337Z"
   },
   {
    "duration": 23,
    "start_time": "2022-09-14T09:50:11.644Z"
   },
   {
    "duration": 9,
    "start_time": "2022-09-14T09:50:11.668Z"
   },
   {
    "duration": 36,
    "start_time": "2022-09-14T09:50:11.679Z"
   },
   {
    "duration": 13,
    "start_time": "2022-09-14T09:50:11.716Z"
   },
   {
    "duration": 32,
    "start_time": "2022-09-14T09:50:11.730Z"
   },
   {
    "duration": 6,
    "start_time": "2022-09-14T09:50:11.764Z"
   },
   {
    "duration": 24,
    "start_time": "2022-09-14T09:50:11.772Z"
   },
   {
    "duration": 247,
    "start_time": "2022-09-14T09:50:11.797Z"
   },
   {
    "duration": 257,
    "start_time": "2022-09-14T09:50:12.045Z"
   },
   {
    "duration": 200,
    "start_time": "2022-09-14T09:50:12.303Z"
   },
   {
    "duration": 230,
    "start_time": "2022-09-14T09:50:12.505Z"
   },
   {
    "duration": 196,
    "start_time": "2022-09-14T09:50:12.737Z"
   },
   {
    "duration": 188,
    "start_time": "2022-09-14T09:50:12.935Z"
   },
   {
    "duration": 174,
    "start_time": "2022-09-14T09:50:13.126Z"
   },
   {
    "duration": 203,
    "start_time": "2022-09-14T09:50:13.302Z"
   },
   {
    "duration": 198,
    "start_time": "2022-09-14T09:50:13.507Z"
   },
   {
    "duration": 177,
    "start_time": "2022-09-14T09:50:13.707Z"
   },
   {
    "duration": 186,
    "start_time": "2022-09-14T09:50:13.886Z"
   },
   {
    "duration": 218,
    "start_time": "2022-09-14T09:50:14.074Z"
   },
   {
    "duration": 341,
    "start_time": "2022-09-14T09:50:14.294Z"
   },
   {
    "duration": 185,
    "start_time": "2022-09-14T09:50:14.637Z"
   },
   {
    "duration": 84,
    "start_time": "2022-09-14T09:53:42.568Z"
   },
   {
    "duration": 10,
    "start_time": "2022-09-14T09:57:11.239Z"
   },
   {
    "duration": 11,
    "start_time": "2022-09-14T09:57:13.787Z"
   },
   {
    "duration": 17,
    "start_time": "2022-09-14T09:57:24.632Z"
   },
   {
    "duration": 18,
    "start_time": "2022-09-14T09:57:35.999Z"
   },
   {
    "duration": 8,
    "start_time": "2022-09-14T10:00:46.867Z"
   },
   {
    "duration": 8,
    "start_time": "2022-09-14T10:00:59.160Z"
   },
   {
    "duration": 8,
    "start_time": "2022-09-14T10:02:08.528Z"
   },
   {
    "duration": 11,
    "start_time": "2022-09-14T10:02:29.166Z"
   },
   {
    "duration": 11,
    "start_time": "2022-09-14T10:03:16.694Z"
   },
   {
    "duration": 25,
    "start_time": "2022-09-14T10:03:57.258Z"
   },
   {
    "duration": 23,
    "start_time": "2022-09-14T10:04:07.762Z"
   },
   {
    "duration": 9,
    "start_time": "2022-09-14T10:04:18.369Z"
   },
   {
    "duration": 12,
    "start_time": "2022-09-14T10:04:23.222Z"
   },
   {
    "duration": 10,
    "start_time": "2022-09-14T10:04:32.177Z"
   },
   {
    "duration": 9,
    "start_time": "2022-09-14T10:05:17.462Z"
   },
   {
    "duration": 13,
    "start_time": "2022-09-14T10:06:01.158Z"
   },
   {
    "duration": 14,
    "start_time": "2022-09-14T10:06:14.957Z"
   },
   {
    "duration": 29,
    "start_time": "2022-09-14T10:06:24.522Z"
   },
   {
    "duration": 7,
    "start_time": "2022-09-14T10:06:35.958Z"
   },
   {
    "duration": 7,
    "start_time": "2022-09-14T10:06:42.162Z"
   },
   {
    "duration": 199,
    "start_time": "2022-09-14T10:09:35.958Z"
   },
   {
    "duration": 204,
    "start_time": "2022-09-14T10:20:39.557Z"
   },
   {
    "duration": 186,
    "start_time": "2022-09-14T10:20:44.530Z"
   },
   {
    "duration": 139,
    "start_time": "2022-09-14T10:20:57.957Z"
   },
   {
    "duration": 174,
    "start_time": "2022-09-14T10:21:19.221Z"
   },
   {
    "duration": 176,
    "start_time": "2022-09-14T10:21:24.612Z"
   },
   {
    "duration": 104,
    "start_time": "2022-09-14T10:34:38.117Z"
   },
   {
    "duration": 633,
    "start_time": "2022-09-14T10:34:50.336Z"
   },
   {
    "duration": 484,
    "start_time": "2022-09-14T10:34:53.507Z"
   },
   {
    "duration": 107,
    "start_time": "2022-09-14T10:36:39.436Z"
   },
   {
    "duration": 479,
    "start_time": "2022-09-14T10:37:28.665Z"
   },
   {
    "duration": 19,
    "start_time": "2022-09-14T10:38:34.528Z"
   },
   {
    "duration": 13,
    "start_time": "2022-09-14T10:38:39.204Z"
   },
   {
    "duration": 11,
    "start_time": "2022-09-14T10:39:05.916Z"
   },
   {
    "duration": 20,
    "start_time": "2022-09-14T11:16:45.374Z"
   },
   {
    "duration": 672,
    "start_time": "2022-09-14T11:17:31.585Z"
   },
   {
    "duration": 594,
    "start_time": "2022-09-14T11:17:44.233Z"
   },
   {
    "duration": 532,
    "start_time": "2022-09-14T11:17:53.864Z"
   },
   {
    "duration": 526,
    "start_time": "2022-09-14T11:27:02.093Z"
   },
   {
    "duration": 190,
    "start_time": "2022-09-14T11:38:41.660Z"
   },
   {
    "duration": 273,
    "start_time": "2022-09-14T11:39:09.848Z"
   },
   {
    "duration": 240,
    "start_time": "2022-09-14T11:39:22.439Z"
   },
   {
    "duration": 138,
    "start_time": "2022-09-14T11:39:26.947Z"
   },
   {
    "duration": 197,
    "start_time": "2022-09-14T11:39:31.410Z"
   },
   {
    "duration": 235,
    "start_time": "2022-09-14T11:43:44.523Z"
   },
   {
    "duration": 176,
    "start_time": "2022-09-14T11:43:52.787Z"
   },
   {
    "duration": 159,
    "start_time": "2022-09-14T11:43:56.687Z"
   },
   {
    "duration": 185,
    "start_time": "2022-09-14T11:43:59.725Z"
   },
   {
    "duration": 168,
    "start_time": "2022-09-14T11:44:05.867Z"
   },
   {
    "duration": 183,
    "start_time": "2022-09-14T11:44:21.034Z"
   },
   {
    "duration": 25,
    "start_time": "2022-09-14T11:44:45.135Z"
   },
   {
    "duration": 190,
    "start_time": "2022-09-14T11:44:50.766Z"
   },
   {
    "duration": 5,
    "start_time": "2022-09-14T11:44:55.886Z"
   },
   {
    "duration": 214,
    "start_time": "2022-09-14T11:45:11.546Z"
   },
   {
    "duration": 0,
    "start_time": "2022-09-14T11:45:58.976Z"
   },
   {
    "duration": 194,
    "start_time": "2022-09-14T11:46:06.491Z"
   },
   {
    "duration": 6,
    "start_time": "2022-09-14T11:57:58.586Z"
   },
   {
    "duration": 167,
    "start_time": "2022-09-14T11:58:04.990Z"
   },
   {
    "duration": 16,
    "start_time": "2022-09-14T11:58:08.744Z"
   },
   {
    "duration": 0,
    "start_time": "2022-09-14T12:08:04.416Z"
   },
   {
    "duration": 13,
    "start_time": "2022-09-14T12:09:02.076Z"
   },
   {
    "duration": 316,
    "start_time": "2022-09-14T12:09:07.380Z"
   },
   {
    "duration": 142,
    "start_time": "2022-09-14T12:09:49.642Z"
   },
   {
    "duration": 268,
    "start_time": "2022-09-14T12:10:04.320Z"
   },
   {
    "duration": 305,
    "start_time": "2022-09-14T12:10:29.631Z"
   },
   {
    "duration": 322,
    "start_time": "2022-09-14T12:10:36.925Z"
   },
   {
    "duration": 394,
    "start_time": "2022-09-14T12:10:48.376Z"
   },
   {
    "duration": 336,
    "start_time": "2022-09-14T12:11:09.165Z"
   },
   {
    "duration": 280,
    "start_time": "2022-09-14T12:11:19.292Z"
   },
   {
    "duration": 269,
    "start_time": "2022-09-14T12:11:46.220Z"
   },
   {
    "duration": 206,
    "start_time": "2022-09-14T12:25:15.067Z"
   },
   {
    "duration": 852,
    "start_time": "2022-09-14T12:25:21.495Z"
   },
   {
    "duration": 145,
    "start_time": "2022-09-14T12:25:22.349Z"
   },
   {
    "duration": 104,
    "start_time": "2022-09-14T12:25:22.504Z"
   },
   {
    "duration": 100,
    "start_time": "2022-09-14T12:25:22.625Z"
   },
   {
    "duration": 210,
    "start_time": "2022-09-14T12:25:22.731Z"
   },
   {
    "duration": 47,
    "start_time": "2022-09-14T12:25:22.946Z"
   },
   {
    "duration": 66,
    "start_time": "2022-09-14T12:25:22.999Z"
   },
   {
    "duration": 127,
    "start_time": "2022-09-14T12:25:23.067Z"
   },
   {
    "duration": 82,
    "start_time": "2022-09-14T12:25:23.196Z"
   },
   {
    "duration": 24,
    "start_time": "2022-09-14T12:25:23.280Z"
   },
   {
    "duration": 98,
    "start_time": "2022-09-14T12:25:23.318Z"
   },
   {
    "duration": 135,
    "start_time": "2022-09-14T12:25:23.418Z"
   },
   {
    "duration": 55,
    "start_time": "2022-09-14T12:25:23.554Z"
   },
   {
    "duration": 198,
    "start_time": "2022-09-14T12:25:23.615Z"
   },
   {
    "duration": 90,
    "start_time": "2022-09-14T12:25:23.822Z"
   },
   {
    "duration": 74,
    "start_time": "2022-09-14T12:25:23.916Z"
   },
   {
    "duration": 69,
    "start_time": "2022-09-14T12:25:23.996Z"
   },
   {
    "duration": 208,
    "start_time": "2022-09-14T12:25:24.071Z"
   },
   {
    "duration": 216,
    "start_time": "2022-09-14T12:25:24.286Z"
   },
   {
    "duration": 61,
    "start_time": "2022-09-14T12:25:24.511Z"
   },
   {
    "duration": 32,
    "start_time": "2022-09-14T12:25:24.578Z"
   },
   {
    "duration": 85,
    "start_time": "2022-09-14T12:25:24.620Z"
   },
   {
    "duration": 195,
    "start_time": "2022-09-14T12:25:24.714Z"
   },
   {
    "duration": 40,
    "start_time": "2022-09-14T12:25:24.917Z"
   },
   {
    "duration": 76,
    "start_time": "2022-09-14T12:25:24.964Z"
   },
   {
    "duration": 62,
    "start_time": "2022-09-14T12:25:25.054Z"
   },
   {
    "duration": 270,
    "start_time": "2022-09-14T12:25:25.130Z"
   },
   {
    "duration": 170,
    "start_time": "2022-09-14T12:25:25.406Z"
   },
   {
    "duration": 218,
    "start_time": "2022-09-14T12:25:25.581Z"
   },
   {
    "duration": 102,
    "start_time": "2022-09-14T12:25:25.803Z"
   },
   {
    "duration": 60,
    "start_time": "2022-09-14T12:25:25.909Z"
   },
   {
    "duration": 35,
    "start_time": "2022-09-14T12:25:25.973Z"
   },
   {
    "duration": 89,
    "start_time": "2022-09-14T12:25:26.013Z"
   },
   {
    "duration": 123,
    "start_time": "2022-09-14T12:25:26.106Z"
   },
   {
    "duration": 96,
    "start_time": "2022-09-14T12:25:26.234Z"
   },
   {
    "duration": 112,
    "start_time": "2022-09-14T12:25:26.340Z"
   },
   {
    "duration": 68,
    "start_time": "2022-09-14T12:25:26.461Z"
   },
   {
    "duration": 71,
    "start_time": "2022-09-14T12:25:26.536Z"
   },
   {
    "duration": 164,
    "start_time": "2022-09-14T12:25:26.613Z"
   },
   {
    "duration": 121,
    "start_time": "2022-09-14T12:25:26.783Z"
   },
   {
    "duration": 169,
    "start_time": "2022-09-14T12:25:26.923Z"
   },
   {
    "duration": 17,
    "start_time": "2022-09-14T12:25:27.095Z"
   },
   {
    "duration": 139,
    "start_time": "2022-09-14T12:25:27.116Z"
   },
   {
    "duration": 107,
    "start_time": "2022-09-14T12:25:27.256Z"
   },
   {
    "duration": 617,
    "start_time": "2022-09-14T12:25:27.364Z"
   },
   {
    "duration": 38,
    "start_time": "2022-09-14T12:25:27.987Z"
   },
   {
    "duration": 183,
    "start_time": "2022-09-14T12:25:28.030Z"
   },
   {
    "duration": 196,
    "start_time": "2022-09-14T12:25:28.221Z"
   },
   {
    "duration": 189,
    "start_time": "2022-09-14T12:25:28.428Z"
   },
   {
    "duration": 98,
    "start_time": "2022-09-14T12:25:28.624Z"
   },
   {
    "duration": 217,
    "start_time": "2022-09-14T12:25:28.748Z"
   },
   {
    "duration": 24,
    "start_time": "2022-09-14T12:25:28.973Z"
   },
   {
    "duration": 268,
    "start_time": "2022-09-14T12:25:29.009Z"
   },
   {
    "duration": 533,
    "start_time": "2022-09-14T12:25:29.284Z"
   },
   {
    "duration": 420,
    "start_time": "2022-09-14T12:25:29.824Z"
   },
   {
    "duration": 373,
    "start_time": "2022-09-14T12:25:30.250Z"
   },
   {
    "duration": 414,
    "start_time": "2022-09-14T12:25:30.626Z"
   },
   {
    "duration": 442,
    "start_time": "2022-09-14T12:25:31.047Z"
   },
   {
    "duration": 416,
    "start_time": "2022-09-14T12:25:31.497Z"
   },
   {
    "duration": 300,
    "start_time": "2022-09-14T12:25:31.921Z"
   },
   {
    "duration": 307,
    "start_time": "2022-09-14T12:25:32.227Z"
   },
   {
    "duration": 385,
    "start_time": "2022-09-14T12:25:32.546Z"
   },
   {
    "duration": 314,
    "start_time": "2022-09-14T12:25:32.945Z"
   },
   {
    "duration": 370,
    "start_time": "2022-09-14T12:25:33.266Z"
   },
   {
    "duration": 285,
    "start_time": "2022-09-14T12:25:33.646Z"
   },
   {
    "duration": 429,
    "start_time": "2022-09-14T12:25:33.943Z"
   },
   {
    "duration": 275,
    "start_time": "2022-09-14T12:25:34.379Z"
   },
   {
    "duration": 156,
    "start_time": "2022-09-14T12:25:34.661Z"
   },
   {
    "duration": 24,
    "start_time": "2022-09-14T12:25:34.824Z"
   },
   {
    "duration": 964,
    "start_time": "2022-09-14T12:25:34.857Z"
   },
   {
    "duration": 302,
    "start_time": "2022-09-14T12:25:35.824Z"
   },
   {
    "duration": 0,
    "start_time": "2022-09-14T12:25:36.132Z"
   },
   {
    "duration": 0,
    "start_time": "2022-09-14T12:25:36.134Z"
   },
   {
    "duration": 0,
    "start_time": "2022-09-14T12:25:36.138Z"
   },
   {
    "duration": 257,
    "start_time": "2022-09-14T12:25:44.783Z"
   },
   {
    "duration": 378,
    "start_time": "2022-09-14T12:25:53.317Z"
   },
   {
    "duration": 268,
    "start_time": "2022-09-14T12:26:16.441Z"
   },
   {
    "duration": 493,
    "start_time": "2022-09-14T12:26:32.046Z"
   },
   {
    "duration": 367,
    "start_time": "2022-09-14T12:26:50.922Z"
   },
   {
    "duration": 177,
    "start_time": "2022-09-14T12:27:18.538Z"
   },
   {
    "duration": 168,
    "start_time": "2022-09-14T12:27:32.823Z"
   },
   {
    "duration": 155,
    "start_time": "2022-09-14T12:27:38.758Z"
   },
   {
    "duration": 190,
    "start_time": "2022-09-14T12:27:44.169Z"
   },
   {
    "duration": 183,
    "start_time": "2022-09-14T12:27:51.051Z"
   },
   {
    "duration": 568,
    "start_time": "2022-09-14T12:28:01.852Z"
   },
   {
    "duration": 13,
    "start_time": "2022-09-14T12:29:38.439Z"
   },
   {
    "duration": 7,
    "start_time": "2022-09-14T12:29:43.366Z"
   },
   {
    "duration": 20,
    "start_time": "2022-09-14T12:30:20.039Z"
   },
   {
    "duration": 17,
    "start_time": "2022-09-14T12:31:05.727Z"
   },
   {
    "duration": 193,
    "start_time": "2022-09-14T12:33:46.030Z"
   },
   {
    "duration": 17,
    "start_time": "2022-09-14T12:34:33.132Z"
   },
   {
    "duration": 192,
    "start_time": "2022-09-14T12:35:21.734Z"
   },
   {
    "duration": 34,
    "start_time": "2022-09-14T12:35:24.096Z"
   },
   {
    "duration": 3,
    "start_time": "2022-09-14T12:42:39.038Z"
   },
   {
    "duration": 263,
    "start_time": "2022-09-14T12:52:15.573Z"
   },
   {
    "duration": 14,
    "start_time": "2022-09-14T12:52:39.166Z"
   },
   {
    "duration": 147,
    "start_time": "2022-09-14T12:56:46.764Z"
   },
   {
    "duration": 164,
    "start_time": "2022-09-14T12:56:58.797Z"
   },
   {
    "duration": 204,
    "start_time": "2022-09-14T12:57:09.084Z"
   },
   {
    "duration": 170,
    "start_time": "2022-09-14T12:57:17.291Z"
   },
   {
    "duration": 235,
    "start_time": "2022-09-14T12:57:26.279Z"
   },
   {
    "duration": 165,
    "start_time": "2022-09-14T12:57:34.975Z"
   },
   {
    "duration": 188,
    "start_time": "2022-09-14T12:57:50.434Z"
   },
   {
    "duration": 190,
    "start_time": "2022-09-14T12:57:55.808Z"
   },
   {
    "duration": 182,
    "start_time": "2022-09-14T12:58:03.131Z"
   },
   {
    "duration": 166,
    "start_time": "2022-09-14T12:58:07.525Z"
   },
   {
    "duration": 202,
    "start_time": "2022-09-14T12:58:13.081Z"
   },
   {
    "duration": 19,
    "start_time": "2022-09-14T12:58:36.048Z"
   },
   {
    "duration": 217,
    "start_time": "2022-09-14T13:01:09.922Z"
   },
   {
    "duration": 195,
    "start_time": "2022-09-14T13:01:14.685Z"
   },
   {
    "duration": 147,
    "start_time": "2022-09-14T13:02:45.444Z"
   },
   {
    "duration": 155,
    "start_time": "2022-09-14T13:02:49.555Z"
   },
   {
    "duration": 19,
    "start_time": "2022-09-14T13:03:21.831Z"
   },
   {
    "duration": 156,
    "start_time": "2022-09-14T13:05:12.247Z"
   },
   {
    "duration": 164,
    "start_time": "2022-09-14T13:05:38.927Z"
   },
   {
    "duration": 161,
    "start_time": "2022-09-14T13:05:43.098Z"
   },
   {
    "duration": 0,
    "start_time": "2022-09-14T13:06:26.402Z"
   },
   {
    "duration": 2400,
    "start_time": "2022-09-14T13:06:29.084Z"
   },
   {
    "duration": 180,
    "start_time": "2022-09-14T13:06:34.359Z"
   },
   {
    "duration": 161,
    "start_time": "2022-09-14T13:07:27.159Z"
   },
   {
    "duration": 130,
    "start_time": "2022-09-14T13:07:50.724Z"
   },
   {
    "duration": 102,
    "start_time": "2022-09-14T13:07:57.239Z"
   },
   {
    "duration": 78,
    "start_time": "2022-09-14T13:08:00.606Z"
   },
   {
    "duration": 171,
    "start_time": "2022-09-14T13:08:03.326Z"
   },
   {
    "duration": 223,
    "start_time": "2022-09-14T13:09:07.731Z"
   },
   {
    "duration": 163,
    "start_time": "2022-09-14T13:09:36.457Z"
   },
   {
    "duration": 162,
    "start_time": "2022-09-14T13:09:41.077Z"
   },
   {
    "duration": 166,
    "start_time": "2022-09-14T13:11:13.668Z"
   },
   {
    "duration": 164,
    "start_time": "2022-09-14T13:11:20.965Z"
   },
   {
    "duration": 168,
    "start_time": "2022-09-14T13:11:28.557Z"
   },
   {
    "duration": 193,
    "start_time": "2022-09-14T13:12:44.084Z"
   },
   {
    "duration": 186,
    "start_time": "2022-09-14T13:13:24.425Z"
   },
   {
    "duration": 157,
    "start_time": "2022-09-14T13:14:19.864Z"
   },
   {
    "duration": 201,
    "start_time": "2022-09-14T13:14:24.344Z"
   },
   {
    "duration": 153,
    "start_time": "2022-09-14T13:16:13.320Z"
   },
   {
    "duration": 240,
    "start_time": "2022-09-14T13:16:40.741Z"
   },
   {
    "duration": 213,
    "start_time": "2022-09-14T13:17:32.232Z"
   },
   {
    "duration": 210,
    "start_time": "2022-09-14T13:17:41.788Z"
   },
   {
    "duration": 173,
    "start_time": "2022-09-14T13:18:01.754Z"
   },
   {
    "duration": 169,
    "start_time": "2022-09-14T13:18:10.479Z"
   },
   {
    "duration": 20,
    "start_time": "2022-09-14T13:22:08.642Z"
   },
   {
    "duration": 23,
    "start_time": "2022-09-14T13:22:31.904Z"
   },
   {
    "duration": 174,
    "start_time": "2022-09-14T13:22:46.760Z"
   },
   {
    "duration": 161,
    "start_time": "2022-09-14T13:23:26.228Z"
   },
   {
    "duration": 214,
    "start_time": "2022-09-14T13:23:44.012Z"
   },
   {
    "duration": 22,
    "start_time": "2022-09-14T13:24:27.550Z"
   },
   {
    "duration": 208,
    "start_time": "2022-09-14T13:24:34.247Z"
   },
   {
    "duration": 160,
    "start_time": "2022-09-14T13:26:10.380Z"
   },
   {
    "duration": 189,
    "start_time": "2022-09-14T13:28:58.680Z"
   },
   {
    "duration": 270,
    "start_time": "2022-09-14T13:31:34.416Z"
   },
   {
    "duration": 163,
    "start_time": "2022-09-14T13:31:51.230Z"
   },
   {
    "duration": 155,
    "start_time": "2022-09-14T13:32:19.534Z"
   },
   {
    "duration": 205,
    "start_time": "2022-09-14T13:33:15.818Z"
   },
   {
    "duration": 155,
    "start_time": "2022-09-14T13:33:29.283Z"
   },
   {
    "duration": 156,
    "start_time": "2022-09-14T13:33:38.837Z"
   },
   {
    "duration": 172,
    "start_time": "2022-09-14T13:33:43.752Z"
   },
   {
    "duration": 172,
    "start_time": "2022-09-14T13:40:47.000Z"
   },
   {
    "duration": 166,
    "start_time": "2022-09-14T13:41:23.825Z"
   },
   {
    "duration": 161,
    "start_time": "2022-09-14T13:46:42.621Z"
   },
   {
    "duration": 21,
    "start_time": "2022-09-14T13:57:54.601Z"
   },
   {
    "duration": 23,
    "start_time": "2022-09-14T14:00:45.535Z"
   },
   {
    "duration": 199,
    "start_time": "2022-09-14T14:13:16.522Z"
   },
   {
    "duration": 21,
    "start_time": "2022-09-14T14:13:30.183Z"
   },
   {
    "duration": 110,
    "start_time": "2022-09-14T14:24:45.334Z"
   },
   {
    "duration": 213,
    "start_time": "2022-09-14T14:32:03.027Z"
   },
   {
    "duration": 165,
    "start_time": "2022-09-14T14:32:43.951Z"
   },
   {
    "duration": 153,
    "start_time": "2022-09-14T14:34:59.884Z"
   },
   {
    "duration": 152,
    "start_time": "2022-09-14T14:35:41.003Z"
   },
   {
    "duration": 159,
    "start_time": "2022-09-14T14:36:35.744Z"
   },
   {
    "duration": 19,
    "start_time": "2022-09-14T14:37:47.992Z"
   },
   {
    "duration": 146,
    "start_time": "2022-09-14T14:38:15.658Z"
   },
   {
    "duration": 145,
    "start_time": "2022-09-14T14:38:53.538Z"
   },
   {
    "duration": 166,
    "start_time": "2022-09-14T14:39:12.203Z"
   },
   {
    "duration": 616,
    "start_time": "2022-09-14T15:47:39.887Z"
   },
   {
    "duration": 87,
    "start_time": "2022-09-14T15:47:40.505Z"
   },
   {
    "duration": 36,
    "start_time": "2022-09-14T15:47:40.594Z"
   },
   {
    "duration": 14,
    "start_time": "2022-09-14T15:47:40.631Z"
   },
   {
    "duration": 20,
    "start_time": "2022-09-14T15:47:40.646Z"
   },
   {
    "duration": 6,
    "start_time": "2022-09-14T15:47:40.667Z"
   },
   {
    "duration": 31,
    "start_time": "2022-09-14T15:47:40.674Z"
   },
   {
    "duration": 10,
    "start_time": "2022-09-14T15:47:40.706Z"
   },
   {
    "duration": 7,
    "start_time": "2022-09-14T15:47:40.717Z"
   },
   {
    "duration": 4,
    "start_time": "2022-09-14T15:47:40.726Z"
   },
   {
    "duration": 11,
    "start_time": "2022-09-14T15:47:40.731Z"
   },
   {
    "duration": 5,
    "start_time": "2022-09-14T15:47:40.743Z"
   },
   {
    "duration": 6,
    "start_time": "2022-09-14T15:47:40.749Z"
   },
   {
    "duration": 10,
    "start_time": "2022-09-14T15:47:40.756Z"
   },
   {
    "duration": 9,
    "start_time": "2022-09-14T15:47:40.767Z"
   },
   {
    "duration": 5,
    "start_time": "2022-09-14T15:47:40.800Z"
   },
   {
    "duration": 8,
    "start_time": "2022-09-14T15:47:40.806Z"
   },
   {
    "duration": 9,
    "start_time": "2022-09-14T15:47:40.815Z"
   },
   {
    "duration": 6,
    "start_time": "2022-09-14T15:47:40.825Z"
   },
   {
    "duration": 10,
    "start_time": "2022-09-14T15:47:40.832Z"
   },
   {
    "duration": 5,
    "start_time": "2022-09-14T15:47:40.843Z"
   },
   {
    "duration": 8,
    "start_time": "2022-09-14T15:47:40.849Z"
   },
   {
    "duration": 14,
    "start_time": "2022-09-14T15:47:40.858Z"
   },
   {
    "duration": 27,
    "start_time": "2022-09-14T15:47:40.874Z"
   },
   {
    "duration": 5,
    "start_time": "2022-09-14T15:47:40.902Z"
   },
   {
    "duration": 7,
    "start_time": "2022-09-14T15:47:40.909Z"
   },
   {
    "duration": 7,
    "start_time": "2022-09-14T15:47:40.917Z"
   },
   {
    "duration": 4,
    "start_time": "2022-09-14T15:47:40.928Z"
   },
   {
    "duration": 5,
    "start_time": "2022-09-14T15:47:40.933Z"
   },
   {
    "duration": 6,
    "start_time": "2022-09-14T15:47:40.940Z"
   },
   {
    "duration": 5,
    "start_time": "2022-09-14T15:47:40.948Z"
   },
   {
    "duration": 4,
    "start_time": "2022-09-14T15:47:40.955Z"
   },
   {
    "duration": 6,
    "start_time": "2022-09-14T15:47:40.961Z"
   },
   {
    "duration": 34,
    "start_time": "2022-09-14T15:47:40.968Z"
   },
   {
    "duration": 7,
    "start_time": "2022-09-14T15:47:41.004Z"
   },
   {
    "duration": 12,
    "start_time": "2022-09-14T15:47:41.012Z"
   },
   {
    "duration": 3,
    "start_time": "2022-09-14T15:47:41.025Z"
   },
   {
    "duration": 5,
    "start_time": "2022-09-14T15:47:41.029Z"
   },
   {
    "duration": 22,
    "start_time": "2022-09-14T15:47:41.035Z"
   },
   {
    "duration": 5,
    "start_time": "2022-09-14T15:47:41.058Z"
   },
   {
    "duration": 36,
    "start_time": "2022-09-14T15:47:41.064Z"
   },
   {
    "duration": 4,
    "start_time": "2022-09-14T15:47:41.102Z"
   },
   {
    "duration": 26,
    "start_time": "2022-09-14T15:47:41.108Z"
   },
   {
    "duration": 3,
    "start_time": "2022-09-14T15:47:41.135Z"
   },
   {
    "duration": 261,
    "start_time": "2022-09-14T15:47:41.139Z"
   },
   {
    "duration": 20,
    "start_time": "2022-09-14T15:47:41.402Z"
   },
   {
    "duration": 11,
    "start_time": "2022-09-14T15:47:41.423Z"
   },
   {
    "duration": 15,
    "start_time": "2022-09-14T15:47:41.435Z"
   },
   {
    "duration": 33,
    "start_time": "2022-09-14T15:47:41.452Z"
   },
   {
    "duration": 14,
    "start_time": "2022-09-14T15:47:41.487Z"
   },
   {
    "duration": 20,
    "start_time": "2022-09-14T15:47:41.503Z"
   },
   {
    "duration": 6,
    "start_time": "2022-09-14T15:47:41.524Z"
   },
   {
    "duration": 22,
    "start_time": "2022-09-14T15:47:41.532Z"
   },
   {
    "duration": 226,
    "start_time": "2022-09-14T15:47:41.555Z"
   },
   {
    "duration": 218,
    "start_time": "2022-09-14T15:47:41.782Z"
   },
   {
    "duration": 175,
    "start_time": "2022-09-14T15:47:42.002Z"
   },
   {
    "duration": 204,
    "start_time": "2022-09-14T15:47:42.179Z"
   },
   {
    "duration": 186,
    "start_time": "2022-09-14T15:47:42.385Z"
   },
   {
    "duration": 154,
    "start_time": "2022-09-14T15:47:42.572Z"
   },
   {
    "duration": 153,
    "start_time": "2022-09-14T15:47:42.727Z"
   },
   {
    "duration": 165,
    "start_time": "2022-09-14T15:47:42.881Z"
   },
   {
    "duration": 189,
    "start_time": "2022-09-14T15:47:43.048Z"
   },
   {
    "duration": 173,
    "start_time": "2022-09-14T15:47:43.238Z"
   },
   {
    "duration": 167,
    "start_time": "2022-09-14T15:47:43.413Z"
   },
   {
    "duration": 133,
    "start_time": "2022-09-14T15:47:43.582Z"
   },
   {
    "duration": 249,
    "start_time": "2022-09-14T15:47:43.716Z"
   },
   {
    "duration": 160,
    "start_time": "2022-09-14T15:47:43.966Z"
   },
   {
    "duration": 107,
    "start_time": "2022-09-14T15:47:44.127Z"
   },
   {
    "duration": 10,
    "start_time": "2022-09-14T15:47:44.236Z"
   },
   {
    "duration": 459,
    "start_time": "2022-09-14T15:47:44.248Z"
   },
   {
    "duration": 149,
    "start_time": "2022-09-14T15:47:44.709Z"
   },
   {
    "duration": 168,
    "start_time": "2022-09-14T15:47:44.859Z"
   },
   {
    "duration": 154,
    "start_time": "2022-09-14T15:47:45.028Z"
   },
   {
    "duration": 160,
    "start_time": "2022-09-14T15:47:45.183Z"
   },
   {
    "duration": 159,
    "start_time": "2022-09-14T15:47:45.344Z"
   },
   {
    "duration": 228,
    "start_time": "2022-09-14T15:47:45.504Z"
   },
   {
    "duration": 163,
    "start_time": "2022-09-14T15:47:45.733Z"
   },
   {
    "duration": 151,
    "start_time": "2022-09-14T15:47:45.899Z"
   },
   {
    "duration": 22,
    "start_time": "2022-09-14T15:47:46.053Z"
   },
   {
    "duration": 168,
    "start_time": "2022-09-14T15:47:46.077Z"
   },
   {
    "duration": 45,
    "start_time": "2022-09-14T16:05:45.821Z"
   },
   {
    "duration": 761,
    "start_time": "2022-09-14T16:05:50.576Z"
   },
   {
    "duration": 102,
    "start_time": "2022-09-14T16:05:51.339Z"
   },
   {
    "duration": 48,
    "start_time": "2022-09-14T16:05:51.445Z"
   },
   {
    "duration": 17,
    "start_time": "2022-09-14T16:05:51.494Z"
   },
   {
    "duration": 21,
    "start_time": "2022-09-14T16:05:51.513Z"
   },
   {
    "duration": 8,
    "start_time": "2022-09-14T16:05:51.536Z"
   },
   {
    "duration": 37,
    "start_time": "2022-09-14T16:05:51.545Z"
   },
   {
    "duration": 20,
    "start_time": "2022-09-14T16:05:51.584Z"
   },
   {
    "duration": 9,
    "start_time": "2022-09-14T16:05:51.606Z"
   },
   {
    "duration": 5,
    "start_time": "2022-09-14T16:05:51.617Z"
   },
   {
    "duration": 10,
    "start_time": "2022-09-14T16:05:51.623Z"
   },
   {
    "duration": 4,
    "start_time": "2022-09-14T16:05:51.635Z"
   },
   {
    "duration": 5,
    "start_time": "2022-09-14T16:05:51.640Z"
   },
   {
    "duration": 31,
    "start_time": "2022-09-14T16:05:51.647Z"
   },
   {
    "duration": 7,
    "start_time": "2022-09-14T16:05:51.680Z"
   },
   {
    "duration": 18,
    "start_time": "2022-09-14T16:05:51.689Z"
   },
   {
    "duration": 15,
    "start_time": "2022-09-14T16:05:51.708Z"
   },
   {
    "duration": 16,
    "start_time": "2022-09-14T16:05:51.725Z"
   },
   {
    "duration": 14,
    "start_time": "2022-09-14T16:05:51.743Z"
   },
   {
    "duration": 14,
    "start_time": "2022-09-14T16:05:51.759Z"
   },
   {
    "duration": 21,
    "start_time": "2022-09-14T16:05:51.775Z"
   },
   {
    "duration": 25,
    "start_time": "2022-09-14T16:05:51.797Z"
   },
   {
    "duration": 23,
    "start_time": "2022-09-14T16:05:51.824Z"
   },
   {
    "duration": 16,
    "start_time": "2022-09-14T16:05:51.848Z"
   },
   {
    "duration": 11,
    "start_time": "2022-09-14T16:05:51.865Z"
   },
   {
    "duration": 12,
    "start_time": "2022-09-14T16:05:51.877Z"
   },
   {
    "duration": 12,
    "start_time": "2022-09-14T16:05:51.895Z"
   },
   {
    "duration": 9,
    "start_time": "2022-09-14T16:05:51.908Z"
   },
   {
    "duration": 11,
    "start_time": "2022-09-14T16:05:51.919Z"
   },
   {
    "duration": 7,
    "start_time": "2022-09-14T16:05:51.931Z"
   },
   {
    "duration": 7,
    "start_time": "2022-09-14T16:05:51.940Z"
   },
   {
    "duration": 11,
    "start_time": "2022-09-14T16:05:51.948Z"
   },
   {
    "duration": 8,
    "start_time": "2022-09-14T16:05:51.961Z"
   },
   {
    "duration": 10,
    "start_time": "2022-09-14T16:05:51.971Z"
   },
   {
    "duration": 20,
    "start_time": "2022-09-14T16:05:51.983Z"
   },
   {
    "duration": 13,
    "start_time": "2022-09-14T16:05:52.005Z"
   },
   {
    "duration": 4,
    "start_time": "2022-09-14T16:05:52.019Z"
   },
   {
    "duration": 14,
    "start_time": "2022-09-14T16:05:52.024Z"
   },
   {
    "duration": 27,
    "start_time": "2022-09-14T16:05:52.039Z"
   },
   {
    "duration": 9,
    "start_time": "2022-09-14T16:05:52.067Z"
   },
   {
    "duration": 5,
    "start_time": "2022-09-14T16:05:52.078Z"
   },
   {
    "duration": 9,
    "start_time": "2022-09-14T16:05:52.085Z"
   },
   {
    "duration": 27,
    "start_time": "2022-09-14T16:05:52.096Z"
   },
   {
    "duration": 3,
    "start_time": "2022-09-14T16:05:52.125Z"
   },
   {
    "duration": 296,
    "start_time": "2022-09-14T16:05:52.130Z"
   },
   {
    "duration": 21,
    "start_time": "2022-09-14T16:05:52.427Z"
   },
   {
    "duration": 16,
    "start_time": "2022-09-14T16:05:52.450Z"
   },
   {
    "duration": 19,
    "start_time": "2022-09-14T16:05:52.467Z"
   },
   {
    "duration": 29,
    "start_time": "2022-09-14T16:05:52.488Z"
   },
   {
    "duration": 9,
    "start_time": "2022-09-14T16:05:52.519Z"
   },
   {
    "duration": 24,
    "start_time": "2022-09-14T16:05:52.529Z"
   },
   {
    "duration": 5,
    "start_time": "2022-09-14T16:05:52.555Z"
   },
   {
    "duration": 41,
    "start_time": "2022-09-14T16:05:52.562Z"
   },
   {
    "duration": 242,
    "start_time": "2022-09-14T16:05:52.605Z"
   },
   {
    "duration": 254,
    "start_time": "2022-09-14T16:05:52.849Z"
   },
   {
    "duration": 203,
    "start_time": "2022-09-14T16:05:53.105Z"
   },
   {
    "duration": 223,
    "start_time": "2022-09-14T16:05:53.310Z"
   },
   {
    "duration": 219,
    "start_time": "2022-09-14T16:05:53.535Z"
   },
   {
    "duration": 182,
    "start_time": "2022-09-14T16:05:53.756Z"
   },
   {
    "duration": 192,
    "start_time": "2022-09-14T16:05:53.939Z"
   },
   {
    "duration": 220,
    "start_time": "2022-09-14T16:05:54.133Z"
   },
   {
    "duration": 208,
    "start_time": "2022-09-14T16:05:54.355Z"
   },
   {
    "duration": 346,
    "start_time": "2022-09-14T16:05:54.565Z"
   },
   {
    "duration": 410,
    "start_time": "2022-09-14T16:05:54.912Z"
   },
   {
    "duration": 335,
    "start_time": "2022-09-14T16:05:55.378Z"
   },
   {
    "duration": 594,
    "start_time": "2022-09-14T16:05:55.715Z"
   },
   {
    "duration": 401,
    "start_time": "2022-09-14T16:05:56.311Z"
   },
   {
    "duration": 204,
    "start_time": "2022-09-14T16:05:56.713Z"
   },
   {
    "duration": 13,
    "start_time": "2022-09-14T16:05:56.919Z"
   },
   {
    "duration": 523,
    "start_time": "2022-09-14T16:05:56.934Z"
   },
   {
    "duration": 179,
    "start_time": "2022-09-14T16:05:57.459Z"
   },
   {
    "duration": 183,
    "start_time": "2022-09-14T16:05:57.641Z"
   },
   {
    "duration": 182,
    "start_time": "2022-09-14T16:05:57.826Z"
   },
   {
    "duration": 201,
    "start_time": "2022-09-14T16:05:58.010Z"
   },
   {
    "duration": 167,
    "start_time": "2022-09-14T16:05:58.213Z"
   },
   {
    "duration": 282,
    "start_time": "2022-09-14T16:05:58.383Z"
   },
   {
    "duration": 224,
    "start_time": "2022-09-14T16:05:58.666Z"
   },
   {
    "duration": 183,
    "start_time": "2022-09-14T16:05:58.893Z"
   },
   {
    "duration": 25,
    "start_time": "2022-09-14T16:05:59.078Z"
   },
   {
    "duration": 198,
    "start_time": "2022-09-14T16:05:59.105Z"
   },
   {
    "duration": 6,
    "start_time": "2022-09-14T16:06:02.120Z"
   },
   {
    "duration": 7,
    "start_time": "2022-09-14T16:06:03.576Z"
   },
   {
    "duration": 221,
    "start_time": "2022-09-14T16:10:25.377Z"
   },
   {
    "duration": 54,
    "start_time": "2022-09-15T09:05:28.567Z"
   },
   {
    "duration": 792,
    "start_time": "2022-09-15T09:05:34.228Z"
   },
   {
    "duration": 328,
    "start_time": "2022-09-15T09:05:35.023Z"
   },
   {
    "duration": 51,
    "start_time": "2022-09-15T09:05:35.353Z"
   },
   {
    "duration": 1982,
    "start_time": "2022-09-15T09:05:35.406Z"
   },
   {
    "duration": 15,
    "start_time": "2022-09-15T09:05:37.390Z"
   },
   {
    "duration": 24,
    "start_time": "2022-09-15T09:05:37.407Z"
   },
   {
    "duration": 7,
    "start_time": "2022-09-15T09:05:37.432Z"
   },
   {
    "duration": 41,
    "start_time": "2022-09-15T09:05:37.440Z"
   },
   {
    "duration": 11,
    "start_time": "2022-09-15T09:05:37.483Z"
   },
   {
    "duration": 8,
    "start_time": "2022-09-15T09:05:37.495Z"
   },
   {
    "duration": 6,
    "start_time": "2022-09-15T09:05:37.505Z"
   },
   {
    "duration": 12,
    "start_time": "2022-09-15T09:05:37.512Z"
   },
   {
    "duration": 7,
    "start_time": "2022-09-15T09:05:37.525Z"
   },
   {
    "duration": 5,
    "start_time": "2022-09-15T09:05:37.576Z"
   },
   {
    "duration": 11,
    "start_time": "2022-09-15T09:05:37.583Z"
   },
   {
    "duration": 7,
    "start_time": "2022-09-15T09:05:37.595Z"
   },
   {
    "duration": 7,
    "start_time": "2022-09-15T09:05:37.604Z"
   },
   {
    "duration": 8,
    "start_time": "2022-09-15T09:05:37.612Z"
   },
   {
    "duration": 9,
    "start_time": "2022-09-15T09:05:37.621Z"
   },
   {
    "duration": 48,
    "start_time": "2022-09-15T09:05:37.632Z"
   },
   {
    "duration": 9,
    "start_time": "2022-09-15T09:05:37.681Z"
   },
   {
    "duration": 6,
    "start_time": "2022-09-15T09:05:37.691Z"
   },
   {
    "duration": 13,
    "start_time": "2022-09-15T09:05:37.699Z"
   },
   {
    "duration": 18,
    "start_time": "2022-09-15T09:05:37.714Z"
   },
   {
    "duration": 6,
    "start_time": "2022-09-15T09:05:37.734Z"
   },
   {
    "duration": 8,
    "start_time": "2022-09-15T09:05:37.777Z"
   },
   {
    "duration": 7,
    "start_time": "2022-09-15T09:05:37.786Z"
   },
   {
    "duration": 8,
    "start_time": "2022-09-15T09:05:37.795Z"
   },
   {
    "duration": 7,
    "start_time": "2022-09-15T09:05:37.805Z"
   },
   {
    "duration": 6,
    "start_time": "2022-09-15T09:05:37.814Z"
   },
   {
    "duration": 6,
    "start_time": "2022-09-15T09:05:37.821Z"
   },
   {
    "duration": 48,
    "start_time": "2022-09-15T09:05:37.829Z"
   },
   {
    "duration": 7,
    "start_time": "2022-09-15T09:05:37.878Z"
   },
   {
    "duration": 7,
    "start_time": "2022-09-15T09:05:37.886Z"
   },
   {
    "duration": 9,
    "start_time": "2022-09-15T09:05:37.894Z"
   },
   {
    "duration": 13,
    "start_time": "2022-09-15T09:05:37.905Z"
   },
   {
    "duration": 3,
    "start_time": "2022-09-15T09:05:37.920Z"
   },
   {
    "duration": 7,
    "start_time": "2022-09-15T09:05:37.925Z"
   },
   {
    "duration": 63,
    "start_time": "2022-09-15T09:05:37.934Z"
   },
   {
    "duration": 8,
    "start_time": "2022-09-15T09:05:37.999Z"
   },
   {
    "duration": 6,
    "start_time": "2022-09-15T09:05:38.011Z"
   },
   {
    "duration": 7,
    "start_time": "2022-09-15T09:05:38.018Z"
   },
   {
    "duration": 53,
    "start_time": "2022-09-15T09:05:38.027Z"
   },
   {
    "duration": 3,
    "start_time": "2022-09-15T09:05:38.082Z"
   },
   {
    "duration": 296,
    "start_time": "2022-09-15T09:05:38.087Z"
   },
   {
    "duration": 21,
    "start_time": "2022-09-15T09:05:38.385Z"
   },
   {
    "duration": 7,
    "start_time": "2022-09-15T09:05:38.408Z"
   },
   {
    "duration": 7,
    "start_time": "2022-09-15T09:05:38.416Z"
   },
   {
    "duration": 54,
    "start_time": "2022-09-15T09:05:38.424Z"
   },
   {
    "duration": 6,
    "start_time": "2022-09-15T09:05:38.479Z"
   },
   {
    "duration": 22,
    "start_time": "2022-09-15T09:05:38.487Z"
   },
   {
    "duration": 5,
    "start_time": "2022-09-15T09:05:38.511Z"
   },
   {
    "duration": 23,
    "start_time": "2022-09-15T09:05:38.517Z"
   },
   {
    "duration": 239,
    "start_time": "2022-09-15T09:05:38.542Z"
   },
   {
    "duration": 208,
    "start_time": "2022-09-15T09:05:38.782Z"
   },
   {
    "duration": 270,
    "start_time": "2022-09-15T09:05:38.992Z"
   },
   {
    "duration": 225,
    "start_time": "2022-09-15T09:05:39.264Z"
   },
   {
    "duration": 207,
    "start_time": "2022-09-15T09:05:39.492Z"
   },
   {
    "duration": 188,
    "start_time": "2022-09-15T09:05:39.701Z"
   },
   {
    "duration": 192,
    "start_time": "2022-09-15T09:05:39.891Z"
   },
   {
    "duration": 197,
    "start_time": "2022-09-15T09:05:40.085Z"
   },
   {
    "duration": 204,
    "start_time": "2022-09-15T09:05:40.283Z"
   },
   {
    "duration": 390,
    "start_time": "2022-09-15T09:05:40.489Z"
   },
   {
    "duration": 332,
    "start_time": "2022-09-15T09:05:40.881Z"
   },
   {
    "duration": 379,
    "start_time": "2022-09-15T09:05:41.214Z"
   },
   {
    "duration": 426,
    "start_time": "2022-09-15T09:05:41.595Z"
   },
   {
    "duration": 549,
    "start_time": "2022-09-15T09:05:42.076Z"
   },
   {
    "duration": 132,
    "start_time": "2022-09-15T09:05:42.626Z"
   },
   {
    "duration": 21,
    "start_time": "2022-09-15T09:05:42.760Z"
   },
   {
    "duration": 506,
    "start_time": "2022-09-15T09:05:42.783Z"
   },
   {
    "duration": 168,
    "start_time": "2022-09-15T09:05:43.291Z"
   },
   {
    "duration": 192,
    "start_time": "2022-09-15T09:05:43.461Z"
   },
   {
    "duration": 172,
    "start_time": "2022-09-15T09:05:43.655Z"
   },
   {
    "duration": 185,
    "start_time": "2022-09-15T09:05:43.829Z"
   },
   {
    "duration": 167,
    "start_time": "2022-09-15T09:05:44.016Z"
   },
   {
    "duration": 200,
    "start_time": "2022-09-15T09:05:44.184Z"
   },
   {
    "duration": 293,
    "start_time": "2022-09-15T09:05:44.386Z"
   },
   {
    "duration": 178,
    "start_time": "2022-09-15T09:05:44.680Z"
   },
   {
    "duration": 35,
    "start_time": "2022-09-15T09:05:44.859Z"
   },
   {
    "duration": 188,
    "start_time": "2022-09-15T09:05:44.896Z"
   },
   {
    "duration": 88,
    "start_time": "2022-09-15T09:06:21.327Z"
   },
   {
    "duration": 1868,
    "start_time": "2022-09-15T09:06:28.116Z"
   },
   {
    "duration": 3007,
    "start_time": "2022-09-15T09:12:52.765Z"
   },
   {
    "duration": 3313,
    "start_time": "2022-09-15T09:13:27.221Z"
   },
   {
    "duration": 2779,
    "start_time": "2022-09-15T09:13:38.309Z"
   },
   {
    "duration": 2953,
    "start_time": "2022-09-15T09:24:25.115Z"
   },
   {
    "duration": 54,
    "start_time": "2022-09-15T09:31:56.666Z"
   },
   {
    "duration": 11,
    "start_time": "2022-09-15T09:32:47.905Z"
   },
   {
    "duration": 9,
    "start_time": "2022-09-15T09:32:58.670Z"
   },
   {
    "duration": 12,
    "start_time": "2022-09-15T09:33:18.707Z"
   },
   {
    "duration": 9,
    "start_time": "2022-09-15T09:33:30.426Z"
   },
   {
    "duration": 24,
    "start_time": "2022-09-15T09:49:04.426Z"
   },
   {
    "duration": 109,
    "start_time": "2022-09-15T09:49:25.966Z"
   },
   {
    "duration": 11,
    "start_time": "2022-09-15T11:12:26.402Z"
   },
   {
    "duration": 6,
    "start_time": "2022-09-15T11:12:38.679Z"
   },
   {
    "duration": 5,
    "start_time": "2022-09-15T11:13:02.415Z"
   },
   {
    "duration": 7,
    "start_time": "2022-09-15T11:13:53.200Z"
   },
   {
    "duration": 9,
    "start_time": "2022-09-15T11:23:55.220Z"
   },
   {
    "duration": 27,
    "start_time": "2022-09-15T11:30:24.651Z"
   },
   {
    "duration": 38,
    "start_time": "2022-09-15T11:30:37.244Z"
   },
   {
    "duration": 7,
    "start_time": "2022-09-15T11:31:00.111Z"
   },
   {
    "duration": 7,
    "start_time": "2022-09-15T11:31:09.961Z"
   },
   {
    "duration": 7,
    "start_time": "2022-09-15T11:31:15.067Z"
   },
   {
    "duration": 7,
    "start_time": "2022-09-15T11:31:18.847Z"
   },
   {
    "duration": 53,
    "start_time": "2022-09-15T11:31:35.005Z"
   },
   {
    "duration": 7,
    "start_time": "2022-09-15T11:31:41.463Z"
   },
   {
    "duration": 1741,
    "start_time": "2022-09-15T11:39:16.348Z"
   },
   {
    "duration": 2837,
    "start_time": "2022-09-15T11:39:23.095Z"
   },
   {
    "duration": 39,
    "start_time": "2022-09-15T11:39:41.032Z"
   },
   {
    "duration": 25,
    "start_time": "2022-09-15T11:41:44.291Z"
   },
   {
    "duration": 5,
    "start_time": "2022-09-15T11:59:40.650Z"
   },
   {
    "duration": 9,
    "start_time": "2022-09-15T11:59:43.638Z"
   },
   {
    "duration": 6,
    "start_time": "2022-09-15T11:59:44.092Z"
   },
   {
    "duration": 6,
    "start_time": "2022-09-15T11:59:44.537Z"
   },
   {
    "duration": 5,
    "start_time": "2022-09-15T11:59:45.045Z"
   },
   {
    "duration": 5,
    "start_time": "2022-09-15T11:59:45.537Z"
   },
   {
    "duration": 10,
    "start_time": "2022-09-15T11:59:47.036Z"
   },
   {
    "duration": 9,
    "start_time": "2022-09-15T12:01:28.809Z"
   },
   {
    "duration": 9,
    "start_time": "2022-09-15T12:02:01.856Z"
   },
   {
    "duration": 4,
    "start_time": "2022-09-15T12:03:15.988Z"
   },
   {
    "duration": 8,
    "start_time": "2022-09-15T12:03:35.169Z"
   },
   {
    "duration": 4,
    "start_time": "2022-09-15T12:03:59.392Z"
   },
   {
    "duration": 4,
    "start_time": "2022-09-15T12:04:22.897Z"
   },
   {
    "duration": 6,
    "start_time": "2022-09-15T12:04:23.339Z"
   },
   {
    "duration": 9,
    "start_time": "2022-09-15T12:07:05.489Z"
   },
   {
    "duration": 9,
    "start_time": "2022-09-15T12:10:20.826Z"
   },
   {
    "duration": 5,
    "start_time": "2022-09-15T12:12:12.192Z"
   },
   {
    "duration": 123,
    "start_time": "2022-09-15T12:25:19.930Z"
   },
   {
    "duration": 12,
    "start_time": "2022-09-15T12:28:02.378Z"
   },
   {
    "duration": 5,
    "start_time": "2022-09-15T12:28:29.052Z"
   },
   {
    "duration": 619,
    "start_time": "2022-09-15T12:29:12.046Z"
   },
   {
    "duration": 96,
    "start_time": "2022-09-15T12:29:12.667Z"
   },
   {
    "duration": 50,
    "start_time": "2022-09-15T12:29:12.765Z"
   },
   {
    "duration": 2131,
    "start_time": "2022-09-15T12:29:12.817Z"
   },
   {
    "duration": 16,
    "start_time": "2022-09-15T12:29:14.952Z"
   },
   {
    "duration": 33,
    "start_time": "2022-09-15T12:29:14.970Z"
   },
   {
    "duration": 7,
    "start_time": "2022-09-15T12:29:15.004Z"
   },
   {
    "duration": 26,
    "start_time": "2022-09-15T12:29:15.012Z"
   },
   {
    "duration": 47,
    "start_time": "2022-09-15T12:29:15.040Z"
   },
   {
    "duration": 39,
    "start_time": "2022-09-15T12:29:15.089Z"
   },
   {
    "duration": 11,
    "start_time": "2022-09-15T12:29:15.130Z"
   },
   {
    "duration": 18,
    "start_time": "2022-09-15T12:29:15.143Z"
   },
   {
    "duration": 9,
    "start_time": "2022-09-15T12:29:15.163Z"
   },
   {
    "duration": 23,
    "start_time": "2022-09-15T12:29:15.174Z"
   },
   {
    "duration": 18,
    "start_time": "2022-09-15T12:29:15.199Z"
   },
   {
    "duration": 15,
    "start_time": "2022-09-15T12:29:15.218Z"
   },
   {
    "duration": 15,
    "start_time": "2022-09-15T12:29:15.234Z"
   },
   {
    "duration": 11,
    "start_time": "2022-09-15T12:29:15.250Z"
   },
   {
    "duration": 6,
    "start_time": "2022-09-15T12:29:15.263Z"
   },
   {
    "duration": 18,
    "start_time": "2022-09-15T12:29:15.270Z"
   },
   {
    "duration": 6,
    "start_time": "2022-09-15T12:29:15.290Z"
   },
   {
    "duration": 5,
    "start_time": "2022-09-15T12:29:15.298Z"
   },
   {
    "duration": 20,
    "start_time": "2022-09-15T12:29:15.305Z"
   },
   {
    "duration": 13,
    "start_time": "2022-09-15T12:29:15.327Z"
   },
   {
    "duration": 4,
    "start_time": "2022-09-15T12:29:15.342Z"
   },
   {
    "duration": 13,
    "start_time": "2022-09-15T12:29:15.348Z"
   },
   {
    "duration": 20,
    "start_time": "2022-09-15T12:29:15.363Z"
   },
   {
    "duration": 19,
    "start_time": "2022-09-15T12:29:15.388Z"
   },
   {
    "duration": 17,
    "start_time": "2022-09-15T12:29:15.410Z"
   },
   {
    "duration": 21,
    "start_time": "2022-09-15T12:29:15.429Z"
   },
   {
    "duration": 21,
    "start_time": "2022-09-15T12:29:15.452Z"
   },
   {
    "duration": 20,
    "start_time": "2022-09-15T12:29:15.475Z"
   },
   {
    "duration": 18,
    "start_time": "2022-09-15T12:29:15.497Z"
   },
   {
    "duration": 15,
    "start_time": "2022-09-15T12:29:15.517Z"
   },
   {
    "duration": 16,
    "start_time": "2022-09-15T12:29:15.534Z"
   },
   {
    "duration": 16,
    "start_time": "2022-09-15T12:29:15.552Z"
   },
   {
    "duration": 41,
    "start_time": "2022-09-15T12:29:15.570Z"
   },
   {
    "duration": 141,
    "start_time": "2022-09-15T12:29:15.613Z"
   },
   {
    "duration": 3,
    "start_time": "2022-09-15T12:29:15.756Z"
   },
   {
    "duration": 33,
    "start_time": "2022-09-15T12:29:15.761Z"
   },
   {
    "duration": 4,
    "start_time": "2022-09-15T12:29:15.799Z"
   },
   {
    "duration": 42,
    "start_time": "2022-09-15T12:29:15.804Z"
   },
   {
    "duration": 4,
    "start_time": "2022-09-15T12:29:15.848Z"
   },
   {
    "duration": 17,
    "start_time": "2022-09-15T12:29:15.853Z"
   },
   {
    "duration": 35,
    "start_time": "2022-09-15T12:29:15.871Z"
   },
   {
    "duration": 14,
    "start_time": "2022-09-15T12:29:15.908Z"
   },
   {
    "duration": 18,
    "start_time": "2022-09-15T12:29:15.924Z"
   },
   {
    "duration": 12,
    "start_time": "2022-09-15T12:29:15.943Z"
   },
   {
    "duration": 34,
    "start_time": "2022-09-15T12:29:15.957Z"
   },
   {
    "duration": 4,
    "start_time": "2022-09-15T12:29:15.993Z"
   },
   {
    "duration": 308,
    "start_time": "2022-09-15T12:29:15.999Z"
   },
   {
    "duration": 20,
    "start_time": "2022-09-15T12:29:16.309Z"
   },
   {
    "duration": 9,
    "start_time": "2022-09-15T12:29:16.331Z"
   },
   {
    "duration": 12,
    "start_time": "2022-09-15T12:29:16.341Z"
   },
   {
    "duration": 35,
    "start_time": "2022-09-15T12:29:16.354Z"
   },
   {
    "duration": 9,
    "start_time": "2022-09-15T12:29:16.391Z"
   },
   {
    "duration": 29,
    "start_time": "2022-09-15T12:29:16.401Z"
   },
   {
    "duration": 7,
    "start_time": "2022-09-15T12:29:16.431Z"
   },
   {
    "duration": 34,
    "start_time": "2022-09-15T12:29:16.440Z"
   },
   {
    "duration": 242,
    "start_time": "2022-09-15T12:29:16.476Z"
   },
   {
    "duration": 213,
    "start_time": "2022-09-15T12:29:16.719Z"
   },
   {
    "duration": 305,
    "start_time": "2022-09-15T12:29:16.933Z"
   },
   {
    "duration": 210,
    "start_time": "2022-09-15T12:29:17.239Z"
   },
   {
    "duration": 222,
    "start_time": "2022-09-15T12:29:17.451Z"
   },
   {
    "duration": 192,
    "start_time": "2022-09-15T12:29:17.674Z"
   },
   {
    "duration": 184,
    "start_time": "2022-09-15T12:29:17.867Z"
   },
   {
    "duration": 199,
    "start_time": "2022-09-15T12:29:18.052Z"
   },
   {
    "duration": 211,
    "start_time": "2022-09-15T12:29:18.252Z"
   },
   {
    "duration": 205,
    "start_time": "2022-09-15T12:29:18.465Z"
   },
   {
    "duration": 186,
    "start_time": "2022-09-15T12:29:18.683Z"
   },
   {
    "duration": 166,
    "start_time": "2022-09-15T12:29:18.871Z"
   },
   {
    "duration": 197,
    "start_time": "2022-09-15T12:29:19.039Z"
   },
   {
    "duration": 320,
    "start_time": "2022-09-15T12:29:19.238Z"
   },
   {
    "duration": 97,
    "start_time": "2022-09-15T12:29:19.560Z"
   },
   {
    "duration": 11,
    "start_time": "2022-09-15T12:29:19.659Z"
   },
   {
    "duration": 521,
    "start_time": "2022-09-15T12:29:19.676Z"
   },
   {
    "duration": 206,
    "start_time": "2022-09-15T12:29:20.200Z"
   },
   {
    "duration": 217,
    "start_time": "2022-09-15T12:29:20.408Z"
   },
   {
    "duration": 189,
    "start_time": "2022-09-15T12:29:20.627Z"
   },
   {
    "duration": 196,
    "start_time": "2022-09-15T12:29:20.818Z"
   },
   {
    "duration": 173,
    "start_time": "2022-09-15T12:29:21.015Z"
   },
   {
    "duration": 178,
    "start_time": "2022-09-15T12:29:21.190Z"
   },
   {
    "duration": 297,
    "start_time": "2022-09-15T12:29:21.370Z"
   },
   {
    "duration": 181,
    "start_time": "2022-09-15T12:29:21.668Z"
   },
   {
    "duration": 38,
    "start_time": "2022-09-15T12:29:21.851Z"
   },
   {
    "duration": 188,
    "start_time": "2022-09-15T12:29:21.891Z"
   },
   {
    "duration": 12,
    "start_time": "2022-09-15T12:31:02.795Z"
   },
   {
    "duration": 124,
    "start_time": "2022-09-15T12:32:43.673Z"
   },
   {
    "duration": 9,
    "start_time": "2022-09-15T12:33:53.231Z"
   },
   {
    "duration": 16,
    "start_time": "2022-09-15T12:34:10.931Z"
   },
   {
    "duration": 12,
    "start_time": "2022-09-15T12:34:21.553Z"
   },
   {
    "duration": 9,
    "start_time": "2022-09-15T12:35:03.814Z"
   },
   {
    "duration": 12,
    "start_time": "2022-09-15T12:36:11.731Z"
   },
   {
    "duration": 17,
    "start_time": "2022-09-15T12:36:42.072Z"
   },
   {
    "duration": 19,
    "start_time": "2022-09-15T12:37:05.387Z"
   },
   {
    "duration": 12,
    "start_time": "2022-09-15T12:37:37.672Z"
   },
   {
    "duration": 114,
    "start_time": "2022-09-15T12:37:51.342Z"
   },
   {
    "duration": 18,
    "start_time": "2022-09-15T12:39:43.373Z"
   },
   {
    "duration": 14,
    "start_time": "2022-09-15T12:39:52.413Z"
   },
   {
    "duration": 14,
    "start_time": "2022-09-15T12:40:01.141Z"
   },
   {
    "duration": 17,
    "start_time": "2022-09-15T12:40:12.073Z"
   },
   {
    "duration": 12,
    "start_time": "2022-09-15T12:40:39.253Z"
   },
   {
    "duration": 12,
    "start_time": "2022-09-15T12:40:54.633Z"
   },
   {
    "duration": 9,
    "start_time": "2022-09-15T12:41:46.292Z"
   },
   {
    "duration": 111,
    "start_time": "2022-09-15T12:42:09.293Z"
   },
   {
    "duration": 15,
    "start_time": "2022-09-15T12:44:28.793Z"
   },
   {
    "duration": 11,
    "start_time": "2022-09-15T12:46:11.074Z"
   },
   {
    "duration": 8,
    "start_time": "2022-09-15T12:46:19.252Z"
   },
   {
    "duration": 13,
    "start_time": "2022-09-15T12:51:22.895Z"
   },
   {
    "duration": 9,
    "start_time": "2022-09-15T12:51:26.331Z"
   },
   {
    "duration": 12,
    "start_time": "2022-09-15T12:57:41.459Z"
   },
   {
    "duration": 102,
    "start_time": "2022-09-15T12:57:43.367Z"
   },
   {
    "duration": 186,
    "start_time": "2022-09-15T13:12:19.992Z"
   },
   {
    "duration": 193,
    "start_time": "2022-09-15T13:12:31.232Z"
   },
   {
    "duration": 213,
    "start_time": "2022-09-15T13:12:39.432Z"
   },
   {
    "duration": 254,
    "start_time": "2022-09-15T13:12:45.331Z"
   },
   {
    "duration": 320,
    "start_time": "2022-09-15T13:13:36.812Z"
   },
   {
    "duration": 194,
    "start_time": "2022-09-15T13:13:49.872Z"
   },
   {
    "duration": 192,
    "start_time": "2022-09-15T13:13:55.992Z"
   },
   {
    "duration": 196,
    "start_time": "2022-09-15T13:14:32.452Z"
   },
   {
    "duration": 210,
    "start_time": "2022-09-15T13:14:44.494Z"
   },
   {
    "duration": 209,
    "start_time": "2022-09-15T13:15:01.712Z"
   },
   {
    "duration": 255,
    "start_time": "2022-09-15T13:15:45.221Z"
   },
   {
    "duration": 196,
    "start_time": "2022-09-15T13:15:58.012Z"
   },
   {
    "duration": 9,
    "start_time": "2022-09-15T13:23:51.944Z"
   },
   {
    "duration": 9,
    "start_time": "2022-09-15T13:24:07.854Z"
   },
   {
    "duration": 11,
    "start_time": "2022-09-15T13:24:39.313Z"
   },
   {
    "duration": 158,
    "start_time": "2022-09-15T13:25:01.531Z"
   },
   {
    "duration": 110,
    "start_time": "2022-09-15T13:25:19.174Z"
   },
   {
    "duration": 10,
    "start_time": "2022-09-15T13:27:53.663Z"
   },
   {
    "duration": 170,
    "start_time": "2022-09-15T13:27:55.575Z"
   },
   {
    "duration": 12,
    "start_time": "2022-09-15T13:29:24.494Z"
   },
   {
    "duration": 12,
    "start_time": "2022-09-15T13:29:42.244Z"
   },
   {
    "duration": 9,
    "start_time": "2022-09-15T13:30:05.564Z"
   },
   {
    "duration": 61,
    "start_time": "2022-09-15T13:30:30.254Z"
   },
   {
    "duration": 10,
    "start_time": "2022-09-15T13:32:29.114Z"
   },
   {
    "duration": 5,
    "start_time": "2022-09-15T13:35:41.295Z"
   },
   {
    "duration": 6,
    "start_time": "2022-09-15T13:35:50.704Z"
   },
   {
    "duration": 9,
    "start_time": "2022-09-15T13:36:17.616Z"
   },
   {
    "duration": 53,
    "start_time": "2022-09-15T13:40:24.595Z"
   },
   {
    "duration": 83,
    "start_time": "2022-09-15T13:40:31.855Z"
   },
   {
    "duration": 1001,
    "start_time": "2022-09-15T13:42:21.114Z"
   },
   {
    "duration": 9,
    "start_time": "2022-09-15T13:42:33.922Z"
   },
   {
    "duration": 283,
    "start_time": "2022-09-15T13:43:56.874Z"
   },
   {
    "duration": 144,
    "start_time": "2022-09-15T13:44:06.295Z"
   },
   {
    "duration": 144,
    "start_time": "2022-09-15T13:44:10.536Z"
   },
   {
    "duration": 140,
    "start_time": "2022-09-15T13:44:20.774Z"
   },
   {
    "duration": 129,
    "start_time": "2022-09-15T13:44:53.885Z"
   },
   {
    "duration": 15,
    "start_time": "2022-09-15T13:46:24.453Z"
   },
   {
    "duration": 127,
    "start_time": "2022-09-15T13:46:49.021Z"
   },
   {
    "duration": 144,
    "start_time": "2022-09-15T13:47:15.552Z"
   },
   {
    "duration": 139,
    "start_time": "2022-09-15T13:47:21.012Z"
   },
   {
    "duration": 207,
    "start_time": "2022-09-15T14:01:26.545Z"
   },
   {
    "duration": 182,
    "start_time": "2022-09-15T14:20:54.345Z"
   },
   {
    "duration": 194,
    "start_time": "2022-09-15T14:21:31.474Z"
   },
   {
    "duration": 184,
    "start_time": "2022-09-15T14:21:37.573Z"
   },
   {
    "duration": 182,
    "start_time": "2022-09-15T14:21:52.161Z"
   },
   {
    "duration": 307,
    "start_time": "2022-09-15T14:22:20.398Z"
   },
   {
    "duration": 207,
    "start_time": "2022-09-15T14:22:49.257Z"
   },
   {
    "duration": 196,
    "start_time": "2022-09-15T14:22:56.554Z"
   },
   {
    "duration": 176,
    "start_time": "2022-09-15T14:23:22.473Z"
   },
   {
    "duration": 180,
    "start_time": "2022-09-15T14:23:57.627Z"
   },
   {
    "duration": 186,
    "start_time": "2022-09-15T14:24:17.016Z"
   },
   {
    "duration": 184,
    "start_time": "2022-09-15T14:24:37.955Z"
   },
   {
    "duration": 183,
    "start_time": "2022-09-15T14:24:59.506Z"
   },
   {
    "duration": 173,
    "start_time": "2022-09-15T14:26:05.920Z"
   },
   {
    "duration": 584,
    "start_time": "2022-09-15T17:58:59.513Z"
   },
   {
    "duration": 84,
    "start_time": "2022-09-15T17:59:00.099Z"
   },
   {
    "duration": 42,
    "start_time": "2022-09-15T17:59:00.184Z"
   },
   {
    "duration": 1756,
    "start_time": "2022-09-15T17:59:00.228Z"
   },
   {
    "duration": 16,
    "start_time": "2022-09-15T17:59:01.986Z"
   },
   {
    "duration": 22,
    "start_time": "2022-09-15T17:59:02.003Z"
   },
   {
    "duration": 5,
    "start_time": "2022-09-15T17:59:02.027Z"
   },
   {
    "duration": 10,
    "start_time": "2022-09-15T17:59:02.034Z"
   },
   {
    "duration": 36,
    "start_time": "2022-09-15T17:59:02.045Z"
   },
   {
    "duration": 6,
    "start_time": "2022-09-15T17:59:02.083Z"
   },
   {
    "duration": 9,
    "start_time": "2022-09-15T17:59:02.091Z"
   },
   {
    "duration": 11,
    "start_time": "2022-09-15T17:59:02.101Z"
   },
   {
    "duration": 3,
    "start_time": "2022-09-15T17:59:02.113Z"
   },
   {
    "duration": 4,
    "start_time": "2022-09-15T17:59:02.118Z"
   },
   {
    "duration": 8,
    "start_time": "2022-09-15T17:59:02.124Z"
   },
   {
    "duration": 9,
    "start_time": "2022-09-15T17:59:02.133Z"
   },
   {
    "duration": 8,
    "start_time": "2022-09-15T17:59:02.143Z"
   },
   {
    "duration": 8,
    "start_time": "2022-09-15T17:59:02.152Z"
   },
   {
    "duration": 5,
    "start_time": "2022-09-15T17:59:02.177Z"
   },
   {
    "duration": 12,
    "start_time": "2022-09-15T17:59:02.183Z"
   },
   {
    "duration": 10,
    "start_time": "2022-09-15T17:59:02.197Z"
   },
   {
    "duration": 10,
    "start_time": "2022-09-15T17:59:02.208Z"
   },
   {
    "duration": 19,
    "start_time": "2022-09-15T17:59:02.219Z"
   },
   {
    "duration": 12,
    "start_time": "2022-09-15T17:59:02.240Z"
   },
   {
    "duration": 4,
    "start_time": "2022-09-15T17:59:02.253Z"
   },
   {
    "duration": 11,
    "start_time": "2022-09-15T17:59:02.258Z"
   },
   {
    "duration": 6,
    "start_time": "2022-09-15T17:59:02.271Z"
   },
   {
    "duration": 9,
    "start_time": "2022-09-15T17:59:02.280Z"
   },
   {
    "duration": 9,
    "start_time": "2022-09-15T17:59:02.290Z"
   },
   {
    "duration": 8,
    "start_time": "2022-09-15T17:59:02.301Z"
   },
   {
    "duration": 6,
    "start_time": "2022-09-15T17:59:02.310Z"
   },
   {
    "duration": 6,
    "start_time": "2022-09-15T17:59:02.317Z"
   },
   {
    "duration": 8,
    "start_time": "2022-09-15T17:59:02.324Z"
   },
   {
    "duration": 30,
    "start_time": "2022-09-15T17:59:02.334Z"
   },
   {
    "duration": 21,
    "start_time": "2022-09-15T17:59:02.366Z"
   },
   {
    "duration": 11,
    "start_time": "2022-09-15T17:59:02.388Z"
   },
   {
    "duration": 9,
    "start_time": "2022-09-15T17:59:02.401Z"
   },
   {
    "duration": 103,
    "start_time": "2022-09-15T17:59:02.411Z"
   },
   {
    "duration": 10,
    "start_time": "2022-09-15T17:59:02.516Z"
   },
   {
    "duration": 169,
    "start_time": "2022-09-15T17:59:02.527Z"
   },
   {
    "duration": 9,
    "start_time": "2022-09-15T17:59:02.697Z"
   },
   {
    "duration": 9,
    "start_time": "2022-09-15T17:59:02.708Z"
   },
   {
    "duration": 9,
    "start_time": "2022-09-15T17:59:02.720Z"
   },
   {
    "duration": 130,
    "start_time": "2022-09-15T17:59:02.730Z"
   },
   {
    "duration": 4,
    "start_time": "2022-09-15T17:59:02.862Z"
   },
   {
    "duration": 19,
    "start_time": "2022-09-15T17:59:02.867Z"
   },
   {
    "duration": 4,
    "start_time": "2022-09-15T17:59:02.888Z"
   },
   {
    "duration": 10,
    "start_time": "2022-09-15T17:59:02.893Z"
   },
   {
    "duration": 113,
    "start_time": "2022-09-15T17:59:02.904Z"
   },
   {
    "duration": 10,
    "start_time": "2022-09-15T17:59:03.019Z"
   },
   {
    "duration": 10,
    "start_time": "2022-09-15T17:59:03.030Z"
   },
   {
    "duration": 110,
    "start_time": "2022-09-15T17:59:03.041Z"
   },
   {
    "duration": 11,
    "start_time": "2022-09-15T17:59:03.152Z"
   },
   {
    "duration": 9,
    "start_time": "2022-09-15T17:59:03.177Z"
   },
   {
    "duration": 102,
    "start_time": "2022-09-15T17:59:03.187Z"
   },
   {
    "duration": 13,
    "start_time": "2022-09-15T17:59:03.291Z"
   },
   {
    "duration": 4,
    "start_time": "2022-09-15T17:59:03.305Z"
   },
   {
    "duration": 4,
    "start_time": "2022-09-15T17:59:03.311Z"
   },
   {
    "duration": 30,
    "start_time": "2022-09-15T17:59:03.317Z"
   },
   {
    "duration": 31,
    "start_time": "2022-09-15T17:59:03.348Z"
   },
   {
    "duration": 5,
    "start_time": "2022-09-15T17:59:03.381Z"
   },
   {
    "duration": 5,
    "start_time": "2022-09-15T17:59:03.387Z"
   },
   {
    "duration": 96,
    "start_time": "2022-09-15T17:59:03.393Z"
   },
   {
    "duration": 3,
    "start_time": "2022-09-15T17:59:03.491Z"
   },
   {
    "duration": 255,
    "start_time": "2022-09-15T17:59:03.495Z"
   },
   {
    "duration": 20,
    "start_time": "2022-09-15T17:59:03.751Z"
   },
   {
    "duration": 6,
    "start_time": "2022-09-15T17:59:03.777Z"
   },
   {
    "duration": 5,
    "start_time": "2022-09-15T17:59:03.785Z"
   },
   {
    "duration": 25,
    "start_time": "2022-09-15T17:59:03.792Z"
   },
   {
    "duration": 15,
    "start_time": "2022-09-15T17:59:03.819Z"
   },
   {
    "duration": 22,
    "start_time": "2022-09-15T17:59:03.838Z"
   },
   {
    "duration": 22,
    "start_time": "2022-09-15T17:59:03.861Z"
   },
   {
    "duration": 19,
    "start_time": "2022-09-15T17:59:03.891Z"
   },
   {
    "duration": 194,
    "start_time": "2022-09-15T17:59:03.911Z"
   },
   {
    "duration": 188,
    "start_time": "2022-09-15T17:59:04.107Z"
   },
   {
    "duration": 178,
    "start_time": "2022-09-15T17:59:04.297Z"
   },
   {
    "duration": 178,
    "start_time": "2022-09-15T17:59:04.478Z"
   },
   {
    "duration": 181,
    "start_time": "2022-09-15T17:59:04.658Z"
   },
   {
    "duration": 170,
    "start_time": "2022-09-15T17:59:04.840Z"
   },
   {
    "duration": 168,
    "start_time": "2022-09-15T17:59:05.011Z"
   },
   {
    "duration": 192,
    "start_time": "2022-09-15T17:59:05.181Z"
   },
   {
    "duration": 329,
    "start_time": "2022-09-15T17:59:05.381Z"
   },
   {
    "duration": 176,
    "start_time": "2022-09-15T17:59:05.711Z"
   },
   {
    "duration": 189,
    "start_time": "2022-09-15T17:59:05.888Z"
   },
   {
    "duration": 156,
    "start_time": "2022-09-15T17:59:06.079Z"
   },
   {
    "duration": 165,
    "start_time": "2022-09-15T17:59:06.236Z"
   },
   {
    "duration": 155,
    "start_time": "2022-09-15T17:59:06.403Z"
   },
   {
    "duration": 132,
    "start_time": "2022-09-15T17:59:06.560Z"
   },
   {
    "duration": 84,
    "start_time": "2022-09-15T17:59:06.694Z"
   },
   {
    "duration": 10,
    "start_time": "2022-09-15T17:59:06.780Z"
   },
   {
    "duration": 430,
    "start_time": "2022-09-15T17:59:06.792Z"
   },
   {
    "duration": 297,
    "start_time": "2022-09-15T17:59:07.224Z"
   },
   {
    "duration": 223,
    "start_time": "2022-09-15T17:59:07.522Z"
   },
   {
    "duration": 194,
    "start_time": "2022-09-15T17:59:07.747Z"
   },
   {
    "duration": 164,
    "start_time": "2022-09-15T17:59:07.944Z"
   },
   {
    "duration": 153,
    "start_time": "2022-09-15T17:59:08.110Z"
   },
   {
    "duration": 164,
    "start_time": "2022-09-15T17:59:08.265Z"
   },
   {
    "duration": 177,
    "start_time": "2022-09-15T17:59:08.430Z"
   },
   {
    "duration": 163,
    "start_time": "2022-09-15T17:59:08.609Z"
   },
   {
    "duration": 22,
    "start_time": "2022-09-15T17:59:08.777Z"
   },
   {
    "duration": 159,
    "start_time": "2022-09-15T17:59:08.801Z"
   },
   {
    "duration": 2448,
    "start_time": "2022-09-15T17:59:58.596Z"
   },
   {
    "duration": 87,
    "start_time": "2022-09-15T18:01:30.116Z"
   },
   {
    "duration": 89,
    "start_time": "2022-09-15T18:01:33.011Z"
   },
   {
    "duration": 220,
    "start_time": "2022-09-15T18:01:35.671Z"
   },
   {
    "duration": 91,
    "start_time": "2022-09-15T18:01:40.706Z"
   }
  ],
  "kernelspec": {
   "display_name": "Python 3 (ipykernel)",
   "language": "python",
   "name": "python3"
  },
  "language_info": {
   "codemirror_mode": {
    "name": "ipython",
    "version": 3
   },
   "file_extension": ".py",
   "mimetype": "text/x-python",
   "name": "python",
   "nbconvert_exporter": "python",
   "pygments_lexer": "ipython3",
   "version": "3.9.12"
  },
  "toc": {
   "base_numbering": 1,
   "nav_menu": {},
   "number_sections": true,
   "sideBar": true,
   "skip_h1_title": true,
   "title_cell": "Table of Contents",
   "title_sidebar": "Contents",
   "toc_cell": false,
   "toc_position": {
    "height": "calc(100% - 180px)",
    "left": "10px",
    "top": "150px",
    "width": "289.438px"
   },
   "toc_section_display": true,
   "toc_window_display": true
  }
 },
 "nbformat": 4,
 "nbformat_minor": 2
}
